{
 "cells": [
  {
   "cell_type": "markdown",
   "id": "40798f90-c6d4-418f-832b-390c711b306e",
   "metadata": {},
   "source": [
    "# phs002267.v1 - CalTech"
   ]
  },
  {
   "cell_type": "code",
   "execution_count": null,
   "id": "65f08289-536a-4511-8190-b2aecb20a92d",
   "metadata": {},
   "outputs": [],
   "source": [
    "import hubmapdbgap\n",
    "import hubmapbags\n",
    "import requests\n",
    "import pandas as pd\n",
    "from pprint import pprint\n",
    "\n",
    "token = 'TOKEN'\n",
    "\n",
    "def get_hubmap_ids(group_name: str) -> dict:\n",
    "    url = \"https://search.api.hubmapconsortium.org/v3/search\"\n",
    "\n",
    "    headers = {\"Accept\": \"application/json\"}\n",
    "\n",
    "    body = {\n",
    "        \"size\": 500,\n",
    "        \"_source\": {\n",
    "            \"include\": [\"hubmap_id\", \"uuid\", \"group_name\", \"dataset_type\", \"status\", \"data_types\",\"contains_human_genetic_sequences\"]\n",
    "        },\n",
    "        \"query\": {\n",
    "            \"bool\": {\n",
    "                \"must\": [{\"match_phrase\": {\"group_name\": group_name}}],\n",
    "                \"filter\": [{\"match\": {\"entity_type\": \"Dataset\"}}],\n",
    "            }\n",
    "        },\n",
    "    }\n",
    "\n",
    "    answer = requests.post(url=url, headers=headers, json=body).json()\n",
    "\n",
    "    if \"error\" in answer.keys():\n",
    "        warning(answer[\"error\"])\n",
    "        return None\n",
    "\n",
    "    data = answer[\"hits\"][\"hits\"]\n",
    "\n",
    "    results = []\n",
    "    for datum in data:\n",
    "        results.append(\n",
    "            {\n",
    "                \"uuid\": datum[\"_source\"][\"uuid\"],\n",
    "                \"hubmap_id\": datum[\"_source\"][\"hubmap_id\"],\n",
    "                \"status\": datum[\"_source\"][\"status\"],\n",
    "                \"dataset_type\": datum[\"_source\"][\"dataset_type\"],\n",
    "                \"is_protected\": datum[\"_source\"][\"contains_human_genetic_sequences\"],\n",
    "            }\n",
    "        )\n",
    "    \n",
    "    return results\n",
    "\n",
    "group_name = 'California Institute of Technology TMC'\n",
    "dbgap_study_id = 'phs002267'\n",
    "data = get_hubmap_ids(group_name)\n",
    "df = pd.DataFrame(data)\n",
    "df = df[(df[\"is_protected\"]==True) & (df[\"status\"]==\"Published\")]\n",
    "\n",
    "hubmap_ids = list(df['hubmap_id'])\n",
    "print(f'List of total datasets to include in study is {len(hubmap_ids)}')"
   ]
  },
  {
   "cell_type": "code",
   "execution_count": null,
   "id": "c5d85dd1-30df-4ac6-9d77-90629f97f273",
   "metadata": {},
   "outputs": [],
   "source": [
    "data = hubmapdbgap.create.submission(hubmap_ids, dbgap_study_id=dbgap_study_id, token=token, prepend_sample_id=True )"
   ]
  }
 ],
 "metadata": {
  "kernelspec": {
   "display_name": "Python 3 (ipykernel)",
   "language": "python",
   "name": "python3"
  },
  "language_info": {
   "codemirror_mode": {
    "name": "ipython",
    "version": 3
   },
   "file_extension": ".py",
   "mimetype": "text/x-python",
   "name": "python",
   "nbconvert_exporter": "python",
   "pygments_lexer": "ipython3",
   "version": "3.12.7"
  }
 },
 "nbformat": 4,
 "nbformat_minor": 5
}
