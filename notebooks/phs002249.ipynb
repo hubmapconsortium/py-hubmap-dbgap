{
 "cells": [
  {
   "cell_type": "code",
   "execution_count": null,
   "id": "abc3d8e7-f120-4bee-9c2a-9bb5906d251e",
   "metadata": {},
   "outputs": [],
   "source": [
    "import hubmapdbgap as dbgap\n",
    "\n",
    "dbgap_study_id = 'phs002249'\n",
    "\n",
    "hubmap_ids = ['HBM946.HHKL.578',\n",
    "'HBM893.LCWM.423',\n",
    "'HBM634.HGLT.739',\n",
    "'HBM264.QCGR.632',\n",
    "'HBM454.ZWSD.895',\n",
    "'HBM366.TWHT.638',\n",
    "'HBM379.MLVH.522',\n",
    "'HBM233.GVDL.962',\n",
    "'HBM954.PCBD.364',\n",
    "'HBM875.LBGV.674',\n",
    "'HBM577.NRCL.952',\n",
    "'HBM848.VLZL.329',\n",
    "'HBM723.SFNS.898',\n",
    "'HBM444.XJKC.552',\n",
    "'HBM733.SLXV.683',\n",
    "'HBM756.GJDX.884',\n",
    "'HBM254.SXCB.872',\n",
    "'HBM656.ZCCL.743',\n",
    "'HBM653.SPBN.555',\n",
    "'HBM323.JGNJ.947',\n",
    "'HBM672.XGNL.299',\n",
    "'HBM283.XXQN.824',\n",
    "'HBM534.XNJK.939',\n",
    "'HBM782.XQRG.998',\n",
    "'HBM469.MMFJ.248',\n",
    "'HBM666.QBKB.629',\n",
    "'HBM422.GKTR.735',\n",
    "'HBM688.DRXP.369',\n",
    "'HBM999.NRRQ.328',\n",
    "'HBM473.HNPK.434',\n",
    "'HBM855.VBLX.337',\n",
    "'HBM975.DJNJ.667',\n",
    "'HBM638.SQBD.338',\n",
    "'HBM563.PTWZ.467',\n",
    "'HBM398.THRG.589',\n",
    "'HBM726.DDNW.235']"
   ]
  }
 ],
 "metadata": {
  "kernelspec": {
   "display_name": "Python 3 (ipykernel)",
   "language": "python",
   "name": "python3"
  },
  "language_info": {
   "codemirror_mode": {
    "name": "ipython",
    "version": 3
   },
   "file_extension": ".py",
   "mimetype": "text/x-python",
   "name": "python",
   "nbconvert_exporter": "python",
   "pygments_lexer": "ipython3",
   "version": "3.9.7"
  }
 },
 "nbformat": 4,
 "nbformat_minor": 5
}
