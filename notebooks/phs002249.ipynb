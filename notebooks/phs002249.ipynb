{
 "cells": [
  {
   "cell_type": "markdown",
   "id": "b92fe570-b5ed-42af-bb2f-bc0d0a835b5f",
   "metadata": {},
   "source": [
    "# phs002249 - University of California San Diego\n",
    "## HubMAP: KULMAP - Human Kidney, Urinary Tract, and Lung Mapping Center\n",
    "The major goal of the Human Kidney, Urinary Tract, and Lung Mapping Center (KULMAP) is to generate multi-omic and spatially resolved molecular anatomical maps of the human bladder, ureter and kidneys (BUKMAP) and the lung airways and parenchyma (LAPMAP) at a single cell resolution. This entails sequencing of the transcriptomes and epigenomes of dissociated single cells in a massively parallel manner. These profiles will then inform on highly multiplexed RNA in situ imaging for spatial mapping of hundreds of molecular targets in the tissue sections, at a subcellular resolution. These spatial molecular maps will serve as scaffolds for computational registration of cell types and the associated transcriptome/chromatin maps to the tissue space. The combination of sequencing single dissociated cells and multiplexed in situ mapping will allow the construction of detailed spatial maps for these large organs.\n",
    "\n",
    "### Principal Investigator\n",
    "* Kun Zhang. University of California, San Diego, La Jolla, CA, USA."
   ]
  },
  {
   "cell_type": "code",
   "execution_count": 1,
   "id": "abc3d8e7-f120-4bee-9c2a-9bb5906d251e",
   "metadata": {},
   "outputs": [],
   "source": [
    "import hubmapdbgap\n",
    "import hubmapbags\n",
    "\n",
    "dbgap_study_id = 'phs002249'\n",
    "token = '<this-is-my-token>'"
   ]
  },
  {
   "cell_type": "code",
   "execution_count": 2,
   "id": "bfc1e9f8-ac35-4137-a764-b14dad913506",
   "metadata": {},
   "outputs": [],
   "source": [
    "# hubmapbags.utilities.clean()\n",
    "df = hubmapbags.reports.daily(token=token)\n",
    "\n",
    "df = df[(df['status']=='Published') & (df['dataset_type']=='Primary') & (df['is_protected']==True)]\n",
    "df = df[(df['group_name']=='Broad Institute RTI') | (df['group_name']=='University of California San Diego TMC')]\n",
    "\n",
    "#need to figure out why there are duplicate values\n",
    "df = df.drop_duplicates(subset=['hubmap_id'])"
   ]
  },
  {
   "cell_type": "code",
   "execution_count": 3,
   "id": "6d6a7a87-1415-4599-8eac-e10615b40d30",
   "metadata": {},
   "outputs": [
    {
     "name": "stdout",
     "output_type": "stream",
     "text": [
      "List of total datasets to include in study is 448\n",
      "List of total datasets belonging to UCSD is 406\n",
      "List of total datasets belonging to Broad is 42\n"
     ]
    },
    {
     "data": {
      "text/html": [
       "<div>\n",
       "<style scoped>\n",
       "    .dataframe tbody tr th:only-of-type {\n",
       "        vertical-align: middle;\n",
       "    }\n",
       "\n",
       "    .dataframe tbody tr th {\n",
       "        vertical-align: top;\n",
       "    }\n",
       "\n",
       "    .dataframe thead th {\n",
       "        text-align: right;\n",
       "    }\n",
       "</style>\n",
       "<table border=\"1\" class=\"dataframe\">\n",
       "  <thead>\n",
       "    <tr style=\"text-align: right;\">\n",
       "      <th></th>\n",
       "      <th>uuid</th>\n",
       "      <th>hubmap_id</th>\n",
       "      <th>status</th>\n",
       "      <th>group_name</th>\n",
       "      <th>data_type</th>\n",
       "      <th>dataset_type</th>\n",
       "      <th>created_datetime</th>\n",
       "      <th>published_datetime</th>\n",
       "      <th>is_protected</th>\n",
       "    </tr>\n",
       "  </thead>\n",
       "  <tbody>\n",
       "    <tr>\n",
       "      <th>300</th>\n",
       "      <td>68cd0ff83bac93597b4440d3efb1c23f</td>\n",
       "      <td>HBM643.VTBF.566</td>\n",
       "      <td>Published</td>\n",
       "      <td>University of California San Diego TMC</td>\n",
       "      <td>['snRNAseq-10xGenomics-v3']</td>\n",
       "      <td>Primary</td>\n",
       "      <td>2022-03-14 09:14:03.638</td>\n",
       "      <td>2023-06-12 10:32:40.898</td>\n",
       "      <td>True</td>\n",
       "    </tr>\n",
       "    <tr>\n",
       "      <th>302</th>\n",
       "      <td>9e9ae0c61dff51c133e201d33e4d231f</td>\n",
       "      <td>HBM777.JKQM.678</td>\n",
       "      <td>Published</td>\n",
       "      <td>University of California San Diego TMC</td>\n",
       "      <td>['snRNAseq-10xGenomics-v3']</td>\n",
       "      <td>Primary</td>\n",
       "      <td>2022-03-14 09:14:04.984</td>\n",
       "      <td>2023-06-12 10:32:36.335</td>\n",
       "      <td>True</td>\n",
       "    </tr>\n",
       "    <tr>\n",
       "      <th>304</th>\n",
       "      <td>5ba391d3a93155bf2111df6798206206</td>\n",
       "      <td>HBM233.HFFF.796</td>\n",
       "      <td>Published</td>\n",
       "      <td>University of California San Diego TMC</td>\n",
       "      <td>['snRNAseq-10xGenomics-v3']</td>\n",
       "      <td>Primary</td>\n",
       "      <td>2022-06-24 12:46:20.188</td>\n",
       "      <td>2023-06-12 10:32:31.785</td>\n",
       "      <td>True</td>\n",
       "    </tr>\n",
       "    <tr>\n",
       "      <th>306</th>\n",
       "      <td>091dca3dc1ecd7c19ab3e3a5d3a67d6b</td>\n",
       "      <td>HBM555.TNNT.434</td>\n",
       "      <td>Published</td>\n",
       "      <td>University of California San Diego TMC</td>\n",
       "      <td>['snRNAseq-10xGenomics-v3']</td>\n",
       "      <td>Primary</td>\n",
       "      <td>2022-06-24 12:46:22.118</td>\n",
       "      <td>2023-06-12 10:32:27.499</td>\n",
       "      <td>True</td>\n",
       "    </tr>\n",
       "    <tr>\n",
       "      <th>308</th>\n",
       "      <td>18ec0bb859d2a0422b68f2f6491a7e15</td>\n",
       "      <td>HBM449.JKGC.452</td>\n",
       "      <td>Published</td>\n",
       "      <td>University of California San Diego TMC</td>\n",
       "      <td>['snRNAseq-10xGenomics-v3']</td>\n",
       "      <td>Primary</td>\n",
       "      <td>2022-06-24 12:46:03.736</td>\n",
       "      <td>2023-06-12 10:32:22.621</td>\n",
       "      <td>True</td>\n",
       "    </tr>\n",
       "    <tr>\n",
       "      <th>...</th>\n",
       "      <td>...</td>\n",
       "      <td>...</td>\n",
       "      <td>...</td>\n",
       "      <td>...</td>\n",
       "      <td>...</td>\n",
       "      <td>...</td>\n",
       "      <td>...</td>\n",
       "      <td>...</td>\n",
       "      <td>...</td>\n",
       "    </tr>\n",
       "    <tr>\n",
       "      <th>2126</th>\n",
       "      <td>059d18392b5a8805337a0c8ef5d19b46</td>\n",
       "      <td>HBM455.ZPNN.623</td>\n",
       "      <td>Published</td>\n",
       "      <td>University of California San Diego TMC</td>\n",
       "      <td>['SNARE-ATACseq2']</td>\n",
       "      <td>Primary</td>\n",
       "      <td>2020-01-02 12:12:41.630</td>\n",
       "      <td>2020-08-22 13:56:36.091</td>\n",
       "      <td>True</td>\n",
       "    </tr>\n",
       "    <tr>\n",
       "      <th>2127</th>\n",
       "      <td>055730a8c5486ec9bf66af90102e5626</td>\n",
       "      <td>HBM396.JHNS.692</td>\n",
       "      <td>Published</td>\n",
       "      <td>University of California San Diego TMC</td>\n",
       "      <td>['SNARE-RNAseq2']</td>\n",
       "      <td>Primary</td>\n",
       "      <td>2020-07-20 15:20:03.237</td>\n",
       "      <td>2020-08-22 13:56:35.794</td>\n",
       "      <td>True</td>\n",
       "    </tr>\n",
       "    <tr>\n",
       "      <th>2128</th>\n",
       "      <td>04e5fe708a31a40726cb204908cd5479</td>\n",
       "      <td>HBM524.DVNF.223</td>\n",
       "      <td>Published</td>\n",
       "      <td>University of California San Diego TMC</td>\n",
       "      <td>['SNARE-ATACseq2']</td>\n",
       "      <td>Primary</td>\n",
       "      <td>2020-07-10 14:31:58.291</td>\n",
       "      <td>2020-08-22 13:56:35.490</td>\n",
       "      <td>True</td>\n",
       "    </tr>\n",
       "    <tr>\n",
       "      <th>2129</th>\n",
       "      <td>048723fd5863d45d8a8e867f21e8af9f</td>\n",
       "      <td>HBM955.DXVQ.765</td>\n",
       "      <td>Published</td>\n",
       "      <td>University of California San Diego TMC</td>\n",
       "      <td>['SNARE-RNAseq2']</td>\n",
       "      <td>Primary</td>\n",
       "      <td>2020-07-20 15:19:59.022</td>\n",
       "      <td>2020-08-22 13:56:34.992</td>\n",
       "      <td>True</td>\n",
       "    </tr>\n",
       "    <tr>\n",
       "      <th>2130</th>\n",
       "      <td>03e1ae44e4c4a92ded0c1960336b83af</td>\n",
       "      <td>HBM535.XQDS.238</td>\n",
       "      <td>Published</td>\n",
       "      <td>University of California San Diego TMC</td>\n",
       "      <td>['SNARE-RNAseq2']</td>\n",
       "      <td>Primary</td>\n",
       "      <td>2020-07-20 15:19:46.252</td>\n",
       "      <td>2020-08-22 13:56:34.431</td>\n",
       "      <td>True</td>\n",
       "    </tr>\n",
       "  </tbody>\n",
       "</table>\n",
       "<p>448 rows × 9 columns</p>\n",
       "</div>"
      ],
      "text/plain": [
       "                                  uuid        hubmap_id     status  \\\n",
       "300   68cd0ff83bac93597b4440d3efb1c23f  HBM643.VTBF.566  Published   \n",
       "302   9e9ae0c61dff51c133e201d33e4d231f  HBM777.JKQM.678  Published   \n",
       "304   5ba391d3a93155bf2111df6798206206  HBM233.HFFF.796  Published   \n",
       "306   091dca3dc1ecd7c19ab3e3a5d3a67d6b  HBM555.TNNT.434  Published   \n",
       "308   18ec0bb859d2a0422b68f2f6491a7e15  HBM449.JKGC.452  Published   \n",
       "...                                ...              ...        ...   \n",
       "2126  059d18392b5a8805337a0c8ef5d19b46  HBM455.ZPNN.623  Published   \n",
       "2127  055730a8c5486ec9bf66af90102e5626  HBM396.JHNS.692  Published   \n",
       "2128  04e5fe708a31a40726cb204908cd5479  HBM524.DVNF.223  Published   \n",
       "2129  048723fd5863d45d8a8e867f21e8af9f  HBM955.DXVQ.765  Published   \n",
       "2130  03e1ae44e4c4a92ded0c1960336b83af  HBM535.XQDS.238  Published   \n",
       "\n",
       "                                  group_name                    data_type  \\\n",
       "300   University of California San Diego TMC  ['snRNAseq-10xGenomics-v3']   \n",
       "302   University of California San Diego TMC  ['snRNAseq-10xGenomics-v3']   \n",
       "304   University of California San Diego TMC  ['snRNAseq-10xGenomics-v3']   \n",
       "306   University of California San Diego TMC  ['snRNAseq-10xGenomics-v3']   \n",
       "308   University of California San Diego TMC  ['snRNAseq-10xGenomics-v3']   \n",
       "...                                      ...                          ...   \n",
       "2126  University of California San Diego TMC           ['SNARE-ATACseq2']   \n",
       "2127  University of California San Diego TMC            ['SNARE-RNAseq2']   \n",
       "2128  University of California San Diego TMC           ['SNARE-ATACseq2']   \n",
       "2129  University of California San Diego TMC            ['SNARE-RNAseq2']   \n",
       "2130  University of California San Diego TMC            ['SNARE-RNAseq2']   \n",
       "\n",
       "     dataset_type         created_datetime       published_datetime  \\\n",
       "300       Primary  2022-03-14 09:14:03.638  2023-06-12 10:32:40.898   \n",
       "302       Primary  2022-03-14 09:14:04.984  2023-06-12 10:32:36.335   \n",
       "304       Primary  2022-06-24 12:46:20.188  2023-06-12 10:32:31.785   \n",
       "306       Primary  2022-06-24 12:46:22.118  2023-06-12 10:32:27.499   \n",
       "308       Primary  2022-06-24 12:46:03.736  2023-06-12 10:32:22.621   \n",
       "...           ...                      ...                      ...   \n",
       "2126      Primary  2020-01-02 12:12:41.630  2020-08-22 13:56:36.091   \n",
       "2127      Primary  2020-07-20 15:20:03.237  2020-08-22 13:56:35.794   \n",
       "2128      Primary  2020-07-10 14:31:58.291  2020-08-22 13:56:35.490   \n",
       "2129      Primary  2020-07-20 15:19:59.022  2020-08-22 13:56:34.992   \n",
       "2130      Primary  2020-07-20 15:19:46.252  2020-08-22 13:56:34.431   \n",
       "\n",
       "      is_protected  \n",
       "300           True  \n",
       "302           True  \n",
       "304           True  \n",
       "306           True  \n",
       "308           True  \n",
       "...            ...  \n",
       "2126          True  \n",
       "2127          True  \n",
       "2128          True  \n",
       "2129          True  \n",
       "2130          True  \n",
       "\n",
       "[448 rows x 9 columns]"
      ]
     },
     "execution_count": 3,
     "metadata": {},
     "output_type": "execute_result"
    }
   ],
   "source": [
    "hubmap_ids = list(df['hubmap_id'])\n",
    "print(f'List of total datasets to include in study is {len(hubmap_ids)}')\n",
    "print(f'List of total datasets belonging to UCSD is {len(df[df[\"group_name\"]==\"University of California San Diego TMC\"])}')\n",
    "print(f'List of total datasets belonging to Broad is {len(df[df[\"group_name\"]==\"Broad Institute RTI\"])}')\n",
    "df"
   ]
  },
  {
   "cell_type": "code",
   "execution_count": 4,
   "id": "d00c2424-ce18-4ddc-aac7-cad0c51eff37",
   "metadata": {},
   "outputs": [
    {
     "name": "stdout",
     "output_type": "stream",
     "text": [
      "Removing existing folder phs002249\n",
      "Adding 448 to the main dataframe\n",
      "Gathering dataset metadata\n",
      "Processing dataset HBM643.VTBF.566\n",
      "Processing dataset HBM777.JKQM.678\n",
      "Processing dataset HBM233.HFFF.796\n",
      "Processing dataset HBM555.TNNT.434\n",
      "Processing dataset HBM449.JKGC.452\n",
      "Processing dataset HBM325.FBQQ.678\n",
      "Processing dataset HBM842.GMLJ.679\n",
      "Processing dataset HBM943.ZXSC.662\n",
      "Processing dataset HBM735.WZWF.739\n",
      "Processing dataset HBM497.KPML.696\n",
      "Processing dataset HBM866.XBSS.429\n",
      "Processing dataset HBM442.CCQM.828\n",
      "Processing dataset HBM444.BDNR.387\n",
      "Processing dataset HBM593.LXFZ.836\n",
      "Processing dataset HBM426.HLCN.236\n",
      "Processing dataset HBM232.KNBD.954\n",
      "Processing dataset HBM876.KWMX.349\n",
      "Processing dataset HBM734.DSQM.939\n",
      "Processing dataset HBM694.TNFF.778\n",
      "Processing dataset HBM836.FPBQ.686\n",
      "Processing dataset HBM854.GCMW.458\n",
      "Processing dataset HBM689.QPMR.542\n",
      "Processing dataset HBM425.MSBX.963\n",
      "Processing dataset HBM835.CLRW.587\n",
      "Processing dataset HBM545.PQSZ.997\n",
      "Processing dataset HBM959.QMBB.765\n",
      "Processing dataset HBM374.BXTC.899\n",
      "Processing dataset HBM729.HSHS.983\n",
      "Processing dataset HBM476.PRMC.228\n",
      "Processing dataset HBM572.JLDL.664\n",
      "Processing dataset HBM394.VPCK.634\n",
      "Processing dataset HBM834.MLPZ.788\n",
      "Processing dataset HBM469.MJBC.894\n",
      "Processing dataset HBM542.DVXG.466\n",
      "Processing dataset HBM733.GBWP.269\n",
      "Processing dataset HBM846.WXJK.587\n",
      "Processing dataset HBM734.NTJP.672\n",
      "Processing dataset HBM442.SBCR.983\n",
      "Processing dataset HBM369.FCNZ.863\n",
      "Processing dataset HBM393.CCBZ.572\n",
      "Processing dataset HBM729.TFXC.825\n",
      "Processing dataset HBM687.FWNC.555\n",
      "Processing dataset HBM793.VKVL.982\n",
      "Processing dataset HBM472.ZSRG.586\n",
      "Processing dataset HBM838.LDFP.578\n",
      "Processing dataset HBM778.VKRZ.934\n",
      "Processing dataset HBM757.CMSL.897\n",
      "Processing dataset HBM492.QPNN.579\n",
      "Processing dataset HBM973.XRLR.365\n",
      "Processing dataset HBM387.KXLD.867\n",
      "Processing dataset HBM258.RBCM.393\n",
      "Processing dataset HBM489.LPCX.978\n",
      "Processing dataset HBM272.KQDJ.873\n",
      "Processing dataset HBM586.QXWD.492\n",
      "Processing dataset HBM348.FXGT.728\n",
      "Processing dataset HBM754.SJMP.486\n",
      "Processing dataset HBM797.HSMJ.596\n",
      "Processing dataset HBM699.CHMK.457\n",
      "Processing dataset HBM337.GJHZ.665\n",
      "Processing dataset HBM543.DWSW.978\n",
      "Processing dataset HBM832.WWZH.575\n",
      "Processing dataset HBM684.XVPK.336\n",
      "Processing dataset HBM499.GPFC.894\n",
      "Processing dataset HBM876.NMKV.392\n",
      "Processing dataset HBM246.PZPG.573\n",
      "Processing dataset HBM969.VBPS.239\n",
      "Processing dataset HBM657.GRSC.648\n",
      "Processing dataset HBM257.JTGD.599\n",
      "Processing dataset HBM757.KRNC.835\n",
      "Processing dataset HBM796.SJZV.659\n",
      "Processing dataset HBM575.QJHH.278\n",
      "Processing dataset HBM766.VWQC.559\n",
      "Processing dataset HBM453.KSGX.286\n",
      "Processing dataset HBM794.ZGPR.493\n",
      "Processing dataset HBM865.SSVD.435\n",
      "Processing dataset HBM897.WKBR.988\n",
      "Processing dataset HBM733.BRBK.383\n",
      "Processing dataset HBM468.XHTW.756\n",
      "Processing dataset HBM975.VLMG.337\n",
      "Processing dataset HBM755.HXNT.735\n",
      "Processing dataset HBM837.HPZG.997\n",
      "Processing dataset HBM852.XVLR.482\n",
      "Processing dataset HBM495.QGMR.465\n",
      "Processing dataset HBM385.TCRP.465\n",
      "Processing dataset HBM688.FBNP.587\n",
      "Processing dataset HBM747.QMQS.862\n",
      "Processing dataset HBM572.BZFP.842\n",
      "Processing dataset HBM874.HRDG.774\n",
      "Processing dataset HBM675.DXNV.368\n",
      "Processing dataset HBM335.SZXZ.785\n",
      "Processing dataset HBM883.FXVB.356\n",
      "Processing dataset HBM892.QSFS.952\n",
      "Processing dataset HBM323.JMQW.566\n",
      "Processing dataset HBM248.MTFQ.532\n",
      "Processing dataset HBM724.WBBC.362\n",
      "Processing dataset HBM927.HHFD.265\n",
      "Processing dataset HBM672.TRVG.967\n",
      "Processing dataset HBM426.CDKT.979\n",
      "Processing dataset HBM368.FDDS.927\n",
      "Processing dataset HBM882.KDTH.685\n",
      "Processing dataset HBM975.WHWM.552\n",
      "Processing dataset HBM587.JPLF.798\n",
      "Processing dataset HBM379.ZGKM.223\n",
      "Processing dataset HBM245.VSKK.846\n",
      "Processing dataset HBM393.NWNB.684\n",
      "Processing dataset HBM775.RVQX.376\n",
      "Processing dataset HBM935.CNXT.255\n",
      "Processing dataset HBM872.JGDD.956\n",
      "Processing dataset HBM266.ZBKL.396\n",
      "Processing dataset HBM466.RBPX.375\n",
      "Processing dataset HBM428.GPCD.698\n",
      "Processing dataset HBM446.FXTJ.757\n",
      "Processing dataset HBM967.ZTCR.629\n",
      "Processing dataset HBM725.NLKP.539\n",
      "Processing dataset HBM359.CQKZ.649\n",
      "Processing dataset HBM572.QTTV.726\n",
      "Processing dataset HBM553.MNTQ.265\n",
      "Processing dataset HBM979.DJZW.835\n",
      "Processing dataset HBM388.JGKV.766\n",
      "Processing dataset HBM435.WLKV.658\n",
      "Processing dataset HBM867.XBWD.535\n",
      "Processing dataset HBM368.QPXJ.543\n",
      "Processing dataset HBM346.JMJX.867\n",
      "Processing dataset HBM888.GBKC.648\n",
      "Processing dataset HBM265.SDLV.487\n",
      "Processing dataset HBM463.DVBJ.799\n",
      "Processing dataset HBM684.RGXT.458\n",
      "Processing dataset HBM396.QSCB.763\n",
      "Processing dataset HBM584.ZTDX.845\n",
      "Processing dataset HBM683.DSMM.562\n",
      "Processing dataset HBM384.BWTV.862\n",
      "Processing dataset HBM442.HSFZ.838\n",
      "Processing dataset HBM788.XWPV.347\n",
      "Processing dataset HBM276.BCVG.232\n",
      "Processing dataset HBM757.DZKS.993\n",
      "Processing dataset HBM687.DTXP.559\n",
      "Processing dataset HBM539.MKQD.956\n",
      "Processing dataset HBM889.VFPS.969\n",
      "Processing dataset HBM866.FZNM.729\n",
      "Processing dataset HBM932.RZJW.322\n",
      "Processing dataset HBM846.GQRK.362\n",
      "Processing dataset HBM894.VJNM.258\n",
      "Processing dataset HBM822.JFNB.664\n",
      "Processing dataset HBM693.ZRQJ.667\n",
      "Processing dataset HBM758.BBRR.263\n",
      "Processing dataset HBM288.CWGD.472\n",
      "Processing dataset HBM894.JLHG.557\n",
      "Processing dataset HBM382.ZLQJ.654\n",
      "Processing dataset HBM735.LWRH.779\n",
      "Processing dataset HBM585.GLSD.853\n",
      "Processing dataset HBM557.KNTT.394\n",
      "Processing dataset HBM944.CGHN.543\n",
      "Processing dataset HBM225.RSDB.445\n",
      "Processing dataset HBM752.FKLX.383\n",
      "Processing dataset HBM398.ZSNW.578\n",
      "Processing dataset HBM846.NMQR.693\n",
      "Processing dataset HBM475.NWHG.922\n",
      "Processing dataset HBM644.JKNJ.684\n",
      "Processing dataset HBM558.JGRM.977\n",
      "Processing dataset HBM568.DBHK.664\n",
      "Processing dataset HBM277.KCLM.554\n",
      "Processing dataset HBM874.DVHQ.638\n",
      "Processing dataset HBM788.QGNW.253\n",
      "Processing dataset HBM853.XQFP.642\n",
      "Processing dataset HBM927.DJTP.692\n",
      "Processing dataset HBM588.VTDT.466\n",
      "Processing dataset HBM445.DSWB.536\n",
      "Processing dataset HBM892.WCSN.345\n",
      "Processing dataset HBM924.DSPX.449\n",
      "Processing dataset HBM882.XFHR.889\n",
      "Processing dataset HBM769.BDBL.437\n",
      "Processing dataset HBM746.WTMD.298\n",
      "Processing dataset HBM766.KVCF.327\n",
      "Processing dataset HBM362.DFRK.276\n",
      "Processing dataset HBM334.KSQN.472\n",
      "Processing dataset HBM423.MVZQ.973\n",
      "Processing dataset HBM659.MPZT.644\n",
      "Processing dataset HBM389.FGMD.644\n",
      "Processing dataset HBM697.XSHN.426\n",
      "Processing dataset HBM692.WWJD.963\n",
      "Processing dataset HBM745.QWJW.984\n",
      "Processing dataset HBM966.FCDR.357\n",
      "Processing dataset HBM338.LZQK.454\n",
      "Processing dataset HBM589.HHJP.477\n",
      "Processing dataset HBM257.DBNG.933\n",
      "Processing dataset HBM296.PCFN.989\n",
      "Processing dataset HBM335.XXBG.857\n",
      "Processing dataset HBM727.FSWS.736\n",
      "Processing dataset HBM882.NBFK.489\n",
      "Processing dataset HBM522.LXLF.753\n",
      "Processing dataset HBM562.WZFC.994\n",
      "Processing dataset HBM422.MKWK.448\n",
      "Processing dataset HBM457.KGQS.422\n",
      "Processing dataset HBM428.HQPL.493\n",
      "Processing dataset HBM623.NJQC.463\n",
      "Processing dataset HBM467.SPJK.587\n",
      "Processing dataset HBM968.MLFJ.353\n",
      "Processing dataset HBM495.PPRW.693\n",
      "Processing dataset HBM523.FKWF.269\n",
      "Processing dataset HBM834.TDFD.294\n",
      "Processing dataset HBM398.CFZH.458\n",
      "Processing dataset HBM678.FRJC.827\n",
      "Processing dataset HBM444.BXPJ.728\n",
      "Processing dataset HBM375.KNVL.645\n",
      "Processing dataset HBM265.NXDR.935\n",
      "Processing dataset HBM383.VBHR.464\n",
      "Processing dataset HBM749.GLPZ.244\n",
      "Processing dataset HBM969.DHDC.536\n",
      "Processing dataset HBM792.SPTN.838\n",
      "Processing dataset HBM764.WVJF.756\n",
      "Processing dataset HBM699.QHSP.975\n",
      "Processing dataset HBM974.LTFV.443\n",
      "Processing dataset HBM342.MWMW.936\n",
      "Processing dataset HBM548.WNVT.322\n",
      "Processing dataset HBM886.SLWK.262\n",
      "Processing dataset HBM759.ZKDS.894\n",
      "Processing dataset HBM833.HFSG.364\n",
      "Processing dataset HBM656.KZXP.658\n",
      "Processing dataset HBM742.GTJJ.334\n",
      "Processing dataset HBM363.NSBV.432\n",
      "Processing dataset HBM347.RFGL.437\n",
      "Processing dataset HBM275.DGCJ.895\n",
      "Processing dataset HBM469.WGXL.377\n",
      "Processing dataset HBM258.XBKC.273\n",
      "Processing dataset HBM862.PKSC.458\n",
      "Processing dataset HBM955.PGHM.728\n",
      "Processing dataset HBM766.PSCS.545\n",
      "Processing dataset HBM953.HGVS.696\n",
      "Processing dataset HBM983.QHFB.659\n",
      "Processing dataset HBM695.CKJX.997\n",
      "Processing dataset HBM659.WFXT.729\n",
      "Processing dataset HBM386.CVHG.956\n",
      "Processing dataset HBM959.XNWL.627\n",
      "Processing dataset HBM229.RBVC.749\n",
      "Processing dataset HBM332.KRRD.449\n",
      "Processing dataset HBM995.XZDF.373\n",
      "Processing dataset HBM473.WJGH.347\n",
      "Processing dataset HBM342.JZBJ.636\n",
      "Processing dataset HBM526.JMWM.852\n",
      "Processing dataset HBM734.WGZC.959\n",
      "Processing dataset HBM479.RDNW.482\n",
      "Processing dataset HBM848.DKKR.789\n",
      "Processing dataset HBM453.SZCH.656\n",
      "Processing dataset HBM434.NVPJ.787\n",
      "Processing dataset HBM255.HLNC.938\n",
      "Processing dataset HBM677.TRKR.869\n",
      "Processing dataset HBM836.SCTK.396\n",
      "Processing dataset HBM277.PZLF.957\n",
      "Processing dataset HBM553.JHWW.254\n",
      "Processing dataset HBM344.VNRB.528\n",
      "Processing dataset HBM743.RMZB.895\n",
      "Processing dataset HBM673.BCMT.647\n",
      "Processing dataset HBM974.GZFH.944\n",
      "Processing dataset HBM776.QBZF.987\n",
      "Processing dataset HBM349.XPRZ.258\n",
      "Processing dataset HBM777.SVZT.454\n",
      "Processing dataset HBM695.XTNF.836\n",
      "Processing dataset HBM349.KWMK.599\n",
      "Processing dataset HBM363.LDZL.423\n",
      "Processing dataset HBM252.BMWF.224\n",
      "Processing dataset HBM939.CNSV.893\n",
      "Processing dataset HBM557.MDFT.752\n",
      "Processing dataset HBM357.PCQK.422\n",
      "Processing dataset HBM489.JHDG.227\n",
      "Processing dataset HBM873.QDLS.754\n",
      "Processing dataset HBM592.HXGM.837\n",
      "Processing dataset HBM358.BMRH.466\n",
      "Processing dataset HBM942.SRZF.846\n",
      "Processing dataset HBM328.FTJW.669\n",
      "Processing dataset HBM288.RCTV.965\n",
      "Processing dataset HBM879.NCTL.468\n",
      "Processing dataset HBM644.GBKD.967\n",
      "Processing dataset HBM445.NPKW.958\n",
      "Processing dataset HBM744.MBPT.666\n",
      "Processing dataset HBM352.LGWD.929\n",
      "Processing dataset HBM664.KRQG.276\n",
      "Processing dataset HBM475.DZSR.334\n",
      "Processing dataset HBM454.HBQV.975\n",
      "Processing dataset HBM264.KNSL.465\n",
      "Processing dataset HBM393.QBPZ.886\n",
      "Processing dataset HBM769.NLGR.528\n",
      "Processing dataset HBM699.NGDQ.539\n",
      "Processing dataset HBM298.KXFW.694\n",
      "Processing dataset HBM477.SGMX.842\n",
      "Processing dataset HBM684.LRVL.722\n",
      "Processing dataset HBM545.VTQM.594\n",
      "Processing dataset HBM849.GHJN.299\n",
      "Processing dataset HBM556.GXMS.552\n",
      "Processing dataset HBM669.VQFV.937\n",
      "Processing dataset HBM367.THWT.587\n",
      "Processing dataset HBM562.WTFG.364\n",
      "Processing dataset HBM564.KDDS.745\n",
      "Processing dataset HBM729.KJWJ.742\n",
      "Processing dataset HBM793.TLPP.486\n",
      "Processing dataset HBM488.CHLD.467\n",
      "Processing dataset HBM864.XMFH.374\n",
      "Processing dataset HBM973.ZVNB.886\n",
      "Processing dataset HBM853.GWTP.895\n",
      "Processing dataset HBM427.HSPX.458\n",
      "Processing dataset HBM728.XPZZ.359\n",
      "Processing dataset HBM348.QZFH.528\n",
      "Processing dataset HBM699.DNQV.357\n",
      "Processing dataset HBM433.XBGK.479\n",
      "Processing dataset HBM672.VWPP.454\n",
      "Processing dataset HBM238.MHWZ.654\n",
      "Processing dataset HBM922.KSKR.637\n",
      "Processing dataset HBM723.QMLJ.829\n",
      "Processing dataset HBM459.BBRT.432\n",
      "Processing dataset HBM938.FTBC.347\n",
      "Processing dataset HBM984.LZDJ.635\n",
      "Processing dataset HBM442.DGFV.995\n",
      "Processing dataset HBM372.WXSK.584\n",
      "Processing dataset HBM859.VRNW.383\n",
      "Processing dataset HBM633.LKWQ.696\n",
      "Processing dataset HBM639.SPNR.589\n",
      "Processing dataset HBM456.HFJD.657\n",
      "Processing dataset HBM259.BPTK.843\n",
      "Processing dataset HBM532.DJRB.464\n",
      "Processing dataset HBM495.KSXC.638\n",
      "Processing dataset HBM575.XFCT.276\n",
      "Processing dataset HBM239.XXRN.647\n",
      "Processing dataset HBM852.VSBC.572\n",
      "Processing dataset HBM783.ZJCH.496\n",
      "Processing dataset HBM977.LLMG.325\n",
      "Processing dataset HBM859.HQTC.955\n",
      "Processing dataset HBM538.ZGLW.939\n",
      "Processing dataset HBM888.MQJH.424\n",
      "Processing dataset HBM679.RWJH.877\n",
      "Processing dataset HBM488.GXLS.689\n",
      "Processing dataset HBM364.JRNL.422\n",
      "Processing dataset HBM956.NKKJ.646\n",
      "Processing dataset HBM346.CSWK.388\n",
      "Processing dataset HBM433.GBLD.944\n",
      "Processing dataset HBM237.KGFH.483\n",
      "Processing dataset HBM929.QBMH.668\n",
      "Processing dataset HBM896.WHQZ.399\n",
      "Processing dataset HBM226.QHVG.797\n",
      "Processing dataset HBM874.WGDB.764\n",
      "Processing dataset HBM497.FKCS.478\n",
      "Processing dataset HBM554.DHLV.735\n",
      "Processing dataset HBM847.GZGD.668\n",
      "Processing dataset HBM786.LZQZ.242\n",
      "Processing dataset HBM537.VLPL.734\n",
      "Processing dataset HBM464.KHSK.927\n",
      "Processing dataset HBM427.RVVD.276\n",
      "Processing dataset HBM247.GGHT.658\n",
      "Processing dataset HBM336.GKJN.639\n",
      "Processing dataset HBM695.VNZJ.522\n",
      "Processing dataset HBM969.CJQL.629\n",
      "Processing dataset HBM432.RXTV.994\n",
      "Processing dataset HBM246.DMSS.835\n",
      "Processing dataset HBM347.VDHS.379\n",
      "Processing dataset HBM883.SPLD.238\n",
      "Processing dataset HBM382.HNKL.447\n",
      "Processing dataset HBM475.LXDL.227\n",
      "Processing dataset HBM537.LTFK.379\n",
      "Processing dataset HBM578.SRZG.769\n",
      "Processing dataset HBM432.BPZM.698\n",
      "Processing dataset HBM526.VJKT.388\n",
      "Processing dataset HBM578.ZCCJ.565\n",
      "Processing dataset HBM375.ZKZZ.765\n",
      "Processing dataset HBM982.TPNQ.737\n",
      "Processing dataset HBM892.MXFF.848\n",
      "Processing dataset HBM886.ZXXN.298\n",
      "Processing dataset HBM982.TTRB.258\n",
      "Processing dataset HBM399.TFTQ.282\n",
      "Processing dataset HBM826.RGXW.276\n",
      "Processing dataset HBM264.RWRW.668\n",
      "Processing dataset HBM224.GLDC.549\n",
      "Processing dataset HBM574.NFCS.842\n",
      "Processing dataset HBM992.XNZH.647\n",
      "Processing dataset HBM773.WCXC.264\n",
      "Processing dataset HBM839.TQNM.958\n",
      "Processing dataset HBM797.PDPS.368\n",
      "Processing dataset HBM985.TJZD.778\n",
      "Processing dataset HBM764.ZCQR.585\n",
      "Processing dataset HBM694.QMLR.738\n",
      "Processing dataset HBM837.RZPL.332\n",
      "Processing dataset HBM674.JTXW.676\n",
      "Processing dataset HBM484.QDDS.752\n",
      "Processing dataset HBM725.BRBB.566\n",
      "Processing dataset HBM673.WGZS.593\n",
      "Processing dataset HBM534.ZLFK.677\n",
      "Processing dataset HBM657.MJHP.546\n",
      "Processing dataset HBM729.QZDC.322\n",
      "Processing dataset HBM878.HZJK.366\n",
      "Processing dataset HBM265.TSQB.698\n",
      "Processing dataset HBM759.FHWP.826\n",
      "Processing dataset HBM745.JXHV.774\n",
      "Processing dataset HBM425.ZCSZ.825\n",
      "Processing dataset HBM492.SVCZ.539\n",
      "Processing dataset HBM775.HGSK.536\n",
      "Processing dataset HBM283.GHKJ.532\n",
      "Processing dataset HBM782.VBFQ.945\n",
      "Processing dataset HBM874.LNRK.792\n",
      "Processing dataset HBM399.KBQD.395\n",
      "Processing dataset HBM832.FZXR.449\n",
      "Processing dataset HBM638.GFNR.793\n",
      "Processing dataset HBM977.JFFT.795\n",
      "Processing dataset HBM668.RKPW.923\n",
      "Processing dataset HBM996.XRBP.649\n",
      "Processing dataset HBM442.ZDMV.523\n",
      "Processing dataset HBM674.JNMW.857\n",
      "Processing dataset HBM834.WSBV.784\n",
      "Processing dataset HBM592.FGDR.959\n",
      "Processing dataset HBM784.RVTS.872\n",
      "Processing dataset HBM646.BHHT.443\n",
      "Processing dataset HBM297.XHVP.489\n",
      "Processing dataset HBM624.BLKG.259\n",
      "Processing dataset HBM255.FTZT.838\n",
      "Processing dataset HBM664.MCDD.259\n",
      "Processing dataset HBM462.BPNZ.799\n",
      "Processing dataset HBM935.KGJC.468\n",
      "Processing dataset HBM929.ZQRZ.278\n",
      "Processing dataset HBM976.FZMR.433\n",
      "Processing dataset HBM443.TQKQ.624\n",
      "Processing dataset HBM487.ZVSC.235\n",
      "Processing dataset HBM433.XXZF.683\n",
      "Processing dataset HBM366.RVSS.338\n",
      "Processing dataset HBM549.VSNH.445\n",
      "Processing dataset HBM688.SMXJ.943\n",
      "Processing dataset HBM794.ZFKH.622\n",
      "Processing dataset HBM852.FNJG.394\n",
      "Processing dataset HBM768.GGMW.763\n",
      "Processing dataset HBM226.BZMV.852\n",
      "Processing dataset HBM687.SQJV.939\n",
      "Processing dataset HBM678.CNWW.847\n",
      "Processing dataset HBM276.VNKN.267\n",
      "Processing dataset HBM569.VGBL.558\n",
      "Processing dataset HBM742.PLXW.786\n",
      "Processing dataset HBM226.JFZZ.568\n",
      "Processing dataset HBM792.MWCJ.783\n",
      "Processing dataset HBM894.MNHL.259\n",
      "Processing dataset HBM742.SLJJ.558\n",
      "Processing dataset HBM796.LFJP.942\n",
      "Processing dataset HBM654.KGFR.248\n",
      "Processing dataset HBM762.VLJF.655\n",
      "Processing dataset HBM655.RKJR.493\n",
      "Processing dataset HBM373.QRLQ.338\n",
      "Processing dataset HBM744.BFSJ.565\n",
      "Processing dataset HBM595.PKGV.622\n",
      "Processing dataset HBM496.PDBS.429\n",
      "Processing dataset HBM756.GZSH.268\n",
      "Processing dataset HBM455.ZPNN.623\n",
      "Processing dataset HBM396.JHNS.692\n",
      "Processing dataset HBM524.DVNF.223\n",
      "Processing dataset HBM955.DXVQ.765\n",
      "Processing dataset HBM535.XQDS.238\n",
      "Gathering donor metadata\n"
     ]
    },
    {
     "name": "stderr",
     "output_type": "stream",
     "text": [
      "38it [00:02, 13.32it/s]\n"
     ]
    },
    {
     "name": "stdout",
     "output_type": "stream",
     "text": [
      "Gathering sample attributes\n"
     ]
    },
    {
     "name": "stderr",
     "output_type": "stream",
     "text": [
      "448it [02:23,  3.12it/s]\n"
     ]
    },
    {
     "name": "stdout",
     "output_type": "stream",
     "text": [
      "Creating sample mapping\n",
      "Downloading spreadsheets\n",
      "Processing dataset inventories\n"
     ]
    },
    {
     "name": "stderr",
     "output_type": "stream",
     "text": [
      "  0%|          | 0/448 [00:00<?, ?it/s]"
     ]
    },
    {
     "name": "stdout",
     "output_type": "stream",
     "text": [
      "The snRNAseq-10xGenomics-v3 library was sequenced on the Illumina NovaSeq system using the NovaSeq 6000 S4 Reagent kit. A full description of the protocol and materials used in the snRNAseq-10xGenomics-v3 library construction process can be found on protocols.io under the following protocol - 10X Genomics Single-Nucleus RNA-Sequencing for Transcriptomic Profiling of Adult Human Tissues V.3.\n"
     ]
    },
    {
     "name": "stderr",
     "output_type": "stream",
     "text": [
      "  0%|          | 1/448 [00:00<06:18,  1.18it/s]"
     ]
    },
    {
     "name": "stdout",
     "output_type": "stream",
     "text": [
      "The snRNAseq-10xGenomics-v3 library was sequenced on the Illumina NovaSeq system using the NovaSeq 6000 S4 Reagent kit. A full description of the protocol and materials used in the snRNAseq-10xGenomics-v3 library construction process can be found on protocols.io under the following protocol - 10X Genomics Single-Nucleus RNA-Sequencing for Transcriptomic Profiling of Adult Human Tissues V.3.\n"
     ]
    },
    {
     "name": "stderr",
     "output_type": "stream",
     "text": [
      "  0%|          | 2/448 [00:01<05:22,  1.38it/s]"
     ]
    },
    {
     "name": "stdout",
     "output_type": "stream",
     "text": [
      "The snRNAseq-10xGenomics-v3 library was sequenced on the Illumina NovaSeq system using the NovaSeq 6000 S4 Reagent kit. A full description of the protocol and materials used in the snRNAseq-10xGenomics-v3 library construction process can be found on protocols.io under the following protocol - 10X Genomics Single-Nucleus RNA-Sequencing for Transcriptomic Profiling of Adult Human Tissues V.3.\n"
     ]
    },
    {
     "name": "stderr",
     "output_type": "stream",
     "text": [
      "  1%|          | 3/448 [00:02<05:05,  1.46it/s]"
     ]
    },
    {
     "name": "stdout",
     "output_type": "stream",
     "text": [
      "The snRNAseq-10xGenomics-v3 library was sequenced on the Illumina NovaSeq system using the NovaSeq 6000 S4 Reagent kit. A full description of the protocol and materials used in the snRNAseq-10xGenomics-v3 library construction process can be found on protocols.io under the following protocol - 10X Genomics Single-Nucleus RNA-Sequencing for Transcriptomic Profiling of Adult Human Tissues V.3.\n"
     ]
    },
    {
     "name": "stderr",
     "output_type": "stream",
     "text": [
      "  1%|          | 4/448 [00:02<04:51,  1.52it/s]"
     ]
    },
    {
     "name": "stdout",
     "output_type": "stream",
     "text": [
      "The snRNAseq-10xGenomics-v3 library was sequenced on the Illumina NovaSeq system using the NovaSeq 6000 S4 Reagent kit. A full description of the protocol and materials used in the snRNAseq-10xGenomics-v3 library construction process can be found on protocols.io under the following protocol - 10X Genomics Single-Nucleus RNA-Sequencing for Transcriptomic Profiling of Adult Human Tissues V.3.\n"
     ]
    },
    {
     "name": "stderr",
     "output_type": "stream",
     "text": [
      "  1%|          | 5/448 [00:05<09:38,  1.31s/it]"
     ]
    },
    {
     "name": "stdout",
     "output_type": "stream",
     "text": [
      "The snRNAseq-10xGenomics-v3 library was sequenced on the Illumina NovaSeq system using the NovaSeq 6000 S4 Reagent kit. A full description of the protocol and materials used in the snRNAseq-10xGenomics-v3 library construction process can be found on protocols.io under the following protocol - 10X Genomics Single-Nucleus RNA-Sequencing for Transcriptomic Profiling of Adult Human Tissues V.3.\n"
     ]
    },
    {
     "name": "stderr",
     "output_type": "stream",
     "text": [
      "  1%|▏         | 6/448 [01:18<3:10:58, 25.92s/it]"
     ]
    },
    {
     "name": "stdout",
     "output_type": "stream",
     "text": [
      "The snRNAseq-10xGenomics-v3 library was sequenced on the Illumina NovaSeq system using the NovaSeq 6000 S4 Reagent kit. A full description of the protocol and materials used in the snRNAseq-10xGenomics-v3 library construction process can be found on protocols.io under the following protocol - 10X Genomics Single-Nucleus RNA-Sequencing for Transcriptomic Profiling of Adult Human Tissues V.3.\n"
     ]
    },
    {
     "name": "stderr",
     "output_type": "stream",
     "text": [
      "  2%|▏         | 7/448 [01:19<2:10:23, 17.74s/it]"
     ]
    },
    {
     "name": "stdout",
     "output_type": "stream",
     "text": [
      "The snRNAseq-10xGenomics-v3 library was sequenced on the Illumina NovaSeq system using the NovaSeq 6000 S4 Reagent kit. A full description of the protocol and materials used in the snRNAseq-10xGenomics-v3 library construction process can be found on protocols.io under the following protocol - 10X Genomics Single-Nucleus RNA-Sequencing for Transcriptomic Profiling of Adult Human Tissues V.3.\n"
     ]
    },
    {
     "name": "stderr",
     "output_type": "stream",
     "text": [
      "  2%|▏         | 8/448 [01:20<1:30:18, 12.31s/it]"
     ]
    },
    {
     "name": "stdout",
     "output_type": "stream",
     "text": [
      "The snRNAseq-10xGenomics-v3 library was sequenced on the Illumina NovaSeq system using the NovaSeq 6000 S4 Reagent kit. A full description of the protocol and materials used in the snRNAseq-10xGenomics-v3 library construction process can be found on protocols.io under the following protocol - 10X Genomics Single-Nucleus RNA-Sequencing for Transcriptomic Profiling of Adult Human Tissues V.3.\n"
     ]
    },
    {
     "name": "stderr",
     "output_type": "stream",
     "text": [
      "  2%|▏         | 9/448 [01:21<1:03:20,  8.66s/it]"
     ]
    },
    {
     "name": "stdout",
     "output_type": "stream",
     "text": [
      "The snRNAseq-10xGenomics-v3 library was sequenced on the Illumina NovaSeq system using the NovaSeq 6000 S4 Reagent kit. A full description of the protocol and materials used in the snRNAseq-10xGenomics-v3 library construction process can be found on protocols.io under the following protocol - 10X Genomics Single-Nucleus RNA-Sequencing for Transcriptomic Profiling of Adult Human Tissues V.3.\n"
     ]
    },
    {
     "name": "stderr",
     "output_type": "stream",
     "text": [
      "  2%|▏         | 10/448 [01:21<45:04,  6.18s/it] "
     ]
    },
    {
     "name": "stdout",
     "output_type": "stream",
     "text": [
      "The snRNAseq-10xGenomics-v3 library was sequenced on the Illumina NovaSeq system using the NovaSeq 6000 S4 Reagent kit. A full description of the protocol and materials used in the snRNAseq-10xGenomics-v3 library construction process can be found on protocols.io under the following protocol - 10X Genomics Single-Nucleus RNA-Sequencing for Transcriptomic Profiling of Adult Human Tissues V.3.\n"
     ]
    },
    {
     "name": "stderr",
     "output_type": "stream",
     "text": [
      "  2%|▏         | 11/448 [01:22<32:36,  4.48s/it]"
     ]
    },
    {
     "name": "stdout",
     "output_type": "stream",
     "text": [
      "The snRNAseq-10xGenomics-v3 library was sequenced on the Illumina NovaSeq system using the NovaSeq 6000 S4 Reagent kit. A full description of the protocol and materials used in the snRNAseq-10xGenomics-v3 library construction process can be found on protocols.io under the following protocol - 10X Genomics Single-Nucleus RNA-Sequencing for Transcriptomic Profiling of Adult Human Tissues V.3.\n"
     ]
    },
    {
     "name": "stderr",
     "output_type": "stream",
     "text": [
      "  3%|▎         | 12/448 [01:22<24:00,  3.30s/it]"
     ]
    },
    {
     "name": "stdout",
     "output_type": "stream",
     "text": [
      "The snRNAseq-10xGenomics-v3 library was sequenced on the Illumina NovaSeq system using the NovaSeq 6000 S4 Reagent kit. A full description of the protocol and materials used in the snRNAseq-10xGenomics-v3 library construction process can be found on protocols.io under the following protocol - 10X Genomics Single-Nucleus RNA-Sequencing for Transcriptomic Profiling of Adult Human Tissues V.3.\n"
     ]
    },
    {
     "name": "stderr",
     "output_type": "stream",
     "text": [
      "  3%|▎         | 13/448 [01:23<18:06,  2.50s/it]"
     ]
    },
    {
     "name": "stdout",
     "output_type": "stream",
     "text": [
      "The snRNAseq-10xGenomics-v3 library was sequenced on the Illumina NovaSeq system using the NovaSeq 6000 S4 Reagent kit. A full description of the protocol and materials used in the snRNAseq-10xGenomics-v3 library construction process can be found on protocols.io under the following protocol - 10X Genomics Single-Nucleus RNA-Sequencing for Transcriptomic Profiling of Adult Human Tissues V.3.\n"
     ]
    },
    {
     "name": "stderr",
     "output_type": "stream",
     "text": [
      "  3%|▎         | 14/448 [01:24<13:56,  1.93s/it]"
     ]
    },
    {
     "name": "stdout",
     "output_type": "stream",
     "text": [
      "The snRNAseq-10xGenomics-v3 library was sequenced on the Illumina NovaSeq system using the NovaSeq 6000 S4 Reagent kit. A full description of the protocol and materials used in the snRNAseq-10xGenomics-v3 library construction process can be found on protocols.io under the following protocol - 10X Genomics Single-Nucleus RNA-Sequencing for Transcriptomic Profiling of Adult Human Tissues V.3.\n"
     ]
    },
    {
     "name": "stderr",
     "output_type": "stream",
     "text": [
      "  3%|▎         | 15/448 [01:24<11:04,  1.53s/it]"
     ]
    },
    {
     "name": "stdout",
     "output_type": "stream",
     "text": [
      "The snRNAseq-10xGenomics-v3 library was sequenced on the Illumina NovaSeq system using the NovaSeq 6000 S4 Reagent kit. A full description of the protocol and materials used in the snRNAseq-10xGenomics-v3 library construction process can be found on protocols.io under the following protocol - 10X Genomics Single-Nucleus RNA-Sequencing for Transcriptomic Profiling of Adult Human Tissues V.3.\n"
     ]
    },
    {
     "name": "stderr",
     "output_type": "stream",
     "text": [
      "  4%|▎         | 16/448 [01:25<09:06,  1.26s/it]"
     ]
    },
    {
     "name": "stdout",
     "output_type": "stream",
     "text": [
      "The snRNAseq-10xGenomics-v3 library was sequenced on the Illumina NovaSeq system using the NovaSeq 6000 S4 Reagent kit. A full description of the protocol and materials used in the snRNAseq-10xGenomics-v3 library construction process can be found on protocols.io under the following protocol - 10X Genomics Single-Nucleus RNA-Sequencing for Transcriptomic Profiling of Adult Human Tissues V.3.\n"
     ]
    },
    {
     "name": "stderr",
     "output_type": "stream",
     "text": [
      "  4%|▍         | 17/448 [01:26<07:40,  1.07s/it]"
     ]
    },
    {
     "name": "stdout",
     "output_type": "stream",
     "text": [
      "The snRNAseq-10xGenomics-v3 library was sequenced on the Illumina NovaSeq system using the NovaSeq 6000 S4 Reagent kit. A full description of the protocol and materials used in the snRNAseq-10xGenomics-v3 library construction process can be found on protocols.io under the following protocol - 10X Genomics Single-Nucleus RNA-Sequencing for Transcriptomic Profiling of Adult Human Tissues V.3.\n"
     ]
    },
    {
     "name": "stderr",
     "output_type": "stream",
     "text": [
      "  4%|▍         | 18/448 [01:26<06:39,  1.08it/s]"
     ]
    },
    {
     "name": "stdout",
     "output_type": "stream",
     "text": [
      "The snRNAseq-10xGenomics-v3 library was sequenced on the Illumina NovaSeq system using the NovaSeq 6000 S4 Reagent kit. A full description of the protocol and materials used in the snRNAseq-10xGenomics-v3 library construction process can be found on protocols.io under the following protocol - 10X Genomics Single-Nucleus RNA-Sequencing for Transcriptomic Profiling of Adult Human Tissues V.3.\n"
     ]
    },
    {
     "name": "stderr",
     "output_type": "stream",
     "text": [
      "  4%|▍         | 19/448 [01:27<05:53,  1.21it/s]"
     ]
    },
    {
     "name": "stdout",
     "output_type": "stream",
     "text": [
      "The snRNAseq-10xGenomics-v3 library was sequenced on the Illumina NovaSeq system using the NovaSeq 6000 S4 Reagent kit. A full description of the protocol and materials used in the snRNAseq-10xGenomics-v3 library construction process can be found on protocols.io under the following protocol - 10X Genomics Single-Nucleus RNA-Sequencing for Transcriptomic Profiling of Adult Human Tissues V.3.\n"
     ]
    },
    {
     "name": "stderr",
     "output_type": "stream",
     "text": [
      "  4%|▍         | 20/448 [01:27<05:30,  1.29it/s]"
     ]
    },
    {
     "name": "stdout",
     "output_type": "stream",
     "text": [
      "The snRNAseq-10xGenomics-v3 library was sequenced on the Illumina NovaSeq system using the NovaSeq 6000 S4 Reagent kit. A full description of the protocol and materials used in the snRNAseq-10xGenomics-v3 library construction process can be found on protocols.io under the following protocol - 10X Genomics Single-Nucleus RNA-Sequencing for Transcriptomic Profiling of Adult Human Tissues V.3.\n"
     ]
    },
    {
     "name": "stderr",
     "output_type": "stream",
     "text": [
      "  5%|▍         | 21/448 [01:28<05:26,  1.31it/s]"
     ]
    },
    {
     "name": "stdout",
     "output_type": "stream",
     "text": [
      "The snRNAseq-10xGenomics-v3 library was sequenced on the Illumina NovaSeq system using the NovaSeq 6000 S4 Reagent kit. A full description of the protocol and materials used in the snRNAseq-10xGenomics-v3 library construction process can be found on protocols.io under the following protocol - 10X Genomics Single-Nucleus RNA-Sequencing for Transcriptomic Profiling of Adult Human Tissues V.3.\n"
     ]
    },
    {
     "name": "stderr",
     "output_type": "stream",
     "text": [
      "  5%|▍         | 22/448 [01:29<05:08,  1.38it/s]"
     ]
    },
    {
     "name": "stdout",
     "output_type": "stream",
     "text": [
      "The snRNAseq-10xGenomics-v3 library was sequenced on the Illumina NovaSeq system using the NovaSeq 6000 S4 Reagent kit. A full description of the protocol and materials used in the snRNAseq-10xGenomics-v3 library construction process can be found on protocols.io under the following protocol - 10X Genomics Single-Nucleus RNA-Sequencing for Transcriptomic Profiling of Adult Human Tissues V.3.\n"
     ]
    },
    {
     "name": "stderr",
     "output_type": "stream",
     "text": [
      "  5%|▌         | 23/448 [01:29<04:51,  1.46it/s]"
     ]
    },
    {
     "name": "stdout",
     "output_type": "stream",
     "text": [
      "The snRNAseq-10xGenomics-v3 library was sequenced on the Illumina NovaSeq system using the NovaSeq 6000 S4 Reagent kit. A full description of the protocol and materials used in the snRNAseq-10xGenomics-v3 library construction process can be found on protocols.io under the following protocol - 10X Genomics Single-Nucleus RNA-Sequencing for Transcriptomic Profiling of Adult Human Tissues V.3.\n"
     ]
    },
    {
     "name": "stderr",
     "output_type": "stream",
     "text": [
      "  5%|▌         | 24/448 [01:30<04:43,  1.50it/s]"
     ]
    },
    {
     "name": "stdout",
     "output_type": "stream",
     "text": [
      "The snRNAseq-10xGenomics-v3 library was sequenced on the Illumina NovaSeq system using the NovaSeq 6000 S4 Reagent kit. A full description of the protocol and materials used in the snRNAseq-10xGenomics-v3 library construction process can be found on protocols.io under the following protocol - 10X Genomics Single-Nucleus RNA-Sequencing for Transcriptomic Profiling of Adult Human Tissues V.3.\n"
     ]
    },
    {
     "name": "stderr",
     "output_type": "stream",
     "text": [
      "  6%|▌         | 25/448 [01:31<04:35,  1.53it/s]"
     ]
    },
    {
     "name": "stdout",
     "output_type": "stream",
     "text": [
      "The snRNAseq-10xGenomics-v3 library was sequenced on the Illumina NovaSeq system using the NovaSeq 6000 S4 Reagent kit. A full description of the protocol and materials used in the snRNAseq-10xGenomics-v3 library construction process can be found on protocols.io under the following protocol - 10X Genomics Single-Nucleus RNA-Sequencing for Transcriptomic Profiling of Adult Human Tissues V.3.\n"
     ]
    },
    {
     "name": "stderr",
     "output_type": "stream",
     "text": [
      "  6%|▌         | 26/448 [01:31<04:31,  1.55it/s]"
     ]
    },
    {
     "name": "stdout",
     "output_type": "stream",
     "text": [
      "The snRNAseq-10xGenomics-v3 library was sequenced on the Illumina NovaSeq system using the NovaSeq 6000 S4 Reagent kit. A full description of the protocol and materials used in the snRNAseq-10xGenomics-v3 library construction process can be found on protocols.io under the following protocol - 10X Genomics Single-Nucleus RNA-Sequencing for Transcriptomic Profiling of Adult Human Tissues V.3.\n"
     ]
    },
    {
     "name": "stderr",
     "output_type": "stream",
     "text": [
      "  6%|▌         | 27/448 [01:32<04:27,  1.57it/s]"
     ]
    },
    {
     "name": "stdout",
     "output_type": "stream",
     "text": [
      "The snRNAseq-10xGenomics-v3 library was sequenced on the Illumina NovaSeq system using the NovaSeq 6000 S4 Reagent kit. A full description of the protocol and materials used in the snRNAseq-10xGenomics-v3 library construction process can be found on protocols.io under the following protocol - 10X Genomics Single-Nucleus RNA-Sequencing for Transcriptomic Profiling of Adult Human Tissues V.3.\n"
     ]
    },
    {
     "name": "stderr",
     "output_type": "stream",
     "text": [
      "  6%|▋         | 28/448 [01:33<04:23,  1.59it/s]"
     ]
    },
    {
     "name": "stdout",
     "output_type": "stream",
     "text": [
      "The snRNAseq-10xGenomics-v3 library was sequenced on the Illumina NovaSeq system using the NovaSeq 6000 S4 Reagent kit. A full description of the protocol and materials used in the snRNAseq-10xGenomics-v3 library construction process can be found on protocols.io under the following protocol - 10X Genomics Single-Nucleus RNA-Sequencing for Transcriptomic Profiling of Adult Human Tissues V.3.\n"
     ]
    },
    {
     "name": "stderr",
     "output_type": "stream",
     "text": [
      "  6%|▋         | 29/448 [01:33<04:17,  1.63it/s]"
     ]
    },
    {
     "name": "stdout",
     "output_type": "stream",
     "text": [
      "The snRNAseq-10xGenomics-v3 library was sequenced on the Illumina NovaSeq system using the NovaSeq 6000 S4 Reagent kit. A full description of the protocol and materials used in the snRNAseq-10xGenomics-v3 library construction process can be found on protocols.io under the following protocol - 10X Genomics Single-Nucleus RNA-Sequencing for Transcriptomic Profiling of Adult Human Tissues V.3.\n"
     ]
    },
    {
     "name": "stderr",
     "output_type": "stream",
     "text": [
      "  7%|▋         | 30/448 [01:34<04:16,  1.63it/s]"
     ]
    },
    {
     "name": "stdout",
     "output_type": "stream",
     "text": [
      "The snRNAseq-10xGenomics-v3 library was sequenced on the Illumina NovaSeq system using the NovaSeq 6000 S4 Reagent kit. A full description of the protocol and materials used in the snRNAseq-10xGenomics-v3 library construction process can be found on protocols.io under the following protocol - 10X Genomics Single-Nucleus RNA-Sequencing for Transcriptomic Profiling of Adult Human Tissues V.3.\n"
     ]
    },
    {
     "name": "stderr",
     "output_type": "stream",
     "text": [
      "  7%|▋         | 31/448 [01:34<04:27,  1.56it/s]"
     ]
    },
    {
     "name": "stdout",
     "output_type": "stream",
     "text": [
      "The snRNAseq-10xGenomics-v3 library was sequenced on the Illumina NovaSeq system using the NovaSeq 6000 S4 Reagent kit. A full description of the protocol and materials used in the snRNAseq-10xGenomics-v3 library construction process can be found on protocols.io under the following protocol - 10X Genomics Single-Nucleus RNA-Sequencing for Transcriptomic Profiling of Adult Human Tissues V.3.\n"
     ]
    },
    {
     "name": "stderr",
     "output_type": "stream",
     "text": [
      "  7%|▋         | 32/448 [01:35<04:53,  1.42it/s]"
     ]
    },
    {
     "name": "stdout",
     "output_type": "stream",
     "text": [
      "The snRNAseq-10xGenomics-v3 library was sequenced on the Illumina NovaSeq system using the NovaSeq 6000 S4 Reagent kit. A full description of the protocol and materials used in the snRNAseq-10xGenomics-v3 library construction process can be found on protocols.io under the following protocol - 10X Genomics Single-Nucleus RNA-Sequencing for Transcriptomic Profiling of Adult Human Tissues V.3.\n"
     ]
    },
    {
     "name": "stderr",
     "output_type": "stream",
     "text": [
      "  7%|▋         | 33/448 [01:36<05:00,  1.38it/s]"
     ]
    },
    {
     "name": "stdout",
     "output_type": "stream",
     "text": [
      "The snRNAseq-10xGenomics-v3 library was sequenced on the Illumina NovaSeq system using the NovaSeq 6000 S4 Reagent kit. A full description of the protocol and materials used in the snRNAseq-10xGenomics-v3 library construction process can be found on protocols.io under the following protocol - 10X Genomics Single-Nucleus RNA-Sequencing for Transcriptomic Profiling of Adult Human Tissues V.3.\n"
     ]
    },
    {
     "name": "stderr",
     "output_type": "stream",
     "text": [
      "  8%|▊         | 34/448 [01:37<04:50,  1.43it/s]"
     ]
    },
    {
     "name": "stdout",
     "output_type": "stream",
     "text": [
      "The snRNAseq-10xGenomics-v3 library was sequenced on the Illumina NovaSeq system using the NovaSeq 6000 S4 Reagent kit. A full description of the protocol and materials used in the snRNAseq-10xGenomics-v3 library construction process can be found on protocols.io under the following protocol - 10X Genomics Single-Nucleus RNA-Sequencing for Transcriptomic Profiling of Adult Human Tissues V.3.\n"
     ]
    },
    {
     "name": "stderr",
     "output_type": "stream",
     "text": [
      "  8%|▊         | 35/448 [01:37<04:40,  1.47it/s]"
     ]
    },
    {
     "name": "stdout",
     "output_type": "stream",
     "text": [
      "The snRNAseq-10xGenomics-v3 library was sequenced on the Illumina NovaSeq system using the NovaSeq 6000 S4 Reagent kit. A full description of the protocol and materials used in the snRNAseq-10xGenomics-v3 library construction process can be found on protocols.io under the following protocol - 10X Genomics Single-Nucleus RNA-Sequencing for Transcriptomic Profiling of Adult Human Tissues V.3.\n"
     ]
    },
    {
     "name": "stderr",
     "output_type": "stream",
     "text": [
      "  8%|▊         | 36/448 [01:38<04:33,  1.51it/s]"
     ]
    },
    {
     "name": "stdout",
     "output_type": "stream",
     "text": [
      "The snRNAseq-10xGenomics-v3 library was sequenced on the Illumina NovaSeq system using the NovaSeq 6000 S4 Reagent kit. A full description of the protocol and materials used in the snRNAseq-10xGenomics-v3 library construction process can be found on protocols.io under the following protocol - 10X Genomics Single-Nucleus RNA-Sequencing for Transcriptomic Profiling of Adult Human Tissues V.3.\n"
     ]
    },
    {
     "name": "stderr",
     "output_type": "stream",
     "text": [
      "  8%|▊         | 37/448 [01:39<04:25,  1.55it/s]"
     ]
    },
    {
     "name": "stdout",
     "output_type": "stream",
     "text": [
      "The snRNAseq-10xGenomics-v3 library was sequenced on the Illumina NovaSeq system using the NovaSeq 6000 S4 Reagent kit. A full description of the protocol and materials used in the snRNAseq-10xGenomics-v3 library construction process can be found on protocols.io under the following protocol - 10X Genomics Single-Nucleus RNA-Sequencing for Transcriptomic Profiling of Adult Human Tissues V.3.\n"
     ]
    },
    {
     "name": "stderr",
     "output_type": "stream",
     "text": [
      "  8%|▊         | 38/448 [01:39<04:15,  1.60it/s]"
     ]
    },
    {
     "name": "stdout",
     "output_type": "stream",
     "text": [
      "The snRNAseq-10xGenomics-v3 library was sequenced on the Illumina NovaSeq system using the NovaSeq 6000 S4 Reagent kit. A full description of the protocol and materials used in the snRNAseq-10xGenomics-v3 library construction process can be found on protocols.io under the following protocol - 10X Genomics Single-Nucleus RNA-Sequencing for Transcriptomic Profiling of Adult Human Tissues V.3.\n"
     ]
    },
    {
     "name": "stderr",
     "output_type": "stream",
     "text": [
      "  9%|▊         | 39/448 [01:40<04:28,  1.52it/s]"
     ]
    },
    {
     "name": "stdout",
     "output_type": "stream",
     "text": [
      "The snRNAseq-10xGenomics-v3 library was sequenced on the Illumina NovaSeq system using the NovaSeq 6000 S4 Reagent kit. A full description of the protocol and materials used in the snRNAseq-10xGenomics-v3 library construction process can be found on protocols.io under the following protocol - 10X Genomics Single-Nucleus RNA-Sequencing for Transcriptomic Profiling of Adult Human Tissues V.3.\n"
     ]
    },
    {
     "name": "stderr",
     "output_type": "stream",
     "text": [
      "  9%|▉         | 40/448 [01:40<04:23,  1.55it/s]"
     ]
    },
    {
     "name": "stdout",
     "output_type": "stream",
     "text": [
      "The snRNAseq-10xGenomics-v3 library was sequenced on the Illumina NovaSeq system using the NovaSeq 6000 S4 Reagent kit. A full description of the protocol and materials used in the snRNAseq-10xGenomics-v3 library construction process can be found on protocols.io under the following protocol - 10X Genomics Single-Nucleus RNA-Sequencing for Transcriptomic Profiling of Adult Human Tissues V.3.\n"
     ]
    },
    {
     "name": "stderr",
     "output_type": "stream",
     "text": [
      "  9%|▉         | 41/448 [01:41<04:20,  1.56it/s]"
     ]
    },
    {
     "name": "stdout",
     "output_type": "stream",
     "text": [
      "The snRNAseq-10xGenomics-v3 library was sequenced on the Illumina NovaSeq system using the NovaSeq 6000 S4 Reagent kit. A full description of the protocol and materials used in the snRNAseq-10xGenomics-v3 library construction process can be found on protocols.io under the following protocol - 10X Genomics Single-Nucleus RNA-Sequencing for Transcriptomic Profiling of Adult Human Tissues V.3.\n"
     ]
    },
    {
     "name": "stderr",
     "output_type": "stream",
     "text": [
      "  9%|▉         | 42/448 [01:42<04:13,  1.60it/s]"
     ]
    },
    {
     "name": "stdout",
     "output_type": "stream",
     "text": [
      "The snRNAseq-10xGenomics-v3 library was sequenced on the Illumina NovaSeq system using the NovaSeq 6000 S4 Reagent kit. A full description of the protocol and materials used in the snRNAseq-10xGenomics-v3 library construction process can be found on protocols.io under the following protocol - 10X Genomics Single-Nucleus RNA-Sequencing for Transcriptomic Profiling of Adult Human Tissues V.3.\n"
     ]
    },
    {
     "name": "stderr",
     "output_type": "stream",
     "text": [
      " 10%|▉         | 43/448 [01:42<04:03,  1.66it/s]"
     ]
    },
    {
     "name": "stdout",
     "output_type": "stream",
     "text": [
      "The Slide-seq library was sequenced on the Illumina NovaSeq 6000 system using the S2 kit. A full description of the protocol and materials used in the Slide-seq library construction process can be found on protocols.io under the following protocol - Library Generation using Slide-seqV2 V.1.\n"
     ]
    },
    {
     "name": "stderr",
     "output_type": "stream",
     "text": [
      " 10%|▉         | 44/448 [01:43<04:03,  1.66it/s]"
     ]
    },
    {
     "name": "stdout",
     "output_type": "stream",
     "text": [
      "The Slide-seq library was sequenced on the Illumina NovaSeq 6000 system using the S2 kit. A full description of the protocol and materials used in the Slide-seq library construction process can be found on protocols.io under the following protocol - Library Generation using Slide-seqV2 V.1.\n"
     ]
    },
    {
     "name": "stderr",
     "output_type": "stream",
     "text": [
      " 10%|█         | 45/448 [01:43<04:02,  1.66it/s]"
     ]
    },
    {
     "name": "stdout",
     "output_type": "stream",
     "text": [
      "The Slide-seq library was sequenced on the Illumina NovaSeq 6000 system using the S2 kit. A full description of the protocol and materials used in the Slide-seq library construction process can be found on protocols.io under the following protocol - Library Generation using Slide-seqV2 V.1.\n"
     ]
    },
    {
     "name": "stderr",
     "output_type": "stream",
     "text": [
      " 10%|█         | 46/448 [01:44<04:01,  1.67it/s]"
     ]
    },
    {
     "name": "stdout",
     "output_type": "stream",
     "text": [
      "The Slide-seq library was sequenced on the Illumina NovaSeq 6000 system using the S2 kit. A full description of the protocol and materials used in the Slide-seq library construction process can be found on protocols.io under the following protocol - Library Generation using Slide-seqV2 V.1.\n"
     ]
    },
    {
     "name": "stderr",
     "output_type": "stream",
     "text": [
      " 10%|█         | 47/448 [01:45<04:02,  1.65it/s]"
     ]
    },
    {
     "name": "stdout",
     "output_type": "stream",
     "text": [
      "The Slide-seq library was sequenced on the Illumina NovaSeq 6000 system using the S2 kit. A full description of the protocol and materials used in the Slide-seq library construction process can be found on protocols.io under the following protocol - Library Generation using Slide-seqV2 V.1.\n"
     ]
    },
    {
     "name": "stderr",
     "output_type": "stream",
     "text": [
      " 11%|█         | 48/448 [01:45<04:01,  1.66it/s]"
     ]
    },
    {
     "name": "stdout",
     "output_type": "stream",
     "text": [
      "The Slide-seq library was sequenced on the Illumina NovaSeq 6000 system using the S2 kit. A full description of the protocol and materials used in the Slide-seq library construction process can be found on protocols.io under the following protocol - Library Generation using Slide-seqV2 V.1.\n"
     ]
    },
    {
     "name": "stderr",
     "output_type": "stream",
     "text": [
      " 11%|█         | 49/448 [01:46<04:01,  1.65it/s]"
     ]
    },
    {
     "name": "stdout",
     "output_type": "stream",
     "text": [
      "The Slide-seq library was sequenced on the Illumina NovaSeq 6000 system using the S2 kit. A full description of the protocol and materials used in the Slide-seq library construction process can be found on protocols.io under the following protocol - Library Generation using Slide-seqV2 V.1.\n"
     ]
    },
    {
     "name": "stderr",
     "output_type": "stream",
     "text": [
      " 11%|█         | 50/448 [01:46<04:00,  1.65it/s]"
     ]
    },
    {
     "name": "stdout",
     "output_type": "stream",
     "text": [
      "The Slide-seq library was sequenced on the Illumina NovaSeq 6000 system using the S2 kit. A full description of the protocol and materials used in the Slide-seq library construction process can be found on protocols.io under the following protocol - Library Generation using Slide-seqV2 V.1.\n"
     ]
    },
    {
     "name": "stderr",
     "output_type": "stream",
     "text": [
      " 11%|█▏        | 51/448 [01:47<03:57,  1.67it/s]"
     ]
    },
    {
     "name": "stdout",
     "output_type": "stream",
     "text": [
      "The Slide-seq library was sequenced on the Illumina NovaSeq 6000 system using the S2 kit. A full description of the protocol and materials used in the Slide-seq library construction process can be found on protocols.io under the following protocol - Library Generation using Slide-seqV2 V.1.\n"
     ]
    },
    {
     "name": "stderr",
     "output_type": "stream",
     "text": [
      " 12%|█▏        | 52/448 [01:48<03:58,  1.66it/s]"
     ]
    },
    {
     "name": "stdout",
     "output_type": "stream",
     "text": [
      "The Slide-seq library was sequenced on the Illumina NovaSeq 6000 system using the S2 kit. A full description of the protocol and materials used in the Slide-seq library construction process can be found on protocols.io under the following protocol - Library Generation using Slide-seqV2 V.1.\n"
     ]
    },
    {
     "name": "stderr",
     "output_type": "stream",
     "text": [
      " 12%|█▏        | 53/448 [01:48<03:56,  1.67it/s]"
     ]
    },
    {
     "name": "stdout",
     "output_type": "stream",
     "text": [
      "The Slide-seq library was sequenced on the Illumina NovaSeq 6000 system using the S2 kit. A full description of the protocol and materials used in the Slide-seq library construction process can be found on protocols.io under the following protocol - Library Generation using Slide-seqV2 V.1.\n"
     ]
    },
    {
     "name": "stderr",
     "output_type": "stream",
     "text": [
      " 12%|█▏        | 54/448 [01:49<03:56,  1.66it/s]"
     ]
    },
    {
     "name": "stdout",
     "output_type": "stream",
     "text": [
      "The Slide-seq library was sequenced on the Illumina NovaSeq 6000 system using the S2 kit. A full description of the protocol and materials used in the Slide-seq library construction process can be found on protocols.io under the following protocol - Library Generation using Slide-seqV2 V.1.\n"
     ]
    },
    {
     "name": "stderr",
     "output_type": "stream",
     "text": [
      " 12%|█▏        | 55/448 [01:49<03:58,  1.65it/s]"
     ]
    },
    {
     "name": "stdout",
     "output_type": "stream",
     "text": [
      "The Slide-seq library was sequenced on the Illumina NovaSeq 6000 system using the S2 kit. A full description of the protocol and materials used in the Slide-seq library construction process can be found on protocols.io under the following protocol - Library Generation using Slide-seqV2 V.1.\n"
     ]
    },
    {
     "name": "stderr",
     "output_type": "stream",
     "text": [
      " 12%|█▎        | 56/448 [01:50<03:58,  1.65it/s]"
     ]
    },
    {
     "name": "stdout",
     "output_type": "stream",
     "text": [
      "The Slide-seq library was sequenced on the Illumina NovaSeq 6000 system using the S2 kit. A full description of the protocol and materials used in the Slide-seq library construction process can be found on protocols.io under the following protocol - Library Generation using Slide-seqV2 V.1.\n"
     ]
    },
    {
     "name": "stderr",
     "output_type": "stream",
     "text": [
      " 13%|█▎        | 57/448 [01:51<03:55,  1.66it/s]"
     ]
    },
    {
     "name": "stdout",
     "output_type": "stream",
     "text": [
      "The Slide-seq library was sequenced on the Illumina NovaSeq 6000 system using the S2 kit. A full description of the protocol and materials used in the Slide-seq library construction process can be found on protocols.io under the following protocol - Library Generation using Slide-seqV2 V.1.\n"
     ]
    },
    {
     "name": "stderr",
     "output_type": "stream",
     "text": [
      " 13%|█▎        | 58/448 [01:51<03:53,  1.67it/s]"
     ]
    },
    {
     "name": "stdout",
     "output_type": "stream",
     "text": [
      "The Slide-seq library was sequenced on the Illumina NovaSeq 6000 system using the S2 kit. A full description of the protocol and materials used in the Slide-seq library construction process can be found on protocols.io under the following protocol - Library Generation using Slide-seqV2 V.1.\n"
     ]
    },
    {
     "name": "stderr",
     "output_type": "stream",
     "text": [
      " 13%|█▎        | 59/448 [01:52<04:14,  1.53it/s]"
     ]
    },
    {
     "name": "stdout",
     "output_type": "stream",
     "text": [
      "The Slide-seq library was sequenced on the Illumina NovaSeq 6000 system using the S2 kit. A full description of the protocol and materials used in the Slide-seq library construction process can be found on protocols.io under the following protocol - Library Generation using Slide-seqV2 V.1.\n"
     ]
    },
    {
     "name": "stderr",
     "output_type": "stream",
     "text": [
      " 13%|█▎        | 60/448 [01:53<04:26,  1.46it/s]"
     ]
    },
    {
     "name": "stdout",
     "output_type": "stream",
     "text": [
      "The Slide-seq library was sequenced on the Illumina NovaSeq 6000 system using the S2 kit. A full description of the protocol and materials used in the Slide-seq library construction process can be found on protocols.io under the following protocol - Library Generation using Slide-seqV2 V.1.\n"
     ]
    },
    {
     "name": "stderr",
     "output_type": "stream",
     "text": [
      " 14%|█▎        | 61/448 [01:53<04:23,  1.47it/s]"
     ]
    },
    {
     "name": "stdout",
     "output_type": "stream",
     "text": [
      "The Slide-seq library was sequenced on the Illumina NovaSeq 6000 system using the S2 kit. A full description of the protocol and materials used in the Slide-seq library construction process can be found on protocols.io under the following protocol - Library Generation using Slide-seqV2 V.1.\n"
     ]
    },
    {
     "name": "stderr",
     "output_type": "stream",
     "text": [
      " 14%|█▍        | 62/448 [01:54<04:20,  1.48it/s]"
     ]
    },
    {
     "name": "stdout",
     "output_type": "stream",
     "text": [
      "The Slide-seq library was sequenced on the Illumina NovaSeq 6000 system using the S2 kit. A full description of the protocol and materials used in the Slide-seq library construction process can be found on protocols.io under the following protocol - Library Generation using Slide-seqV2 V.1.\n"
     ]
    },
    {
     "name": "stderr",
     "output_type": "stream",
     "text": [
      " 14%|█▍        | 63/448 [01:55<04:41,  1.37it/s]"
     ]
    },
    {
     "name": "stdout",
     "output_type": "stream",
     "text": [
      "The Slide-seq library was sequenced on the Illumina NovaSeq 6000 system using the S2 kit. A full description of the protocol and materials used in the Slide-seq library construction process can be found on protocols.io under the following protocol - Library Generation using Slide-seqV2 V.1.\n"
     ]
    },
    {
     "name": "stderr",
     "output_type": "stream",
     "text": [
      " 14%|█▍        | 64/448 [01:56<04:35,  1.39it/s]"
     ]
    },
    {
     "name": "stdout",
     "output_type": "stream",
     "text": [
      "The Slide-seq library was sequenced on the Illumina NovaSeq 6000 system using the S2 kit. A full description of the protocol and materials used in the Slide-seq library construction process can be found on protocols.io under the following protocol - Library Generation using Slide-seqV2 V.1.\n"
     ]
    },
    {
     "name": "stderr",
     "output_type": "stream",
     "text": [
      " 15%|█▍        | 65/448 [01:56<04:26,  1.44it/s]"
     ]
    },
    {
     "name": "stdout",
     "output_type": "stream",
     "text": [
      "The Slide-seq library was sequenced on the Illumina NovaSeq 6000 system using the S2 kit. A full description of the protocol and materials used in the Slide-seq library construction process can be found on protocols.io under the following protocol - Library Generation using Slide-seqV2 V.1.\n"
     ]
    },
    {
     "name": "stderr",
     "output_type": "stream",
     "text": [
      " 15%|█▍        | 66/448 [01:57<04:14,  1.50it/s]"
     ]
    },
    {
     "name": "stdout",
     "output_type": "stream",
     "text": [
      "The SNAREseq library was sequenced on the Illumina NovaSeq system using the NovaSeq 6000 S4 Reagent kit. A full description of the protocol and materials used in the SNAREseq library construction process can be found on protocols.io under the following protocol - SNARE-seq2 V.1.\n"
     ]
    },
    {
     "name": "stderr",
     "output_type": "stream",
     "text": [
      " 15%|█▍        | 67/448 [01:58<04:19,  1.47it/s]"
     ]
    },
    {
     "name": "stdout",
     "output_type": "stream",
     "text": [
      "The SNARE-RNAseq2 library was sequenced on the Illumina NovaSeq system using the NovaSeq 6000 S4 Reagent kit. A full description of the protocol and materials used in the SNARE-RNAseq2 library construction process can be found on protocols.io under the following protocol - SNARE-seq2 V.1.\n"
     ]
    },
    {
     "name": "stderr",
     "output_type": "stream",
     "text": [
      " 15%|█▌        | 68/448 [01:58<04:22,  1.45it/s]"
     ]
    },
    {
     "name": "stdout",
     "output_type": "stream",
     "text": [
      "The SNAREseq library was sequenced on the Illumina NovaSeq system using the NovaSeq 6000 S4 Reagent kit. A full description of the protocol and materials used in the SNAREseq library construction process can be found on protocols.io under the following protocol - SNARE-seq2 V.1.\n"
     ]
    },
    {
     "name": "stderr",
     "output_type": "stream",
     "text": [
      " 15%|█▌        | 69/448 [01:59<04:18,  1.47it/s]"
     ]
    },
    {
     "name": "stdout",
     "output_type": "stream",
     "text": [
      "The SNAREseq library was sequenced on the Illumina NovaSeq system using the NovaSeq 6000 S4 Reagent kit. A full description of the protocol and materials used in the SNAREseq library construction process can be found on protocols.io under the following protocol - SNARE-seq2 V.1.\n"
     ]
    },
    {
     "name": "stderr",
     "output_type": "stream",
     "text": [
      " 16%|█▌        | 70/448 [02:00<04:12,  1.50it/s]"
     ]
    },
    {
     "name": "stdout",
     "output_type": "stream",
     "text": [
      "The SNAREseq library was sequenced on the Illumina NovaSeq system using the NovaSeq 6000 S4 Reagent kit. A full description of the protocol and materials used in the SNAREseq library construction process can be found on protocols.io under the following protocol - SNARE-seq2 V.1.\n"
     ]
    },
    {
     "name": "stderr",
     "output_type": "stream",
     "text": [
      " 16%|█▌        | 71/448 [02:00<04:09,  1.51it/s]"
     ]
    },
    {
     "name": "stdout",
     "output_type": "stream",
     "text": [
      "The SNAREseq library was sequenced on the Illumina NovaSeq system using the NovaSeq 6000 S4 Reagent kit. A full description of the protocol and materials used in the SNAREseq library construction process can be found on protocols.io under the following protocol - SNARE-seq2 V.1.\n"
     ]
    },
    {
     "name": "stderr",
     "output_type": "stream",
     "text": [
      " 16%|█▌        | 72/448 [02:01<04:04,  1.54it/s]"
     ]
    },
    {
     "name": "stdout",
     "output_type": "stream",
     "text": [
      "The SNAREseq library was sequenced on the Illumina NovaSeq system using the NovaSeq 6000 S4 Reagent kit. A full description of the protocol and materials used in the SNAREseq library construction process can be found on protocols.io under the following protocol - SNARE-seq2 V.1.\n"
     ]
    },
    {
     "name": "stderr",
     "output_type": "stream",
     "text": [
      " 16%|█▋        | 73/448 [02:02<04:02,  1.55it/s]"
     ]
    },
    {
     "name": "stdout",
     "output_type": "stream",
     "text": [
      "The SNAREseq library was sequenced on the Illumina NovaSeq system using the NovaSeq 6000 S4 Reagent kit. A full description of the protocol and materials used in the SNAREseq library construction process can be found on protocols.io under the following protocol - SNARE-seq2 V.1.\n"
     ]
    },
    {
     "name": "stderr",
     "output_type": "stream",
     "text": [
      " 17%|█▋        | 74/448 [02:02<04:03,  1.53it/s]"
     ]
    },
    {
     "name": "stdout",
     "output_type": "stream",
     "text": [
      "The SNAREseq library was sequenced on the Illumina NovaSeq system using the NovaSeq 6000 S4 Reagent kit. A full description of the protocol and materials used in the SNAREseq library construction process can be found on protocols.io under the following protocol - SNARE-seq2 V.1.\n"
     ]
    },
    {
     "name": "stderr",
     "output_type": "stream",
     "text": [
      " 17%|█▋        | 75/448 [02:03<03:55,  1.59it/s]"
     ]
    },
    {
     "name": "stdout",
     "output_type": "stream",
     "text": [
      "The SNAREseq library was sequenced on the Illumina NovaSeq system using the NovaSeq 6000 S4 Reagent kit. A full description of the protocol and materials used in the SNAREseq library construction process can be found on protocols.io under the following protocol - SNARE-seq2 V.1.\n"
     ]
    },
    {
     "name": "stderr",
     "output_type": "stream",
     "text": [
      " 17%|█▋        | 76/448 [02:03<03:57,  1.56it/s]"
     ]
    },
    {
     "name": "stdout",
     "output_type": "stream",
     "text": [
      "The SNAREseq library was sequenced on the Illumina NovaSeq system using the NovaSeq 6000 S4 Reagent kit. A full description of the protocol and materials used in the SNAREseq library construction process can be found on protocols.io under the following protocol - SNARE-seq2 V.1.\n"
     ]
    },
    {
     "name": "stderr",
     "output_type": "stream",
     "text": [
      " 17%|█▋        | 77/448 [02:04<03:50,  1.61it/s]"
     ]
    },
    {
     "name": "stdout",
     "output_type": "stream",
     "text": [
      "The SNAREseq library was sequenced on the Illumina NovaSeq system using the NovaSeq 6000 S4 Reagent kit. A full description of the protocol and materials used in the SNAREseq library construction process can be found on protocols.io under the following protocol - SNARE-seq2 V.1.\n"
     ]
    },
    {
     "name": "stderr",
     "output_type": "stream",
     "text": [
      " 17%|█▋        | 78/448 [02:05<03:50,  1.61it/s]"
     ]
    },
    {
     "name": "stdout",
     "output_type": "stream",
     "text": [
      "The SNAREseq library was sequenced on the Illumina NovaSeq system using the NovaSeq 6000 S4 Reagent kit. A full description of the protocol and materials used in the SNAREseq library construction process can be found on protocols.io under the following protocol - SNARE-seq2 V.1.\n"
     ]
    },
    {
     "name": "stderr",
     "output_type": "stream",
     "text": [
      " 18%|█▊        | 79/448 [02:05<03:49,  1.61it/s]"
     ]
    },
    {
     "name": "stdout",
     "output_type": "stream",
     "text": [
      "The SNAREseq library was sequenced on the Illumina NovaSeq system using the NovaSeq 6000 S4 Reagent kit. A full description of the protocol and materials used in the SNAREseq library construction process can be found on protocols.io under the following protocol - SNARE-seq2 V.1.\n"
     ]
    },
    {
     "name": "stderr",
     "output_type": "stream",
     "text": [
      " 18%|█▊        | 80/448 [02:06<03:50,  1.60it/s]"
     ]
    },
    {
     "name": "stdout",
     "output_type": "stream",
     "text": [
      "The SNAREseq library was sequenced on the Illumina NovaSeq system using the NovaSeq 6000 S4 Reagent kit. A full description of the protocol and materials used in the SNAREseq library construction process can be found on protocols.io under the following protocol - SNARE-seq2 V.1.\n"
     ]
    },
    {
     "name": "stderr",
     "output_type": "stream",
     "text": [
      " 18%|█▊        | 81/448 [02:07<03:46,  1.62it/s]"
     ]
    },
    {
     "name": "stdout",
     "output_type": "stream",
     "text": [
      "The SNAREseq library was sequenced on the Illumina NovaSeq system using the NovaSeq 6000 S4 Reagent kit. A full description of the protocol and materials used in the SNAREseq library construction process can be found on protocols.io under the following protocol - SNARE-seq2 V.1.\n"
     ]
    },
    {
     "name": "stderr",
     "output_type": "stream",
     "text": [
      " 18%|█▊        | 82/448 [02:07<03:46,  1.61it/s]"
     ]
    },
    {
     "name": "stdout",
     "output_type": "stream",
     "text": [
      "The SNAREseq library was sequenced on the Illumina NovaSeq system using the NovaSeq 6000 S4 Reagent kit. A full description of the protocol and materials used in the SNAREseq library construction process can be found on protocols.io under the following protocol - SNARE-seq2 V.1.\n"
     ]
    },
    {
     "name": "stderr",
     "output_type": "stream",
     "text": [
      " 19%|█▊        | 83/448 [02:08<03:41,  1.65it/s]"
     ]
    },
    {
     "name": "stdout",
     "output_type": "stream",
     "text": [
      "The SNAREseq library was sequenced on the Illumina NovaSeq system using the NovaSeq 6000 S4 Reagent kit. A full description of the protocol and materials used in the SNAREseq library construction process can be found on protocols.io under the following protocol - SNARE-seq2 V.1.\n"
     ]
    },
    {
     "name": "stderr",
     "output_type": "stream",
     "text": [
      " 19%|█▉        | 84/448 [02:08<03:40,  1.65it/s]"
     ]
    },
    {
     "name": "stdout",
     "output_type": "stream",
     "text": [
      "The SNAREseq library was sequenced on the Illumina NovaSeq system using the NovaSeq 6000 S4 Reagent kit. A full description of the protocol and materials used in the SNAREseq library construction process can be found on protocols.io under the following protocol - SNARE-seq2 V.1.\n"
     ]
    },
    {
     "name": "stderr",
     "output_type": "stream",
     "text": [
      " 19%|█▉        | 85/448 [02:09<03:42,  1.63it/s]"
     ]
    },
    {
     "name": "stdout",
     "output_type": "stream",
     "text": [
      "The SNAREseq library was sequenced on the Illumina NovaSeq system using the NovaSeq 6000 S4 Reagent kit. A full description of the protocol and materials used in the SNAREseq library construction process can be found on protocols.io under the following protocol - SNARE-seq2 V.1.\n"
     ]
    },
    {
     "name": "stderr",
     "output_type": "stream",
     "text": [
      " 19%|█▉        | 86/448 [02:10<03:44,  1.61it/s]"
     ]
    },
    {
     "name": "stdout",
     "output_type": "stream",
     "text": [
      "The SNAREseq library was sequenced on the Illumina NovaSeq system using the NovaSeq 6000 S4 Reagent kit. A full description of the protocol and materials used in the SNAREseq library construction process can be found on protocols.io under the following protocol - SNARE-seq2 V.1.\n"
     ]
    },
    {
     "name": "stderr",
     "output_type": "stream",
     "text": [
      " 19%|█▉        | 87/448 [02:11<04:33,  1.32it/s]"
     ]
    },
    {
     "name": "stdout",
     "output_type": "stream",
     "text": [
      "The SNAREseq library was sequenced on the Illumina NovaSeq system using the NovaSeq 6000 S4 Reagent kit. A full description of the protocol and materials used in the SNAREseq library construction process can be found on protocols.io under the following protocol - SNARE-seq2 V.1.\n"
     ]
    },
    {
     "name": "stderr",
     "output_type": "stream",
     "text": [
      " 20%|█▉        | 88/448 [02:11<04:22,  1.37it/s]"
     ]
    },
    {
     "name": "stdout",
     "output_type": "stream",
     "text": [
      "The SNAREseq library was sequenced on the Illumina NovaSeq system using the NovaSeq 6000 S4 Reagent kit. A full description of the protocol and materials used in the SNAREseq library construction process can be found on protocols.io under the following protocol - SNARE-seq2 V.1.\n"
     ]
    },
    {
     "name": "stderr",
     "output_type": "stream",
     "text": [
      " 20%|█▉        | 89/448 [02:12<04:09,  1.44it/s]"
     ]
    },
    {
     "name": "stdout",
     "output_type": "stream",
     "text": [
      "The SNAREseq library was sequenced on the Illumina NovaSeq system using the NovaSeq 6000 S4 Reagent kit. A full description of the protocol and materials used in the SNAREseq library construction process can be found on protocols.io under the following protocol - SNARE-seq2 V.1.\n"
     ]
    },
    {
     "name": "stderr",
     "output_type": "stream",
     "text": [
      " 20%|██        | 90/448 [02:13<04:05,  1.46it/s]"
     ]
    },
    {
     "name": "stdout",
     "output_type": "stream",
     "text": [
      "The SNAREseq library was sequenced on the Illumina NovaSeq system using the NovaSeq 6000 S4 Reagent kit. A full description of the protocol and materials used in the SNAREseq library construction process can be found on protocols.io under the following protocol - SNARE-seq2 V.1.\n"
     ]
    },
    {
     "name": "stderr",
     "output_type": "stream",
     "text": [
      " 20%|██        | 91/448 [02:13<03:56,  1.51it/s]"
     ]
    },
    {
     "name": "stdout",
     "output_type": "stream",
     "text": [
      "The SNAREseq library was sequenced on the Illumina NovaSeq system using the NovaSeq 6000 S4 Reagent kit. A full description of the protocol and materials used in the SNAREseq library construction process can be found on protocols.io under the following protocol - SNARE-seq2 V.1.\n"
     ]
    },
    {
     "name": "stderr",
     "output_type": "stream",
     "text": [
      " 21%|██        | 92/448 [02:14<03:53,  1.53it/s]"
     ]
    },
    {
     "name": "stdout",
     "output_type": "stream",
     "text": [
      "The SNAREseq library was sequenced on the Illumina NovaSeq system using the NovaSeq 6000 S4 Reagent kit. A full description of the protocol and materials used in the SNAREseq library construction process can be found on protocols.io under the following protocol - SNARE-seq2 V.1.\n"
     ]
    },
    {
     "name": "stderr",
     "output_type": "stream",
     "text": [
      " 21%|██        | 93/448 [02:14<03:49,  1.55it/s]"
     ]
    },
    {
     "name": "stdout",
     "output_type": "stream",
     "text": [
      "The SNAREseq library was sequenced on the Illumina NovaSeq system using the NovaSeq 6000 S4 Reagent kit. A full description of the protocol and materials used in the SNAREseq library construction process can be found on protocols.io under the following protocol - SNARE-seq2 V.1.\n"
     ]
    },
    {
     "name": "stderr",
     "output_type": "stream",
     "text": [
      " 21%|██        | 94/448 [02:15<03:41,  1.60it/s]"
     ]
    },
    {
     "name": "stdout",
     "output_type": "stream",
     "text": [
      "The SNARE-RNAseq2 library was sequenced on the Illumina NovaSeq system using the NovaSeq 6000 S4 Reagent kit. A full description of the protocol and materials used in the SNARE-RNAseq2 library construction process can be found on protocols.io under the following protocol - SNARE-seq2 V.1.\n"
     ]
    },
    {
     "name": "stderr",
     "output_type": "stream",
     "text": [
      " 21%|██        | 95/448 [02:16<03:42,  1.59it/s]"
     ]
    },
    {
     "name": "stdout",
     "output_type": "stream",
     "text": [
      "The SNARE-RNAseq2 library was sequenced on the Illumina NovaSeq system using the NovaSeq 6000 S4 Reagent kit. A full description of the protocol and materials used in the SNARE-RNAseq2 library construction process can be found on protocols.io under the following protocol - SNARE-seq2 V.1.\n"
     ]
    },
    {
     "name": "stderr",
     "output_type": "stream",
     "text": [
      " 21%|██▏       | 96/448 [02:16<03:39,  1.60it/s]"
     ]
    },
    {
     "name": "stdout",
     "output_type": "stream",
     "text": [
      "The SNARE-RNAseq2 library was sequenced on the Illumina NovaSeq system using the NovaSeq 6000 S4 Reagent kit. A full description of the protocol and materials used in the SNARE-RNAseq2 library construction process can be found on protocols.io under the following protocol - SNARE-seq2 V.1.\n"
     ]
    },
    {
     "name": "stderr",
     "output_type": "stream",
     "text": [
      " 22%|██▏       | 97/448 [02:17<03:38,  1.61it/s]"
     ]
    },
    {
     "name": "stdout",
     "output_type": "stream",
     "text": [
      "The SNARE-RNAseq2 library was sequenced on the Illumina NovaSeq system using the NovaSeq 6000 S4 Reagent kit. A full description of the protocol and materials used in the SNARE-RNAseq2 library construction process can be found on protocols.io under the following protocol - SNARE-seq2 V.1.\n"
     ]
    },
    {
     "name": "stderr",
     "output_type": "stream",
     "text": [
      " 22%|██▏       | 98/448 [02:18<03:38,  1.60it/s]"
     ]
    },
    {
     "name": "stdout",
     "output_type": "stream",
     "text": [
      "The SNARE-RNAseq2 library was sequenced on the Illumina NovaSeq system using the NovaSeq 6000 S4 Reagent kit. A full description of the protocol and materials used in the SNARE-RNAseq2 library construction process can be found on protocols.io under the following protocol - SNARE-seq2 V.1.\n"
     ]
    },
    {
     "name": "stderr",
     "output_type": "stream",
     "text": [
      " 22%|██▏       | 99/448 [02:18<03:35,  1.62it/s]"
     ]
    },
    {
     "name": "stdout",
     "output_type": "stream",
     "text": [
      "The SNARE-RNAseq2 library was sequenced on the Illumina NovaSeq system using the NovaSeq 6000 S4 Reagent kit. A full description of the protocol and materials used in the SNARE-RNAseq2 library construction process can be found on protocols.io under the following protocol - SNARE-seq2 V.1.\n"
     ]
    },
    {
     "name": "stderr",
     "output_type": "stream",
     "text": [
      " 22%|██▏       | 100/448 [02:19<04:03,  1.43it/s]"
     ]
    },
    {
     "name": "stdout",
     "output_type": "stream",
     "text": [
      "The SNARE-RNAseq2 library was sequenced on the Illumina NovaSeq system using the NovaSeq 6000 S4 Reagent kit. A full description of the protocol and materials used in the SNARE-RNAseq2 library construction process can be found on protocols.io under the following protocol - SNARE-seq2 V.1.\n"
     ]
    },
    {
     "name": "stderr",
     "output_type": "stream",
     "text": [
      " 23%|██▎       | 101/448 [02:20<03:57,  1.46it/s]"
     ]
    },
    {
     "name": "stdout",
     "output_type": "stream",
     "text": [
      "The SNARE-RNAseq2 library was sequenced on the Illumina NovaSeq system using the NovaSeq 6000 S4 Reagent kit. A full description of the protocol and materials used in the SNARE-RNAseq2 library construction process can be found on protocols.io under the following protocol - SNARE-seq2 V.1.\n"
     ]
    },
    {
     "name": "stderr",
     "output_type": "stream",
     "text": [
      " 23%|██▎       | 102/448 [02:20<03:53,  1.48it/s]"
     ]
    },
    {
     "name": "stdout",
     "output_type": "stream",
     "text": [
      "The SNARE-RNAseq2 library was sequenced on the Illumina NovaSeq system using the NovaSeq 6000 S4 Reagent kit. A full description of the protocol and materials used in the SNARE-RNAseq2 library construction process can be found on protocols.io under the following protocol - SNARE-seq2 V.1.\n"
     ]
    },
    {
     "name": "stderr",
     "output_type": "stream",
     "text": [
      " 23%|██▎       | 103/448 [02:21<03:55,  1.47it/s]"
     ]
    },
    {
     "name": "stdout",
     "output_type": "stream",
     "text": [
      "The SNARE-RNAseq2 library was sequenced on the Illumina NovaSeq system using the NovaSeq 6000 S4 Reagent kit. A full description of the protocol and materials used in the SNARE-RNAseq2 library construction process can be found on protocols.io under the following protocol - SNARE-seq2 V.1.\n"
     ]
    },
    {
     "name": "stderr",
     "output_type": "stream",
     "text": [
      " 23%|██▎       | 104/448 [02:22<03:44,  1.54it/s]"
     ]
    },
    {
     "name": "stdout",
     "output_type": "stream",
     "text": [
      "The SNARE-RNAseq2 library was sequenced on the Illumina NovaSeq system using the NovaSeq 6000 S4 Reagent kit. A full description of the protocol and materials used in the SNARE-RNAseq2 library construction process can be found on protocols.io under the following protocol - SNARE-seq2 V.1.\n"
     ]
    },
    {
     "name": "stderr",
     "output_type": "stream",
     "text": [
      " 23%|██▎       | 105/448 [02:22<03:38,  1.57it/s]"
     ]
    },
    {
     "name": "stdout",
     "output_type": "stream",
     "text": [
      "The SNARE-RNAseq2 library was sequenced on the Illumina NovaSeq system using the NovaSeq 6000 S4 Reagent kit. A full description of the protocol and materials used in the SNARE-RNAseq2 library construction process can be found on protocols.io under the following protocol - SNARE-seq2 V.1.\n"
     ]
    },
    {
     "name": "stderr",
     "output_type": "stream",
     "text": [
      " 24%|██▎       | 106/448 [02:23<03:32,  1.61it/s]"
     ]
    },
    {
     "name": "stdout",
     "output_type": "stream",
     "text": [
      "The SNARE-RNAseq2 library was sequenced on the Illumina NovaSeq system using the NovaSeq 6000 S4 Reagent kit. A full description of the protocol and materials used in the SNARE-RNAseq2 library construction process can be found on protocols.io under the following protocol - SNARE-seq2 V.1.\n"
     ]
    },
    {
     "name": "stderr",
     "output_type": "stream",
     "text": [
      " 24%|██▍       | 107/448 [02:23<03:32,  1.61it/s]"
     ]
    },
    {
     "name": "stdout",
     "output_type": "stream",
     "text": [
      "The SNARE-RNAseq2 library was sequenced on the Illumina NovaSeq system using the NovaSeq 6000 S4 Reagent kit. A full description of the protocol and materials used in the SNARE-RNAseq2 library construction process can be found on protocols.io under the following protocol - SNARE-seq2 V.1.\n"
     ]
    },
    {
     "name": "stderr",
     "output_type": "stream",
     "text": [
      " 24%|██▍       | 108/448 [02:24<03:29,  1.62it/s]"
     ]
    },
    {
     "name": "stdout",
     "output_type": "stream",
     "text": [
      "The SNARE-RNAseq2 library was sequenced on the Illumina NovaSeq system using the NovaSeq 6000 S4 Reagent kit. A full description of the protocol and materials used in the SNARE-RNAseq2 library construction process can be found on protocols.io under the following protocol - SNARE-seq2 V.1.\n"
     ]
    },
    {
     "name": "stderr",
     "output_type": "stream",
     "text": [
      " 24%|██▍       | 109/448 [02:25<03:25,  1.65it/s]"
     ]
    },
    {
     "name": "stdout",
     "output_type": "stream",
     "text": [
      "The SNARE-RNAseq2 library was sequenced on the Illumina NovaSeq system using the NovaSeq 6000 S4 Reagent kit. A full description of the protocol and materials used in the SNARE-RNAseq2 library construction process can be found on protocols.io under the following protocol - SNARE-seq2 V.1.\n"
     ]
    },
    {
     "name": "stderr",
     "output_type": "stream",
     "text": [
      " 25%|██▍       | 110/448 [02:25<03:24,  1.65it/s]"
     ]
    },
    {
     "name": "stdout",
     "output_type": "stream",
     "text": [
      "The SNARE-RNAseq2 library was sequenced on the Illumina NovaSeq system using the NovaSeq 6000 S4 Reagent kit. A full description of the protocol and materials used in the SNARE-RNAseq2 library construction process can be found on protocols.io under the following protocol - SNARE-seq2 V.1.\n"
     ]
    },
    {
     "name": "stderr",
     "output_type": "stream",
     "text": [
      " 25%|██▍       | 111/448 [02:26<03:20,  1.68it/s]"
     ]
    },
    {
     "name": "stdout",
     "output_type": "stream",
     "text": [
      "The SNARE-RNAseq2 library was sequenced on the Illumina NovaSeq system using the NovaSeq 6000 S4 Reagent kit. A full description of the protocol and materials used in the SNARE-RNAseq2 library construction process can be found on protocols.io under the following protocol - SNARE-seq2 V.1.\n"
     ]
    },
    {
     "name": "stderr",
     "output_type": "stream",
     "text": [
      " 25%|██▌       | 112/448 [02:26<03:19,  1.68it/s]"
     ]
    },
    {
     "name": "stdout",
     "output_type": "stream",
     "text": [
      "The SNAREseq library was sequenced on the Illumina NovaSeq system using the NovaSeq 6000 S4 Reagent kit. A full description of the protocol and materials used in the SNAREseq library construction process can be found on protocols.io under the following protocol - SNARE-seq2 V.1.\n"
     ]
    },
    {
     "name": "stderr",
     "output_type": "stream",
     "text": [
      " 25%|██▌       | 113/448 [02:27<03:16,  1.71it/s]"
     ]
    },
    {
     "name": "stdout",
     "output_type": "stream",
     "text": [
      "The SNARE-RNAseq2 library was sequenced on the Illumina NovaSeq system using the NovaSeq 6000 S4 Reagent kit. A full description of the protocol and materials used in the SNARE-RNAseq2 library construction process can be found on protocols.io under the following protocol - SNARE-seq2 V.1.\n"
     ]
    },
    {
     "name": "stderr",
     "output_type": "stream",
     "text": [
      " 25%|██▌       | 114/448 [02:28<03:16,  1.70it/s]"
     ]
    },
    {
     "name": "stdout",
     "output_type": "stream",
     "text": [
      "The SNARE-RNAseq2 library was sequenced on the Illumina NovaSeq system using the NovaSeq 6000 S4 Reagent kit. A full description of the protocol and materials used in the SNARE-RNAseq2 library construction process can be found on protocols.io under the following protocol - SNARE-seq2 V.1.\n"
     ]
    },
    {
     "name": "stderr",
     "output_type": "stream",
     "text": [
      " 26%|██▌       | 115/448 [02:28<03:24,  1.63it/s]"
     ]
    },
    {
     "name": "stdout",
     "output_type": "stream",
     "text": [
      "The SNARE-RNAseq2 library was sequenced on the Illumina NovaSeq system using the NovaSeq 6000 S4 Reagent kit. A full description of the protocol and materials used in the SNARE-RNAseq2 library construction process can be found on protocols.io under the following protocol - SNARE-seq2 V.1.\n"
     ]
    },
    {
     "name": "stderr",
     "output_type": "stream",
     "text": [
      " 26%|██▌       | 116/448 [02:29<03:31,  1.57it/s]"
     ]
    },
    {
     "name": "stdout",
     "output_type": "stream",
     "text": [
      "The SNARE-RNAseq2 library was sequenced on the Illumina NovaSeq system using the NovaSeq 6000 S4 Reagent kit. A full description of the protocol and materials used in the SNARE-RNAseq2 library construction process can be found on protocols.io under the following protocol - SNARE-seq2 V.1.\n"
     ]
    },
    {
     "name": "stderr",
     "output_type": "stream",
     "text": [
      " 26%|██▌       | 117/448 [02:30<03:35,  1.53it/s]"
     ]
    },
    {
     "name": "stdout",
     "output_type": "stream",
     "text": [
      "The SNARE-RNAseq2 library was sequenced on the Illumina NovaSeq system using the NovaSeq 6000 S4 Reagent kit. A full description of the protocol and materials used in the SNARE-RNAseq2 library construction process can be found on protocols.io under the following protocol - SNARE-seq2 V.1.\n"
     ]
    },
    {
     "name": "stderr",
     "output_type": "stream",
     "text": [
      " 26%|██▋       | 118/448 [02:30<03:36,  1.52it/s]"
     ]
    },
    {
     "name": "stdout",
     "output_type": "stream",
     "text": [
      "The SNARE-RNAseq2 library was sequenced on the Illumina NovaSeq system using the NovaSeq 6000 S4 Reagent kit. A full description of the protocol and materials used in the SNARE-RNAseq2 library construction process can be found on protocols.io under the following protocol - SNARE-seq2 V.1.\n"
     ]
    },
    {
     "name": "stderr",
     "output_type": "stream",
     "text": [
      " 27%|██▋       | 119/448 [02:31<03:34,  1.53it/s]"
     ]
    },
    {
     "name": "stdout",
     "output_type": "stream",
     "text": [
      "The SNARE-RNAseq2 library was sequenced on the Illumina NovaSeq system using the NovaSeq 6000 S4 Reagent kit. A full description of the protocol and materials used in the SNARE-RNAseq2 library construction process can be found on protocols.io under the following protocol - SNARE-seq2 V.1.\n"
     ]
    },
    {
     "name": "stderr",
     "output_type": "stream",
     "text": [
      " 27%|██▋       | 120/448 [02:32<03:44,  1.46it/s]"
     ]
    },
    {
     "name": "stdout",
     "output_type": "stream",
     "text": [
      "The SNARE-RNAseq2 library was sequenced on the Illumina NovaSeq system using the NovaSeq 6000 S4 Reagent kit. A full description of the protocol and materials used in the SNARE-RNAseq2 library construction process can be found on protocols.io under the following protocol - SNARE-seq2 V.1.\n"
     ]
    },
    {
     "name": "stderr",
     "output_type": "stream",
     "text": [
      " 27%|██▋       | 121/448 [02:32<03:40,  1.49it/s]"
     ]
    },
    {
     "name": "stdout",
     "output_type": "stream",
     "text": [
      "The SNARE-RNAseq2 library was sequenced on the Illumina NovaSeq system using the NovaSeq 6000 S4 Reagent kit. A full description of the protocol and materials used in the SNARE-RNAseq2 library construction process can be found on protocols.io under the following protocol - SNARE-seq2 V.1.\n"
     ]
    },
    {
     "name": "stderr",
     "output_type": "stream",
     "text": [
      " 27%|██▋       | 122/448 [02:33<03:34,  1.52it/s]"
     ]
    },
    {
     "name": "stdout",
     "output_type": "stream",
     "text": [
      "The SNAREseq library was sequenced on the Illumina NovaSeq system using the NovaSeq 6000 S4 Reagent kit. A full description of the protocol and materials used in the SNAREseq library construction process can be found on protocols.io under the following protocol - SNARE-seq2 V.1.\n"
     ]
    },
    {
     "name": "stderr",
     "output_type": "stream",
     "text": [
      " 27%|██▋       | 123/448 [02:34<03:41,  1.47it/s]"
     ]
    },
    {
     "name": "stdout",
     "output_type": "stream",
     "text": [
      "The SNAREseq library was sequenced on the Illumina NovaSeq system using the NovaSeq 6000 S4 Reagent kit. A full description of the protocol and materials used in the SNAREseq library construction process can be found on protocols.io under the following protocol - SNARE-seq2 V.1.\n"
     ]
    },
    {
     "name": "stderr",
     "output_type": "stream",
     "text": [
      " 28%|██▊       | 124/448 [02:34<03:35,  1.51it/s]"
     ]
    },
    {
     "name": "stdout",
     "output_type": "stream",
     "text": [
      "The SNAREseq library was sequenced on the Illumina NovaSeq system using the NovaSeq 6000 S4 Reagent kit. A full description of the protocol and materials used in the SNAREseq library construction process can be found on protocols.io under the following protocol - SNARE-seq2 V.1.\n"
     ]
    },
    {
     "name": "stderr",
     "output_type": "stream",
     "text": [
      " 28%|██▊       | 125/448 [02:35<03:27,  1.55it/s]"
     ]
    },
    {
     "name": "stdout",
     "output_type": "stream",
     "text": [
      "The SNAREseq library was sequenced on the Illumina NovaSeq system using the NovaSeq 6000 S4 Reagent kit. A full description of the protocol and materials used in the SNAREseq library construction process can be found on protocols.io under the following protocol - SNARE-seq2 V.1.\n"
     ]
    },
    {
     "name": "stderr",
     "output_type": "stream",
     "text": [
      " 28%|██▊       | 126/448 [02:36<03:23,  1.58it/s]"
     ]
    },
    {
     "name": "stdout",
     "output_type": "stream",
     "text": [
      "The SNAREseq library was sequenced on the Illumina NovaSeq system using the NovaSeq 6000 S4 Reagent kit. A full description of the protocol and materials used in the SNAREseq library construction process can be found on protocols.io under the following protocol - SNARE-seq2 V.1.\n"
     ]
    },
    {
     "name": "stderr",
     "output_type": "stream",
     "text": [
      " 28%|██▊       | 127/448 [02:36<03:20,  1.60it/s]"
     ]
    },
    {
     "name": "stdout",
     "output_type": "stream",
     "text": [
      "The SNARE-RNAseq2 library was sequenced on the Illumina NovaSeq system using the NovaSeq 6000 S4 Reagent kit. A full description of the protocol and materials used in the SNARE-RNAseq2 library construction process can be found on protocols.io under the following protocol - SNARE-seq2 V.1.\n"
     ]
    },
    {
     "name": "stderr",
     "output_type": "stream",
     "text": [
      " 29%|██▊       | 128/448 [02:37<03:18,  1.61it/s]"
     ]
    },
    {
     "name": "stdout",
     "output_type": "stream",
     "text": [
      "The SNARE-RNAseq2 library was sequenced on the Illumina NovaSeq system using the NovaSeq 6000 S4 Reagent kit. A full description of the protocol and materials used in the SNARE-RNAseq2 library construction process can be found on protocols.io under the following protocol - SNARE-seq2 V.1.\n"
     ]
    },
    {
     "name": "stderr",
     "output_type": "stream",
     "text": [
      " 29%|██▉       | 129/448 [02:38<04:33,  1.17it/s]"
     ]
    },
    {
     "name": "stdout",
     "output_type": "stream",
     "text": [
      "The SNARE-RNAseq2 library was sequenced on the Illumina NovaSeq system using the NovaSeq 6000 S4 Reagent kit. A full description of the protocol and materials used in the SNARE-RNAseq2 library construction process can be found on protocols.io under the following protocol - SNARE-seq2 V.1.\n"
     ]
    },
    {
     "name": "stderr",
     "output_type": "stream",
     "text": [
      " 29%|██▉       | 130/448 [02:39<04:13,  1.26it/s]"
     ]
    },
    {
     "name": "stdout",
     "output_type": "stream",
     "text": [
      "The SNARE-RNAseq2 library was sequenced on the Illumina NovaSeq system using the NovaSeq 6000 S4 Reagent kit. A full description of the protocol and materials used in the SNARE-RNAseq2 library construction process can be found on protocols.io under the following protocol - SNARE-seq2 V.1.\n"
     ]
    },
    {
     "name": "stderr",
     "output_type": "stream",
     "text": [
      " 29%|██▉       | 131/448 [02:39<03:53,  1.36it/s]"
     ]
    },
    {
     "name": "stdout",
     "output_type": "stream",
     "text": [
      "The SNARE-RNAseq2 library was sequenced on the Illumina NovaSeq system using the NovaSeq 6000 S4 Reagent kit. A full description of the protocol and materials used in the SNARE-RNAseq2 library construction process can be found on protocols.io under the following protocol - SNARE-seq2 V.1.\n"
     ]
    },
    {
     "name": "stderr",
     "output_type": "stream",
     "text": [
      " 29%|██▉       | 132/448 [02:40<03:44,  1.41it/s]"
     ]
    },
    {
     "name": "stdout",
     "output_type": "stream",
     "text": [
      "The SNARE-RNAseq2 library was sequenced on the Illumina NovaSeq system using the NovaSeq 6000 S4 Reagent kit. A full description of the protocol and materials used in the SNARE-RNAseq2 library construction process can be found on protocols.io under the following protocol - SNARE-seq2 V.1.\n"
     ]
    },
    {
     "name": "stderr",
     "output_type": "stream",
     "text": [
      " 30%|██▉       | 133/448 [02:41<03:59,  1.31it/s]"
     ]
    },
    {
     "name": "stdout",
     "output_type": "stream",
     "text": [
      "The SNARE-RNAseq2 library was sequenced on the Illumina NovaSeq system using the NovaSeq 6000 S4 Reagent kit. A full description of the protocol and materials used in the SNARE-RNAseq2 library construction process can be found on protocols.io under the following protocol - SNARE-seq2 V.1.\n"
     ]
    },
    {
     "name": "stderr",
     "output_type": "stream",
     "text": [
      " 30%|██▉       | 134/448 [02:42<03:48,  1.38it/s]"
     ]
    },
    {
     "name": "stdout",
     "output_type": "stream",
     "text": [
      "The SNARE-RNAseq2 library was sequenced on the Illumina NovaSeq system using the NovaSeq 6000 S4 Reagent kit. A full description of the protocol and materials used in the SNARE-RNAseq2 library construction process can be found on protocols.io under the following protocol - SNARE-seq2 V.1.\n"
     ]
    },
    {
     "name": "stderr",
     "output_type": "stream",
     "text": [
      " 30%|███       | 135/448 [02:42<03:34,  1.46it/s]"
     ]
    },
    {
     "name": "stdout",
     "output_type": "stream",
     "text": [
      "The SNARE-RNAseq2 library was sequenced on the Illumina NovaSeq system using the NovaSeq 6000 S4 Reagent kit. A full description of the protocol and materials used in the SNARE-RNAseq2 library construction process can be found on protocols.io under the following protocol - SNARE-seq2 V.1.\n"
     ]
    },
    {
     "name": "stderr",
     "output_type": "stream",
     "text": [
      " 30%|███       | 136/448 [02:43<03:24,  1.53it/s]"
     ]
    },
    {
     "name": "stdout",
     "output_type": "stream",
     "text": [
      "The SNARE-RNAseq2 library was sequenced on the Illumina NovaSeq system using the NovaSeq 6000 S4 Reagent kit. A full description of the protocol and materials used in the SNARE-RNAseq2 library construction process can be found on protocols.io under the following protocol - SNARE-seq2 V.1.\n"
     ]
    },
    {
     "name": "stderr",
     "output_type": "stream",
     "text": [
      " 31%|███       | 137/448 [02:43<03:15,  1.59it/s]"
     ]
    },
    {
     "name": "stdout",
     "output_type": "stream",
     "text": [
      "The SNAREseq library was sequenced on the Illumina NovaSeq system using the NovaSeq 6000 S4 Reagent kit. A full description of the protocol and materials used in the SNAREseq library construction process can be found on protocols.io under the following protocol - SNARE-seq2 V.1.\n"
     ]
    },
    {
     "name": "stderr",
     "output_type": "stream",
     "text": [
      " 31%|███       | 138/448 [02:44<03:14,  1.60it/s]"
     ]
    },
    {
     "name": "stdout",
     "output_type": "stream",
     "text": [
      "The SNAREseq library was sequenced on the Illumina NovaSeq system using the NovaSeq 6000 S4 Reagent kit. A full description of the protocol and materials used in the SNAREseq library construction process can be found on protocols.io under the following protocol - SNARE-seq2 V.1.\n"
     ]
    },
    {
     "name": "stderr",
     "output_type": "stream",
     "text": [
      " 31%|███       | 139/448 [02:45<03:13,  1.59it/s]"
     ]
    },
    {
     "name": "stdout",
     "output_type": "stream",
     "text": [
      "The SNAREseq library was sequenced on the Illumina NovaSeq system using the NovaSeq 6000 S4 Reagent kit. A full description of the protocol and materials used in the SNAREseq library construction process can be found on protocols.io under the following protocol - SNARE-seq2 V.1.\n"
     ]
    },
    {
     "name": "stderr",
     "output_type": "stream",
     "text": [
      " 31%|███▏      | 140/448 [02:45<03:11,  1.61it/s]"
     ]
    },
    {
     "name": "stdout",
     "output_type": "stream",
     "text": [
      "The SNARE-RNAseq2 library was sequenced on the Illumina NovaSeq system using the NovaSeq 6000 S4 Reagent kit. A full description of the protocol and materials used in the SNARE-RNAseq2 library construction process can be found on protocols.io under the following protocol - SNARE-seq2 V.1.\n"
     ]
    },
    {
     "name": "stderr",
     "output_type": "stream",
     "text": [
      " 31%|███▏      | 141/448 [02:46<03:07,  1.64it/s]"
     ]
    },
    {
     "name": "stdout",
     "output_type": "stream",
     "text": [
      "The SNARE-RNAseq2 library was sequenced on the Illumina NovaSeq system using the NovaSeq 6000 S4 Reagent kit. A full description of the protocol and materials used in the SNARE-RNAseq2 library construction process can be found on protocols.io under the following protocol - SNARE-seq2 V.1.\n"
     ]
    },
    {
     "name": "stderr",
     "output_type": "stream",
     "text": [
      " 32%|███▏      | 142/448 [02:46<03:04,  1.65it/s]"
     ]
    },
    {
     "name": "stdout",
     "output_type": "stream",
     "text": [
      "The SNARE-RNAseq2 library was sequenced on the Illumina NovaSeq system using the NovaSeq 6000 S4 Reagent kit. A full description of the protocol and materials used in the SNARE-RNAseq2 library construction process can be found on protocols.io under the following protocol - SNARE-seq2 V.1.\n"
     ]
    },
    {
     "name": "stderr",
     "output_type": "stream",
     "text": [
      " 32%|███▏      | 143/448 [02:54<13:20,  2.62s/it]"
     ]
    },
    {
     "name": "stdout",
     "output_type": "stream",
     "text": [
      "The SNARE-RNAseq2 library was sequenced on the Illumina NovaSeq system using the NovaSeq 6000 S4 Reagent kit. A full description of the protocol and materials used in the SNARE-RNAseq2 library construction process can be found on protocols.io under the following protocol - SNARE-seq2 V.1.\n"
     ]
    },
    {
     "name": "stderr",
     "output_type": "stream",
     "text": [
      " 32%|███▏      | 144/448 [02:54<10:29,  2.07s/it]"
     ]
    },
    {
     "name": "stdout",
     "output_type": "stream",
     "text": [
      "The SNAREseq library was sequenced on the Illumina NovaSeq system using the NovaSeq 6000 S4 Reagent kit. A full description of the protocol and materials used in the SNAREseq library construction process can be found on protocols.io under the following protocol - SNARE-seq2 V.1.\n"
     ]
    },
    {
     "name": "stderr",
     "output_type": "stream",
     "text": [
      " 32%|███▏      | 145/448 [02:56<09:21,  1.85s/it]"
     ]
    },
    {
     "name": "stdout",
     "output_type": "stream",
     "text": [
      "The SNAREseq library was sequenced on the Illumina NovaSeq system using the NovaSeq 6000 S4 Reagent kit. A full description of the protocol and materials used in the SNAREseq library construction process can be found on protocols.io under the following protocol - SNARE-seq2 V.1.\n"
     ]
    },
    {
     "name": "stderr",
     "output_type": "stream",
     "text": [
      " 33%|███▎      | 146/448 [02:57<07:39,  1.52s/it]"
     ]
    },
    {
     "name": "stdout",
     "output_type": "stream",
     "text": [
      "The SNAREseq library was sequenced on the Illumina NovaSeq system using the NovaSeq 6000 S4 Reagent kit. A full description of the protocol and materials used in the SNAREseq library construction process can be found on protocols.io under the following protocol - SNARE-seq2 V.1.\n"
     ]
    },
    {
     "name": "stderr",
     "output_type": "stream",
     "text": [
      " 33%|███▎      | 147/448 [02:57<06:20,  1.26s/it]"
     ]
    },
    {
     "name": "stdout",
     "output_type": "stream",
     "text": [
      "The SNAREseq library was sequenced on the Illumina NovaSeq system using the NovaSeq 6000 S4 Reagent kit. A full description of the protocol and materials used in the SNAREseq library construction process can be found on protocols.io under the following protocol - SNARE-seq2 V.1.\n"
     ]
    },
    {
     "name": "stderr",
     "output_type": "stream",
     "text": [
      " 33%|███▎      | 148/448 [02:58<05:17,  1.06s/it]"
     ]
    },
    {
     "name": "stdout",
     "output_type": "stream",
     "text": [
      "The SNARE-RNAseq2 library was sequenced on the Illumina NovaSeq system using the NovaSeq 6000 S4 Reagent kit. A full description of the protocol and materials used in the SNARE-RNAseq2 library construction process can be found on protocols.io under the following protocol - SNARE-seq2 V.1.\n"
     ]
    },
    {
     "name": "stderr",
     "output_type": "stream",
     "text": [
      " 33%|███▎      | 149/448 [02:58<04:35,  1.09it/s]"
     ]
    },
    {
     "name": "stdout",
     "output_type": "stream",
     "text": [
      "The SNARE-RNAseq2 library was sequenced on the Illumina NovaSeq system using the NovaSeq 6000 S4 Reagent kit. A full description of the protocol and materials used in the SNARE-RNAseq2 library construction process can be found on protocols.io under the following protocol - SNARE-seq2 V.1.\n"
     ]
    },
    {
     "name": "stderr",
     "output_type": "stream",
     "text": [
      " 33%|███▎      | 150/448 [02:59<04:06,  1.21it/s]"
     ]
    },
    {
     "name": "stdout",
     "output_type": "stream",
     "text": [
      "The SNARE-RNAseq2 library was sequenced on the Illumina NovaSeq system using the NovaSeq 6000 S4 Reagent kit. A full description of the protocol and materials used in the SNARE-RNAseq2 library construction process can be found on protocols.io under the following protocol - SNARE-seq2 V.1.\n"
     ]
    },
    {
     "name": "stderr",
     "output_type": "stream",
     "text": [
      " 34%|███▎      | 151/448 [03:00<03:44,  1.32it/s]"
     ]
    },
    {
     "name": "stdout",
     "output_type": "stream",
     "text": [
      "The SNAREseq library was sequenced on the Illumina NovaSeq system using the NovaSeq 6000 S4 Reagent kit. A full description of the protocol and materials used in the SNAREseq library construction process can be found on protocols.io under the following protocol - SNARE-seq2 V.1.\n"
     ]
    },
    {
     "name": "stderr",
     "output_type": "stream",
     "text": [
      " 34%|███▍      | 152/448 [03:00<03:33,  1.39it/s]"
     ]
    },
    {
     "name": "stdout",
     "output_type": "stream",
     "text": [
      "The SNAREseq library was sequenced on the Illumina NovaSeq system using the NovaSeq 6000 S4 Reagent kit. A full description of the protocol and materials used in the SNAREseq library construction process can be found on protocols.io under the following protocol - SNARE-seq2 V.1.\n"
     ]
    },
    {
     "name": "stderr",
     "output_type": "stream",
     "text": [
      " 34%|███▍      | 153/448 [03:01<03:19,  1.48it/s]"
     ]
    },
    {
     "name": "stdout",
     "output_type": "stream",
     "text": [
      "The SNAREseq library was sequenced on the Illumina NovaSeq system using the NovaSeq 6000 S4 Reagent kit. A full description of the protocol and materials used in the SNAREseq library construction process can be found on protocols.io under the following protocol - SNARE-seq2 V.1.\n"
     ]
    },
    {
     "name": "stderr",
     "output_type": "stream",
     "text": [
      " 34%|███▍      | 154/448 [03:01<03:11,  1.54it/s]"
     ]
    },
    {
     "name": "stdout",
     "output_type": "stream",
     "text": [
      "The SNARE-RNAseq2 library was sequenced on the Illumina NovaSeq system using the NovaSeq 6000 S4 Reagent kit. A full description of the protocol and materials used in the SNARE-RNAseq2 library construction process can be found on protocols.io under the following protocol - SNARE-seq2 V.1.\n"
     ]
    },
    {
     "name": "stderr",
     "output_type": "stream",
     "text": [
      " 35%|███▍      | 155/448 [03:02<03:05,  1.58it/s]"
     ]
    },
    {
     "name": "stdout",
     "output_type": "stream",
     "text": [
      "The SNARE-RNAseq2 library was sequenced on the Illumina NovaSeq system using the NovaSeq 6000 S4 Reagent kit. A full description of the protocol and materials used in the SNARE-RNAseq2 library construction process can be found on protocols.io under the following protocol - SNARE-seq2 V.1.\n"
     ]
    },
    {
     "name": "stderr",
     "output_type": "stream",
     "text": [
      " 35%|███▍      | 156/448 [03:03<03:02,  1.60it/s]"
     ]
    },
    {
     "name": "stdout",
     "output_type": "stream",
     "text": [
      "The SNARE-RNAseq2 library was sequenced on the Illumina NovaSeq system using the NovaSeq 6000 S4 Reagent kit. A full description of the protocol and materials used in the SNARE-RNAseq2 library construction process can be found on protocols.io under the following protocol - SNARE-seq2 V.1.\n"
     ]
    },
    {
     "name": "stderr",
     "output_type": "stream",
     "text": [
      " 35%|███▌      | 157/448 [03:03<02:59,  1.62it/s]"
     ]
    },
    {
     "name": "stdout",
     "output_type": "stream",
     "text": [
      "The SNAREseq library was sequenced on the Illumina NovaSeq system using the NovaSeq 6000 S4 Reagent kit. A full description of the protocol and materials used in the SNAREseq library construction process can be found on protocols.io under the following protocol - SNARE-seq2 V.1.\n"
     ]
    },
    {
     "name": "stderr",
     "output_type": "stream",
     "text": [
      " 35%|███▌      | 158/448 [03:04<02:57,  1.63it/s]"
     ]
    },
    {
     "name": "stdout",
     "output_type": "stream",
     "text": [
      "The SNAREseq library was sequenced on the Illumina NovaSeq system using the NovaSeq 6000 S4 Reagent kit. A full description of the protocol and materials used in the SNAREseq library construction process can be found on protocols.io under the following protocol - SNARE-seq2 V.1.\n"
     ]
    },
    {
     "name": "stderr",
     "output_type": "stream",
     "text": [
      " 35%|███▌      | 159/448 [03:04<02:57,  1.63it/s]"
     ]
    },
    {
     "name": "stdout",
     "output_type": "stream",
     "text": [
      "The SNAREseq library was sequenced on the Illumina NovaSeq system using the NovaSeq 6000 S4 Reagent kit. A full description of the protocol and materials used in the SNAREseq library construction process can be found on protocols.io under the following protocol - SNARE-seq2 V.1.\n"
     ]
    },
    {
     "name": "stderr",
     "output_type": "stream",
     "text": [
      " 36%|███▌      | 160/448 [03:05<03:01,  1.59it/s]"
     ]
    },
    {
     "name": "stdout",
     "output_type": "stream",
     "text": [
      "The SNARE-RNAseq2 library was sequenced on the Illumina NovaSeq system using the NovaSeq 6000 S4 Reagent kit. A full description of the protocol and materials used in the SNARE-RNAseq2 library construction process can be found on protocols.io under the following protocol - SNARE-seq2 V.1.\n"
     ]
    },
    {
     "name": "stderr",
     "output_type": "stream",
     "text": [
      " 36%|███▌      | 161/448 [03:06<03:00,  1.59it/s]"
     ]
    },
    {
     "name": "stdout",
     "output_type": "stream",
     "text": [
      "The SNARE-RNAseq2 library was sequenced on the Illumina NovaSeq system using the NovaSeq 6000 S4 Reagent kit. A full description of the protocol and materials used in the SNARE-RNAseq2 library construction process can be found on protocols.io under the following protocol - SNARE-seq2 V.1.\n"
     ]
    },
    {
     "name": "stderr",
     "output_type": "stream",
     "text": [
      " 36%|███▌      | 162/448 [03:06<02:58,  1.60it/s]"
     ]
    },
    {
     "name": "stdout",
     "output_type": "stream",
     "text": [
      "The SNARE-RNAseq2 library was sequenced on the Illumina NovaSeq system using the NovaSeq 6000 S4 Reagent kit. A full description of the protocol and materials used in the SNARE-RNAseq2 library construction process can be found on protocols.io under the following protocol - SNARE-seq2 V.1.\n"
     ]
    },
    {
     "name": "stderr",
     "output_type": "stream",
     "text": [
      " 36%|███▋      | 163/448 [03:07<02:53,  1.64it/s]"
     ]
    },
    {
     "name": "stdout",
     "output_type": "stream",
     "text": [
      "The SNARE-RNAseq2 library was sequenced on the Illumina NovaSeq system using the NovaSeq 6000 S4 Reagent kit. A full description of the protocol and materials used in the SNARE-RNAseq2 library construction process can be found on protocols.io under the following protocol - SNARE-seq2 V.1.\n"
     ]
    },
    {
     "name": "stderr",
     "output_type": "stream",
     "text": [
      " 37%|███▋      | 164/448 [03:08<02:53,  1.63it/s]"
     ]
    },
    {
     "name": "stdout",
     "output_type": "stream",
     "text": [
      "The SNAREseq library was sequenced on the Illumina NovaSeq system using the NovaSeq 6000 S4 Reagent kit. A full description of the protocol and materials used in the SNAREseq library construction process can be found on protocols.io under the following protocol - SNARE-seq2 V.1.\n"
     ]
    },
    {
     "name": "stderr",
     "output_type": "stream",
     "text": [
      " 37%|███▋      | 165/448 [03:08<02:52,  1.64it/s]"
     ]
    },
    {
     "name": "stdout",
     "output_type": "stream",
     "text": [
      "The SNAREseq library was sequenced on the Illumina NovaSeq system using the NovaSeq 6000 S4 Reagent kit. A full description of the protocol and materials used in the SNAREseq library construction process can be found on protocols.io under the following protocol - SNARE-seq2 V.1.\n"
     ]
    },
    {
     "name": "stderr",
     "output_type": "stream",
     "text": [
      " 37%|███▋      | 166/448 [03:09<02:49,  1.66it/s]"
     ]
    },
    {
     "name": "stdout",
     "output_type": "stream",
     "text": [
      "The SNAREseq library was sequenced on the Illumina NovaSeq system using the NovaSeq 6000 S4 Reagent kit. A full description of the protocol and materials used in the SNAREseq library construction process can be found on protocols.io under the following protocol - SNARE-seq2 V.1.\n"
     ]
    },
    {
     "name": "stderr",
     "output_type": "stream",
     "text": [
      " 37%|███▋      | 167/448 [03:09<03:06,  1.51it/s]"
     ]
    },
    {
     "name": "stdout",
     "output_type": "stream",
     "text": [
      "The SNAREseq library was sequenced on the Illumina NovaSeq system using the NovaSeq 6000 S4 Reagent kit. A full description of the protocol and materials used in the SNAREseq library construction process can be found on protocols.io under the following protocol - SNARE-seq2 V.1.\n"
     ]
    },
    {
     "name": "stderr",
     "output_type": "stream",
     "text": [
      " 38%|███▊      | 168/448 [03:10<03:02,  1.54it/s]"
     ]
    },
    {
     "name": "stdout",
     "output_type": "stream",
     "text": [
      "The SNARE-RNAseq2 library was sequenced on the Illumina NovaSeq system using the NovaSeq 6000 S4 Reagent kit. A full description of the protocol and materials used in the SNARE-RNAseq2 library construction process can be found on protocols.io under the following protocol - SNARE-seq2 V.1.\n"
     ]
    },
    {
     "name": "stderr",
     "output_type": "stream",
     "text": [
      " 38%|███▊      | 169/448 [03:11<03:12,  1.45it/s]"
     ]
    },
    {
     "name": "stdout",
     "output_type": "stream",
     "text": [
      "The SNARE-RNAseq2 library was sequenced on the Illumina NovaSeq system using the NovaSeq 6000 S4 Reagent kit. A full description of the protocol and materials used in the SNARE-RNAseq2 library construction process can be found on protocols.io under the following protocol - SNARE-seq2 V.1.\n"
     ]
    },
    {
     "name": "stderr",
     "output_type": "stream",
     "text": [
      " 38%|███▊      | 170/448 [03:12<03:19,  1.40it/s]"
     ]
    },
    {
     "name": "stdout",
     "output_type": "stream",
     "text": [
      "The SNARE-RNAseq2 library was sequenced on the Illumina NovaSeq system using the NovaSeq 6000 S4 Reagent kit. A full description of the protocol and materials used in the SNARE-RNAseq2 library construction process can be found on protocols.io under the following protocol - SNARE-seq2 V.1.\n"
     ]
    },
    {
     "name": "stderr",
     "output_type": "stream",
     "text": [
      " 38%|███▊      | 171/448 [03:13<03:29,  1.32it/s]"
     ]
    },
    {
     "name": "stdout",
     "output_type": "stream",
     "text": [
      "The SNARE-RNAseq2 library was sequenced on the Illumina NovaSeq system using the NovaSeq 6000 S4 Reagent kit. A full description of the protocol and materials used in the SNARE-RNAseq2 library construction process can be found on protocols.io under the following protocol - SNARE-seq2 V.1.\n"
     ]
    },
    {
     "name": "stderr",
     "output_type": "stream",
     "text": [
      " 38%|███▊      | 172/448 [03:13<03:18,  1.39it/s]"
     ]
    },
    {
     "name": "stdout",
     "output_type": "stream",
     "text": [
      "The SNAREseq library was sequenced on the Illumina NovaSeq system using the NovaSeq 6000 S4 Reagent kit. A full description of the protocol and materials used in the SNAREseq library construction process can be found on protocols.io under the following protocol - SNARE-seq2 V.1.\n"
     ]
    },
    {
     "name": "stderr",
     "output_type": "stream",
     "text": [
      " 39%|███▊      | 173/448 [03:14<03:09,  1.45it/s]"
     ]
    },
    {
     "name": "stdout",
     "output_type": "stream",
     "text": [
      "The SNAREseq library was sequenced on the Illumina NovaSeq system using the NovaSeq 6000 S4 Reagent kit. A full description of the protocol and materials used in the SNAREseq library construction process can be found on protocols.io under the following protocol - SNARE-seq2 V.1.\n"
     ]
    },
    {
     "name": "stderr",
     "output_type": "stream",
     "text": [
      " 39%|███▉      | 174/448 [03:14<03:02,  1.50it/s]"
     ]
    },
    {
     "name": "stdout",
     "output_type": "stream",
     "text": [
      "The SNAREseq library was sequenced on the Illumina NovaSeq system using the NovaSeq 6000 S4 Reagent kit. A full description of the protocol and materials used in the SNAREseq library construction process can be found on protocols.io under the following protocol - SNARE-seq2 V.1.\n"
     ]
    },
    {
     "name": "stderr",
     "output_type": "stream",
     "text": [
      " 39%|███▉      | 175/448 [03:15<03:00,  1.51it/s]"
     ]
    },
    {
     "name": "stdout",
     "output_type": "stream",
     "text": [
      "The SNAREseq library was sequenced on the Illumina NovaSeq system using the NovaSeq 6000 S4 Reagent kit. A full description of the protocol and materials used in the SNAREseq library construction process can be found on protocols.io under the following protocol - SNARE-seq2 V.1.\n"
     ]
    },
    {
     "name": "stderr",
     "output_type": "stream",
     "text": [
      " 39%|███▉      | 176/448 [03:16<02:54,  1.55it/s]"
     ]
    },
    {
     "name": "stdout",
     "output_type": "stream",
     "text": [
      "The SNARE-RNAseq2 library was sequenced on the Illumina NovaSeq system using the NovaSeq 6000 S4 Reagent kit. A full description of the protocol and materials used in the SNARE-RNAseq2 library construction process can be found on protocols.io under the following protocol - SNARE-seq2 V.1.\n"
     ]
    },
    {
     "name": "stderr",
     "output_type": "stream",
     "text": [
      " 40%|███▉      | 177/448 [03:16<02:54,  1.55it/s]"
     ]
    },
    {
     "name": "stdout",
     "output_type": "stream",
     "text": [
      "The SNARE-RNAseq2 library was sequenced on the Illumina NovaSeq system using the NovaSeq 6000 S4 Reagent kit. A full description of the protocol and materials used in the SNARE-RNAseq2 library construction process can be found on protocols.io under the following protocol - SNARE-seq2 V.1.\n"
     ]
    },
    {
     "name": "stderr",
     "output_type": "stream",
     "text": [
      " 40%|███▉      | 178/448 [03:17<02:51,  1.57it/s]"
     ]
    },
    {
     "name": "stdout",
     "output_type": "stream",
     "text": [
      "The SNARE-RNAseq2 library was sequenced on the Illumina NovaSeq system using the NovaSeq 6000 S4 Reagent kit. A full description of the protocol and materials used in the SNARE-RNAseq2 library construction process can be found on protocols.io under the following protocol - SNARE-seq2 V.1.\n"
     ]
    },
    {
     "name": "stderr",
     "output_type": "stream",
     "text": [
      " 40%|███▉      | 179/448 [03:18<02:49,  1.59it/s]"
     ]
    },
    {
     "name": "stdout",
     "output_type": "stream",
     "text": [
      "The SNARE-RNAseq2 library was sequenced on the Illumina NovaSeq system using the NovaSeq 6000 S4 Reagent kit. A full description of the protocol and materials used in the SNARE-RNAseq2 library construction process can be found on protocols.io under the following protocol - SNARE-seq2 V.1.\n"
     ]
    },
    {
     "name": "stderr",
     "output_type": "stream",
     "text": [
      " 40%|████      | 180/448 [03:18<02:57,  1.51it/s]"
     ]
    },
    {
     "name": "stdout",
     "output_type": "stream",
     "text": [
      "The SNAREseq library was sequenced on the Illumina NovaSeq system using the NovaSeq 6000 S4 Reagent kit. A full description of the protocol and materials used in the SNAREseq library construction process can be found on protocols.io under the following protocol - SNARE-seq2 V.1.\n"
     ]
    },
    {
     "name": "stderr",
     "output_type": "stream",
     "text": [
      " 40%|████      | 181/448 [03:19<02:52,  1.55it/s]"
     ]
    },
    {
     "name": "stdout",
     "output_type": "stream",
     "text": [
      "The SNAREseq library was sequenced on the Illumina NovaSeq system using the NovaSeq 6000 S4 Reagent kit. A full description of the protocol and materials used in the SNAREseq library construction process can be found on protocols.io under the following protocol - SNARE-seq2 V.1.\n"
     ]
    },
    {
     "name": "stderr",
     "output_type": "stream",
     "text": [
      " 41%|████      | 182/448 [03:19<02:47,  1.59it/s]"
     ]
    },
    {
     "name": "stdout",
     "output_type": "stream",
     "text": [
      "The SNAREseq library was sequenced on the Illumina NovaSeq system using the NovaSeq 6000 S4 Reagent kit. A full description of the protocol and materials used in the SNAREseq library construction process can be found on protocols.io under the following protocol - SNARE-seq2 V.1.\n"
     ]
    },
    {
     "name": "stderr",
     "output_type": "stream",
     "text": [
      " 41%|████      | 183/448 [03:20<02:43,  1.62it/s]"
     ]
    },
    {
     "name": "stdout",
     "output_type": "stream",
     "text": [
      "The SNAREseq library was sequenced on the Illumina NovaSeq system using the NovaSeq 6000 S4 Reagent kit. A full description of the protocol and materials used in the SNAREseq library construction process can be found on protocols.io under the following protocol - SNARE-seq2 V.1.\n"
     ]
    },
    {
     "name": "stderr",
     "output_type": "stream",
     "text": [
      " 41%|████      | 184/448 [03:21<02:38,  1.66it/s]"
     ]
    },
    {
     "name": "stdout",
     "output_type": "stream",
     "text": [
      "The SNARE-RNAseq2 library was sequenced on the Illumina NovaSeq system using the NovaSeq 6000 S4 Reagent kit. A full description of the protocol and materials used in the SNARE-RNAseq2 library construction process can be found on protocols.io under the following protocol - SNARE-seq2 V.1.\n"
     ]
    },
    {
     "name": "stderr",
     "output_type": "stream",
     "text": [
      " 41%|████▏     | 185/448 [03:21<02:36,  1.68it/s]"
     ]
    },
    {
     "name": "stdout",
     "output_type": "stream",
     "text": [
      "The SNARE-RNAseq2 library was sequenced on the Illumina NovaSeq system using the NovaSeq 6000 S4 Reagent kit. A full description of the protocol and materials used in the SNARE-RNAseq2 library construction process can be found on protocols.io under the following protocol - SNARE-seq2 V.1.\n"
     ]
    },
    {
     "name": "stderr",
     "output_type": "stream",
     "text": [
      " 42%|████▏     | 186/448 [03:22<02:37,  1.67it/s]"
     ]
    },
    {
     "name": "stdout",
     "output_type": "stream",
     "text": [
      "The SNARE-RNAseq2 library was sequenced on the Illumina NovaSeq system using the NovaSeq 6000 S4 Reagent kit. A full description of the protocol and materials used in the SNARE-RNAseq2 library construction process can be found on protocols.io under the following protocol - SNARE-seq2 V.1.\n"
     ]
    },
    {
     "name": "stderr",
     "output_type": "stream",
     "text": [
      " 42%|████▏     | 187/448 [03:22<02:36,  1.67it/s]"
     ]
    },
    {
     "name": "stdout",
     "output_type": "stream",
     "text": [
      "The SNARE-RNAseq2 library was sequenced on the Illumina NovaSeq system using the NovaSeq 6000 S4 Reagent kit. A full description of the protocol and materials used in the SNARE-RNAseq2 library construction process can be found on protocols.io under the following protocol - SNARE-seq2 V.1.\n"
     ]
    },
    {
     "name": "stderr",
     "output_type": "stream",
     "text": [
      " 42%|████▏     | 188/448 [03:23<02:36,  1.66it/s]"
     ]
    },
    {
     "name": "stdout",
     "output_type": "stream",
     "text": [
      "The SNARE-RNAseq2 library was sequenced on the Illumina NovaSeq system using the NovaSeq 6000 S4 Reagent kit. A full description of the protocol and materials used in the SNARE-RNAseq2 library construction process can be found on protocols.io under the following protocol - SNARE-seq2 V.1.\n"
     ]
    },
    {
     "name": "stderr",
     "output_type": "stream",
     "text": [
      " 42%|████▏     | 189/448 [03:24<02:37,  1.65it/s]"
     ]
    },
    {
     "name": "stdout",
     "output_type": "stream",
     "text": [
      "The SNARE-RNAseq2 library was sequenced on the Illumina NovaSeq system using the NovaSeq 6000 S4 Reagent kit. A full description of the protocol and materials used in the SNARE-RNAseq2 library construction process can be found on protocols.io under the following protocol - SNARE-seq2 V.1.\n"
     ]
    },
    {
     "name": "stderr",
     "output_type": "stream",
     "text": [
      " 42%|████▏     | 190/448 [03:24<02:35,  1.66it/s]"
     ]
    },
    {
     "name": "stdout",
     "output_type": "stream",
     "text": [
      "The SNARE-RNAseq2 library was sequenced on the Illumina NovaSeq system using the NovaSeq 6000 S4 Reagent kit. A full description of the protocol and materials used in the SNARE-RNAseq2 library construction process can be found on protocols.io under the following protocol - SNARE-seq2 V.1.\n"
     ]
    },
    {
     "name": "stderr",
     "output_type": "stream",
     "text": [
      " 43%|████▎     | 191/448 [03:25<02:34,  1.66it/s]"
     ]
    },
    {
     "name": "stdout",
     "output_type": "stream",
     "text": [
      "The SNARE-RNAseq2 library was sequenced on the Illumina NovaSeq system using the NovaSeq 6000 S4 Reagent kit. A full description of the protocol and materials used in the SNARE-RNAseq2 library construction process can be found on protocols.io under the following protocol - SNARE-seq2 V.1.\n"
     ]
    },
    {
     "name": "stderr",
     "output_type": "stream",
     "text": [
      " 43%|████▎     | 192/448 [03:25<02:35,  1.65it/s]"
     ]
    },
    {
     "name": "stdout",
     "output_type": "stream",
     "text": [
      "The SNAREseq library was sequenced on the Illumina NovaSeq system using the NovaSeq 6000 S4 Reagent kit. A full description of the protocol and materials used in the SNAREseq library construction process can be found on protocols.io under the following protocol - SNARE-seq2 V.1.\n"
     ]
    },
    {
     "name": "stderr",
     "output_type": "stream",
     "text": [
      " 43%|████▎     | 193/448 [03:26<02:31,  1.68it/s]"
     ]
    },
    {
     "name": "stdout",
     "output_type": "stream",
     "text": [
      "The SNAREseq library was sequenced on the Illumina NovaSeq system using the NovaSeq 6000 S4 Reagent kit. A full description of the protocol and materials used in the SNAREseq library construction process can be found on protocols.io under the following protocol - SNARE-seq2 V.1.\n"
     ]
    },
    {
     "name": "stderr",
     "output_type": "stream",
     "text": [
      " 43%|████▎     | 194/448 [03:27<02:30,  1.68it/s]"
     ]
    },
    {
     "name": "stdout",
     "output_type": "stream",
     "text": [
      "The SNAREseq library was sequenced on the Illumina NovaSeq system using the NovaSeq 6000 S4 Reagent kit. A full description of the protocol and materials used in the SNAREseq library construction process can be found on protocols.io under the following protocol - SNARE-seq2 V.1.\n"
     ]
    },
    {
     "name": "stderr",
     "output_type": "stream",
     "text": [
      " 44%|████▎     | 195/448 [03:27<02:29,  1.69it/s]"
     ]
    },
    {
     "name": "stdout",
     "output_type": "stream",
     "text": [
      "The SNAREseq library was sequenced on the Illumina NovaSeq system using the NovaSeq 6000 S4 Reagent kit. A full description of the protocol and materials used in the SNAREseq library construction process can be found on protocols.io under the following protocol - SNARE-seq2 V.1.\n"
     ]
    },
    {
     "name": "stderr",
     "output_type": "stream",
     "text": [
      " 44%|████▍     | 196/448 [03:28<02:30,  1.67it/s]"
     ]
    },
    {
     "name": "stdout",
     "output_type": "stream",
     "text": [
      "The SNAREseq library was sequenced on the Illumina NovaSeq system using the NovaSeq 6000 S4 Reagent kit. A full description of the protocol and materials used in the SNAREseq library construction process can be found on protocols.io under the following protocol - SNARE-seq2 V.1.\n"
     ]
    },
    {
     "name": "stderr",
     "output_type": "stream",
     "text": [
      " 44%|████▍     | 197/448 [03:28<02:33,  1.63it/s]"
     ]
    },
    {
     "name": "stdout",
     "output_type": "stream",
     "text": [
      "The SNAREseq library was sequenced on the Illumina NovaSeq system using the NovaSeq 6000 S4 Reagent kit. A full description of the protocol and materials used in the SNAREseq library construction process can be found on protocols.io under the following protocol - SNARE-seq2 V.1.\n"
     ]
    },
    {
     "name": "stderr",
     "output_type": "stream",
     "text": [
      " 44%|████▍     | 198/448 [03:29<02:34,  1.62it/s]"
     ]
    },
    {
     "name": "stdout",
     "output_type": "stream",
     "text": [
      "The SNARE-RNAseq2 library was sequenced on the Illumina NovaSeq system using the NovaSeq 6000 S4 Reagent kit. A full description of the protocol and materials used in the SNARE-RNAseq2 library construction process can be found on protocols.io under the following protocol - SNARE-seq2 V.1.\n"
     ]
    },
    {
     "name": "stderr",
     "output_type": "stream",
     "text": [
      " 44%|████▍     | 199/448 [03:30<02:33,  1.62it/s]"
     ]
    },
    {
     "name": "stdout",
     "output_type": "stream",
     "text": [
      "The SNARE-RNAseq2 library was sequenced on the Illumina NovaSeq system using the NovaSeq 6000 S4 Reagent kit. A full description of the protocol and materials used in the SNARE-RNAseq2 library construction process can be found on protocols.io under the following protocol - SNARE-seq2 V.1.\n"
     ]
    },
    {
     "name": "stderr",
     "output_type": "stream",
     "text": [
      " 45%|████▍     | 200/448 [03:30<02:34,  1.61it/s]"
     ]
    },
    {
     "name": "stdout",
     "output_type": "stream",
     "text": [
      "The SNARE-RNAseq2 library was sequenced on the Illumina NovaSeq system using the NovaSeq 6000 S4 Reagent kit. A full description of the protocol and materials used in the SNARE-RNAseq2 library construction process can be found on protocols.io under the following protocol - SNARE-seq2 V.1.\n"
     ]
    },
    {
     "name": "stderr",
     "output_type": "stream",
     "text": [
      " 45%|████▍     | 201/448 [03:31<02:31,  1.63it/s]"
     ]
    },
    {
     "name": "stdout",
     "output_type": "stream",
     "text": [
      "The SNARE-RNAseq2 library was sequenced on the Illumina NovaSeq system using the NovaSeq 6000 S4 Reagent kit. A full description of the protocol and materials used in the SNARE-RNAseq2 library construction process can be found on protocols.io under the following protocol - SNARE-seq2 V.1.\n"
     ]
    },
    {
     "name": "stderr",
     "output_type": "stream",
     "text": [
      " 45%|████▌     | 202/448 [03:32<02:42,  1.51it/s]"
     ]
    },
    {
     "name": "stdout",
     "output_type": "stream",
     "text": [
      "The SNARE-RNAseq2 library was sequenced on the Illumina NovaSeq system using the NovaSeq 6000 S4 Reagent kit. A full description of the protocol and materials used in the SNARE-RNAseq2 library construction process can be found on protocols.io under the following protocol - SNARE-seq2 V.1.\n"
     ]
    },
    {
     "name": "stderr",
     "output_type": "stream",
     "text": [
      " 45%|████▌     | 203/448 [03:32<02:38,  1.55it/s]"
     ]
    },
    {
     "name": "stdout",
     "output_type": "stream",
     "text": [
      "The SNARE-RNAseq2 library was sequenced on the Illumina NovaSeq system using the NovaSeq 6000 S4 Reagent kit. A full description of the protocol and materials used in the SNARE-RNAseq2 library construction process can be found on protocols.io under the following protocol - SNARE-seq2 V.1.\n"
     ]
    },
    {
     "name": "stderr",
     "output_type": "stream",
     "text": [
      " 46%|████▌     | 204/448 [03:33<02:36,  1.56it/s]"
     ]
    },
    {
     "name": "stdout",
     "output_type": "stream",
     "text": [
      "The SNARE-RNAseq2 library was sequenced on the Illumina NovaSeq system using the NovaSeq 6000 S4 Reagent kit. A full description of the protocol and materials used in the SNARE-RNAseq2 library construction process can be found on protocols.io under the following protocol - SNARE-seq2 V.1.\n"
     ]
    },
    {
     "name": "stderr",
     "output_type": "stream",
     "text": [
      " 46%|████▌     | 205/448 [03:34<02:34,  1.58it/s]"
     ]
    },
    {
     "name": "stdout",
     "output_type": "stream",
     "text": [
      "The SNAREseq library was sequenced on the Illumina NovaSeq system using the NovaSeq 6000 S4 Reagent kit. A full description of the protocol and materials used in the SNAREseq library construction process can be found on protocols.io under the following protocol - SNARE-seq2 V.1.\n"
     ]
    },
    {
     "name": "stderr",
     "output_type": "stream",
     "text": [
      " 46%|████▌     | 206/448 [03:34<02:35,  1.55it/s]"
     ]
    },
    {
     "name": "stdout",
     "output_type": "stream",
     "text": [
      "The SNAREseq library was sequenced on the Illumina NovaSeq system using the NovaSeq 6000 S4 Reagent kit. A full description of the protocol and materials used in the SNAREseq library construction process can be found on protocols.io under the following protocol - SNARE-seq2 V.1.\n"
     ]
    },
    {
     "name": "stderr",
     "output_type": "stream",
     "text": [
      " 46%|████▌     | 207/448 [03:35<02:36,  1.54it/s]"
     ]
    },
    {
     "name": "stdout",
     "output_type": "stream",
     "text": [
      "The SNAREseq library was sequenced on the Illumina NovaSeq system using the NovaSeq 6000 S4 Reagent kit. A full description of the protocol and materials used in the SNAREseq library construction process can be found on protocols.io under the following protocol - SNARE-seq2 V.1.\n"
     ]
    },
    {
     "name": "stderr",
     "output_type": "stream",
     "text": [
      " 46%|████▋     | 208/448 [03:35<02:33,  1.57it/s]"
     ]
    },
    {
     "name": "stdout",
     "output_type": "stream",
     "text": [
      "The SNAREseq library was sequenced on the Illumina NovaSeq system using the NovaSeq 6000 S4 Reagent kit. A full description of the protocol and materials used in the SNAREseq library construction process can be found on protocols.io under the following protocol - SNARE-seq2 V.1.\n"
     ]
    },
    {
     "name": "stderr",
     "output_type": "stream",
     "text": [
      " 47%|████▋     | 209/448 [03:36<02:40,  1.49it/s]"
     ]
    },
    {
     "name": "stdout",
     "output_type": "stream",
     "text": [
      "The SNAREseq library was sequenced on the Illumina NovaSeq system using the NovaSeq 6000 S4 Reagent kit. A full description of the protocol and materials used in the SNAREseq library construction process can be found on protocols.io under the following protocol - SNARE-seq2 V.1.\n"
     ]
    },
    {
     "name": "stderr",
     "output_type": "stream",
     "text": [
      " 47%|████▋     | 210/448 [03:37<02:36,  1.52it/s]"
     ]
    },
    {
     "name": "stdout",
     "output_type": "stream",
     "text": [
      "The SNAREseq library was sequenced on the Illumina NovaSeq system using the NovaSeq 6000 S4 Reagent kit. A full description of the protocol and materials used in the SNAREseq library construction process can be found on protocols.io under the following protocol - SNARE-seq2 V.1.\n"
     ]
    },
    {
     "name": "stderr",
     "output_type": "stream",
     "text": [
      " 47%|████▋     | 211/448 [03:38<03:19,  1.19it/s]"
     ]
    },
    {
     "name": "stdout",
     "output_type": "stream",
     "text": [
      "The SNAREseq library was sequenced on the Illumina NovaSeq system using the NovaSeq 6000 S4 Reagent kit. A full description of the protocol and materials used in the SNAREseq library construction process can be found on protocols.io under the following protocol - SNARE-seq2 V.1.\n"
     ]
    },
    {
     "name": "stderr",
     "output_type": "stream",
     "text": [
      " 47%|████▋     | 212/448 [03:39<03:06,  1.27it/s]"
     ]
    },
    {
     "name": "stdout",
     "output_type": "stream",
     "text": [
      "The SNARE-RNAseq2 library was sequenced on the Illumina NovaSeq system using the NovaSeq 6000 S4 Reagent kit. A full description of the protocol and materials used in the SNARE-RNAseq2 library construction process can be found on protocols.io under the following protocol - SNARE-seq2 V.1.\n"
     ]
    },
    {
     "name": "stderr",
     "output_type": "stream",
     "text": [
      " 48%|████▊     | 213/448 [03:39<02:55,  1.34it/s]"
     ]
    },
    {
     "name": "stdout",
     "output_type": "stream",
     "text": [
      "The SNARE-RNAseq2 library was sequenced on the Illumina NovaSeq system using the NovaSeq 6000 S4 Reagent kit. A full description of the protocol and materials used in the SNARE-RNAseq2 library construction process can be found on protocols.io under the following protocol - SNARE-seq2 V.1.\n"
     ]
    },
    {
     "name": "stderr",
     "output_type": "stream",
     "text": [
      " 48%|████▊     | 214/448 [03:40<02:47,  1.39it/s]"
     ]
    },
    {
     "name": "stdout",
     "output_type": "stream",
     "text": [
      "The SNARE-RNAseq2 library was sequenced on the Illumina NovaSeq system using the NovaSeq 6000 S4 Reagent kit. A full description of the protocol and materials used in the SNARE-RNAseq2 library construction process can be found on protocols.io under the following protocol - SNARE-seq2 V.1.\n"
     ]
    },
    {
     "name": "stderr",
     "output_type": "stream",
     "text": [
      " 48%|████▊     | 215/448 [03:41<02:40,  1.45it/s]"
     ]
    },
    {
     "name": "stdout",
     "output_type": "stream",
     "text": [
      "The SNARE-RNAseq2 library was sequenced on the Illumina NovaSeq system using the NovaSeq 6000 S4 Reagent kit. A full description of the protocol and materials used in the SNARE-RNAseq2 library construction process can be found on protocols.io under the following protocol - SNARE-seq2 V.1.\n"
     ]
    },
    {
     "name": "stderr",
     "output_type": "stream",
     "text": [
      " 48%|████▊     | 216/448 [03:41<02:38,  1.47it/s]"
     ]
    },
    {
     "name": "stdout",
     "output_type": "stream",
     "text": [
      "The SNARE-RNAseq2 library was sequenced on the Illumina NovaSeq system using the NovaSeq 6000 S4 Reagent kit. A full description of the protocol and materials used in the SNARE-RNAseq2 library construction process can be found on protocols.io under the following protocol - SNARE-seq2 V.1.\n"
     ]
    },
    {
     "name": "stderr",
     "output_type": "stream",
     "text": [
      " 48%|████▊     | 217/448 [03:42<02:30,  1.54it/s]"
     ]
    },
    {
     "name": "stdout",
     "output_type": "stream",
     "text": [
      "The SNARE-RNAseq2 library was sequenced on the Illumina NovaSeq system using the NovaSeq 6000 S4 Reagent kit. A full description of the protocol and materials used in the SNARE-RNAseq2 library construction process can be found on protocols.io under the following protocol - SNARE-seq2 V.1.\n"
     ]
    },
    {
     "name": "stderr",
     "output_type": "stream",
     "text": [
      " 49%|████▊     | 218/448 [03:43<02:24,  1.59it/s]"
     ]
    },
    {
     "name": "stdout",
     "output_type": "stream",
     "text": [
      "The SNARE-RNAseq2 library was sequenced on the Illumina NovaSeq system using the NovaSeq 6000 S4 Reagent kit. A full description of the protocol and materials used in the SNARE-RNAseq2 library construction process can be found on protocols.io under the following protocol - SNARE-seq2 V.1.\n"
     ]
    },
    {
     "name": "stderr",
     "output_type": "stream",
     "text": [
      " 49%|████▉     | 219/448 [03:43<02:23,  1.59it/s]"
     ]
    },
    {
     "name": "stdout",
     "output_type": "stream",
     "text": [
      "The SNARE-RNAseq2 library was sequenced on the Illumina NovaSeq system using the NovaSeq 6000 S4 Reagent kit. A full description of the protocol and materials used in the SNARE-RNAseq2 library construction process can be found on protocols.io under the following protocol - SNARE-seq2 V.1.\n"
     ]
    },
    {
     "name": "stderr",
     "output_type": "stream",
     "text": [
      " 49%|████▉     | 220/448 [03:44<02:24,  1.58it/s]"
     ]
    },
    {
     "name": "stdout",
     "output_type": "stream",
     "text": [
      "The SNAREseq library was sequenced on the Illumina NovaSeq system using the NovaSeq 6000 S4 Reagent kit. A full description of the protocol and materials used in the SNAREseq library construction process can be found on protocols.io under the following protocol - SNARE-seq2 V.1.\n"
     ]
    },
    {
     "name": "stderr",
     "output_type": "stream",
     "text": [
      " 49%|████▉     | 221/448 [03:44<02:21,  1.61it/s]"
     ]
    },
    {
     "name": "stdout",
     "output_type": "stream",
     "text": [
      "The SNAREseq library was sequenced on the Illumina NovaSeq system using the NovaSeq 6000 S4 Reagent kit. A full description of the protocol and materials used in the SNAREseq library construction process can be found on protocols.io under the following protocol - SNARE-seq2 V.1.\n"
     ]
    },
    {
     "name": "stderr",
     "output_type": "stream",
     "text": [
      " 50%|████▉     | 222/448 [03:45<02:18,  1.63it/s]"
     ]
    },
    {
     "name": "stdout",
     "output_type": "stream",
     "text": [
      "The SNAREseq library was sequenced on the Illumina NovaSeq system using the NovaSeq 6000 S4 Reagent kit. A full description of the protocol and materials used in the SNAREseq library construction process can be found on protocols.io under the following protocol - SNARE-seq2 V.1.\n"
     ]
    },
    {
     "name": "stderr",
     "output_type": "stream",
     "text": [
      " 50%|████▉     | 223/448 [03:46<02:21,  1.59it/s]"
     ]
    },
    {
     "name": "stdout",
     "output_type": "stream",
     "text": [
      "The SNAREseq library was sequenced on the Illumina NovaSeq system using the NovaSeq 6000 S4 Reagent kit. A full description of the protocol and materials used in the SNAREseq library construction process can be found on protocols.io under the following protocol - SNARE-seq2 V.1.\n"
     ]
    },
    {
     "name": "stderr",
     "output_type": "stream",
     "text": [
      " 50%|█████     | 224/448 [03:46<02:23,  1.56it/s]"
     ]
    },
    {
     "name": "stdout",
     "output_type": "stream",
     "text": [
      "The SNAREseq library was sequenced on the Illumina NovaSeq system using the NovaSeq 6000 S4 Reagent kit. A full description of the protocol and materials used in the SNAREseq library construction process can be found on protocols.io under the following protocol - SNARE-seq2 V.1.\n"
     ]
    },
    {
     "name": "stderr",
     "output_type": "stream",
     "text": [
      " 50%|█████     | 225/448 [03:47<02:22,  1.56it/s]"
     ]
    },
    {
     "name": "stdout",
     "output_type": "stream",
     "text": [
      "The SNAREseq library was sequenced on the Illumina NovaSeq system using the NovaSeq 6000 S4 Reagent kit. A full description of the protocol and materials used in the SNAREseq library construction process can be found on protocols.io under the following protocol - SNARE-seq2 V.1.\n"
     ]
    },
    {
     "name": "stderr",
     "output_type": "stream",
     "text": [
      " 50%|█████     | 226/448 [03:48<02:19,  1.59it/s]"
     ]
    },
    {
     "name": "stdout",
     "output_type": "stream",
     "text": [
      "The SNARE-RNAseq2 library was sequenced on the Illumina NovaSeq system using the NovaSeq 6000 S4 Reagent kit. A full description of the protocol and materials used in the SNARE-RNAseq2 library construction process can be found on protocols.io under the following protocol - SNARE-seq2 V.1.\n"
     ]
    },
    {
     "name": "stderr",
     "output_type": "stream",
     "text": [
      " 51%|█████     | 227/448 [03:48<02:20,  1.57it/s]"
     ]
    },
    {
     "name": "stdout",
     "output_type": "stream",
     "text": [
      "The SNARE-RNAseq2 library was sequenced on the Illumina NovaSeq system using the NovaSeq 6000 S4 Reagent kit. A full description of the protocol and materials used in the SNARE-RNAseq2 library construction process can be found on protocols.io under the following protocol - SNARE-seq2 V.1.\n"
     ]
    },
    {
     "name": "stderr",
     "output_type": "stream",
     "text": [
      " 51%|█████     | 228/448 [03:49<02:18,  1.59it/s]"
     ]
    },
    {
     "name": "stdout",
     "output_type": "stream",
     "text": [
      "The SNARE-RNAseq2 library was sequenced on the Illumina NovaSeq system using the NovaSeq 6000 S4 Reagent kit. A full description of the protocol and materials used in the SNARE-RNAseq2 library construction process can be found on protocols.io under the following protocol - SNARE-seq2 V.1.\n"
     ]
    },
    {
     "name": "stderr",
     "output_type": "stream",
     "text": [
      " 51%|█████     | 229/448 [03:49<02:14,  1.63it/s]"
     ]
    },
    {
     "name": "stdout",
     "output_type": "stream",
     "text": [
      "The SNARE-RNAseq2 library was sequenced on the Illumina NovaSeq system using the NovaSeq 6000 S4 Reagent kit. A full description of the protocol and materials used in the SNARE-RNAseq2 library construction process can be found on protocols.io under the following protocol - SNARE-seq2 V.1.\n"
     ]
    },
    {
     "name": "stderr",
     "output_type": "stream",
     "text": [
      " 51%|█████▏    | 230/448 [03:50<02:13,  1.63it/s]"
     ]
    },
    {
     "name": "stdout",
     "output_type": "stream",
     "text": [
      "The SNARE-RNAseq2 library was sequenced on the Illumina NovaSeq system using the NovaSeq 6000 S4 Reagent kit. A full description of the protocol and materials used in the SNARE-RNAseq2 library construction process can be found on protocols.io under the following protocol - SNARE-seq2 V.1.\n"
     ]
    },
    {
     "name": "stderr",
     "output_type": "stream",
     "text": [
      " 52%|█████▏    | 231/448 [03:51<02:10,  1.66it/s]"
     ]
    },
    {
     "name": "stdout",
     "output_type": "stream",
     "text": [
      "The SNARE-RNAseq2 library was sequenced on the Illumina NovaSeq system using the NovaSeq 6000 S4 Reagent kit. A full description of the protocol and materials used in the SNARE-RNAseq2 library construction process can be found on protocols.io under the following protocol - SNARE-seq2 V.1.\n"
     ]
    },
    {
     "name": "stderr",
     "output_type": "stream",
     "text": [
      " 52%|█████▏    | 232/448 [03:51<02:11,  1.64it/s]"
     ]
    },
    {
     "name": "stdout",
     "output_type": "stream",
     "text": [
      "The SNARE-RNAseq2 library was sequenced on the Illumina NovaSeq system using the NovaSeq 6000 S4 Reagent kit. A full description of the protocol and materials used in the SNARE-RNAseq2 library construction process can be found on protocols.io under the following protocol - SNARE-seq2 V.1.\n"
     ]
    },
    {
     "name": "stderr",
     "output_type": "stream",
     "text": [
      " 52%|█████▏    | 233/448 [03:52<02:09,  1.66it/s]"
     ]
    },
    {
     "name": "stdout",
     "output_type": "stream",
     "text": [
      "The SNAREseq library was sequenced on the Illumina NovaSeq system using the NovaSeq 6000 S4 Reagent kit. A full description of the protocol and materials used in the SNAREseq library construction process can be found on protocols.io under the following protocol - SNARE-seq2 V.1.\n"
     ]
    },
    {
     "name": "stderr",
     "output_type": "stream",
     "text": [
      " 52%|█████▏    | 234/448 [03:53<02:19,  1.54it/s]"
     ]
    },
    {
     "name": "stdout",
     "output_type": "stream",
     "text": [
      "The SNAREseq library was sequenced on the Illumina NovaSeq system using the NovaSeq 6000 S4 Reagent kit. A full description of the protocol and materials used in the SNAREseq library construction process can be found on protocols.io under the following protocol - SNARE-seq2 V.1.\n"
     ]
    },
    {
     "name": "stderr",
     "output_type": "stream",
     "text": [
      " 52%|█████▏    | 235/448 [03:53<02:25,  1.47it/s]"
     ]
    },
    {
     "name": "stdout",
     "output_type": "stream",
     "text": [
      "The SNAREseq library was sequenced on the Illumina NovaSeq system using the NovaSeq 6000 S4 Reagent kit. A full description of the protocol and materials used in the SNAREseq library construction process can be found on protocols.io under the following protocol - SNARE-seq2 V.1.\n"
     ]
    },
    {
     "name": "stderr",
     "output_type": "stream",
     "text": [
      " 53%|█████▎    | 236/448 [03:54<02:26,  1.45it/s]"
     ]
    },
    {
     "name": "stdout",
     "output_type": "stream",
     "text": [
      "The SNAREseq library was sequenced on the Illumina NovaSeq system using the NovaSeq 6000 S4 Reagent kit. A full description of the protocol and materials used in the SNAREseq library construction process can be found on protocols.io under the following protocol - SNARE-seq2 V.1.\n"
     ]
    },
    {
     "name": "stderr",
     "output_type": "stream",
     "text": [
      " 53%|█████▎    | 237/448 [03:55<02:17,  1.53it/s]"
     ]
    },
    {
     "name": "stdout",
     "output_type": "stream",
     "text": [
      "The SNAREseq library was sequenced on the Illumina NovaSeq system using the NovaSeq 6000 S4 Reagent kit. A full description of the protocol and materials used in the SNAREseq library construction process can be found on protocols.io under the following protocol - SNARE-seq2 V.1.\n"
     ]
    },
    {
     "name": "stderr",
     "output_type": "stream",
     "text": [
      " 53%|█████▎    | 238/448 [03:55<02:13,  1.57it/s]"
     ]
    },
    {
     "name": "stdout",
     "output_type": "stream",
     "text": [
      "The SNAREseq library was sequenced on the Illumina NovaSeq system using the NovaSeq 6000 S4 Reagent kit. A full description of the protocol and materials used in the SNAREseq library construction process can be found on protocols.io under the following protocol - SNARE-seq2 V.1.\n"
     ]
    },
    {
     "name": "stderr",
     "output_type": "stream",
     "text": [
      " 53%|█████▎    | 239/448 [03:56<02:11,  1.59it/s]"
     ]
    },
    {
     "name": "stdout",
     "output_type": "stream",
     "text": [
      "The SNAREseq library was sequenced on the Illumina NovaSeq system using the NovaSeq 6000 S4 Reagent kit. A full description of the protocol and materials used in the SNAREseq library construction process can be found on protocols.io under the following protocol - SNARE-seq2 V.1.\n"
     ]
    },
    {
     "name": "stderr",
     "output_type": "stream",
     "text": [
      " 54%|█████▎    | 240/448 [03:56<02:09,  1.61it/s]"
     ]
    },
    {
     "name": "stdout",
     "output_type": "stream",
     "text": [
      "The SNARE-RNAseq2 library was sequenced on the Illumina NovaSeq system using the NovaSeq 6000 S4 Reagent kit. A full description of the protocol and materials used in the SNARE-RNAseq2 library construction process can be found on protocols.io under the following protocol - SNARE-seq2 V.1.\n"
     ]
    },
    {
     "name": "stderr",
     "output_type": "stream",
     "text": [
      " 54%|█████▍    | 241/448 [03:57<02:08,  1.61it/s]"
     ]
    },
    {
     "name": "stdout",
     "output_type": "stream",
     "text": [
      "The SNARE-RNAseq2 library was sequenced on the Illumina NovaSeq system using the NovaSeq 6000 S4 Reagent kit. A full description of the protocol and materials used in the SNARE-RNAseq2 library construction process can be found on protocols.io under the following protocol - SNARE-seq2 V.1.\n"
     ]
    },
    {
     "name": "stderr",
     "output_type": "stream",
     "text": [
      " 54%|█████▍    | 242/448 [03:58<02:27,  1.40it/s]"
     ]
    },
    {
     "name": "stdout",
     "output_type": "stream",
     "text": [
      "The SNARE-RNAseq2 library was sequenced on the Illumina NovaSeq system using the NovaSeq 6000 S4 Reagent kit. A full description of the protocol and materials used in the SNARE-RNAseq2 library construction process can be found on protocols.io under the following protocol - SNARE-seq2 V.1.\n"
     ]
    },
    {
     "name": "stderr",
     "output_type": "stream",
     "text": [
      " 54%|█████▍    | 243/448 [03:59<02:23,  1.43it/s]"
     ]
    },
    {
     "name": "stdout",
     "output_type": "stream",
     "text": [
      "The SNARE-RNAseq2 library was sequenced on the Illumina NovaSeq system using the NovaSeq 6000 S4 Reagent kit. A full description of the protocol and materials used in the SNARE-RNAseq2 library construction process can be found on protocols.io under the following protocol - SNARE-seq2 V.1.\n"
     ]
    },
    {
     "name": "stderr",
     "output_type": "stream",
     "text": [
      " 54%|█████▍    | 244/448 [03:59<02:16,  1.49it/s]"
     ]
    },
    {
     "name": "stdout",
     "output_type": "stream",
     "text": [
      "The SNARE-RNAseq2 library was sequenced on the Illumina NovaSeq system using the NovaSeq 6000 S4 Reagent kit. A full description of the protocol and materials used in the SNARE-RNAseq2 library construction process can be found on protocols.io under the following protocol - SNARE-seq2 V.1.\n"
     ]
    },
    {
     "name": "stderr",
     "output_type": "stream",
     "text": [
      " 55%|█████▍    | 245/448 [04:00<02:11,  1.54it/s]"
     ]
    },
    {
     "name": "stdout",
     "output_type": "stream",
     "text": [
      "The SNARE-RNAseq2 library was sequenced on the Illumina NovaSeq system using the NovaSeq 6000 S4 Reagent kit. A full description of the protocol and materials used in the SNARE-RNAseq2 library construction process can be found on protocols.io under the following protocol - SNARE-seq2 V.1.\n"
     ]
    },
    {
     "name": "stderr",
     "output_type": "stream",
     "text": [
      " 55%|█████▍    | 246/448 [04:00<02:06,  1.59it/s]"
     ]
    },
    {
     "name": "stdout",
     "output_type": "stream",
     "text": [
      "The SNARE-RNAseq2 library was sequenced on the Illumina NovaSeq system using the NovaSeq 6000 S4 Reagent kit. A full description of the protocol and materials used in the SNARE-RNAseq2 library construction process can be found on protocols.io under the following protocol - SNARE-seq2 V.1.\n"
     ]
    },
    {
     "name": "stderr",
     "output_type": "stream",
     "text": [
      " 55%|█████▌    | 247/448 [04:01<02:07,  1.58it/s]"
     ]
    },
    {
     "name": "stdout",
     "output_type": "stream",
     "text": [
      "The SNAREseq library was sequenced on the Illumina NovaSeq system using the NovaSeq 6000 S4 Reagent kit. A full description of the protocol and materials used in the SNAREseq library construction process can be found on protocols.io under the following protocol - SNARE-seq2 V.1.\n"
     ]
    },
    {
     "name": "stderr",
     "output_type": "stream",
     "text": [
      " 55%|█████▌    | 248/448 [04:02<02:03,  1.62it/s]"
     ]
    },
    {
     "name": "stdout",
     "output_type": "stream",
     "text": [
      "The SNAREseq library was sequenced on the Illumina NovaSeq system using the NovaSeq 6000 S4 Reagent kit. A full description of the protocol and materials used in the SNAREseq library construction process can be found on protocols.io under the following protocol - SNARE-seq2 V.1.\n"
     ]
    },
    {
     "name": "stderr",
     "output_type": "stream",
     "text": [
      " 56%|█████▌    | 249/448 [04:02<02:00,  1.65it/s]"
     ]
    },
    {
     "name": "stdout",
     "output_type": "stream",
     "text": [
      "The SNAREseq library was sequenced on the Illumina NovaSeq system using the NovaSeq 6000 S4 Reagent kit. A full description of the protocol and materials used in the SNAREseq library construction process can be found on protocols.io under the following protocol - SNARE-seq2 V.1.\n"
     ]
    },
    {
     "name": "stderr",
     "output_type": "stream",
     "text": [
      " 56%|█████▌    | 250/448 [04:03<02:00,  1.64it/s]"
     ]
    },
    {
     "name": "stdout",
     "output_type": "stream",
     "text": [
      "The SNAREseq library was sequenced on the Illumina NovaSeq system using the NovaSeq 6000 S4 Reagent kit. A full description of the protocol and materials used in the SNAREseq library construction process can be found on protocols.io under the following protocol - SNARE-seq2 V.1.\n"
     ]
    },
    {
     "name": "stderr",
     "output_type": "stream",
     "text": [
      " 56%|█████▌    | 251/448 [04:03<01:58,  1.66it/s]"
     ]
    },
    {
     "name": "stdout",
     "output_type": "stream",
     "text": [
      "The SNAREseq library was sequenced on the Illumina NovaSeq system using the NovaSeq 6000 S4 Reagent kit. A full description of the protocol and materials used in the SNAREseq library construction process can be found on protocols.io under the following protocol - SNARE-seq2 V.1.\n"
     ]
    },
    {
     "name": "stderr",
     "output_type": "stream",
     "text": [
      " 56%|█████▋    | 252/448 [04:04<01:57,  1.67it/s]"
     ]
    },
    {
     "name": "stdout",
     "output_type": "stream",
     "text": [
      "The SNAREseq library was sequenced on the Illumina NovaSeq system using the NovaSeq 6000 S4 Reagent kit. A full description of the protocol and materials used in the SNAREseq library construction process can be found on protocols.io under the following protocol - SNARE-seq2 V.1.\n"
     ]
    },
    {
     "name": "stderr",
     "output_type": "stream",
     "text": [
      " 56%|█████▋    | 253/448 [04:05<01:54,  1.70it/s]"
     ]
    },
    {
     "name": "stdout",
     "output_type": "stream",
     "text": [
      "The SNAREseq library was sequenced on the Illumina NovaSeq system using the NovaSeq 6000 S4 Reagent kit. A full description of the protocol and materials used in the SNAREseq library construction process can be found on protocols.io under the following protocol - SNARE-seq2 V.1.\n"
     ]
    },
    {
     "name": "stderr",
     "output_type": "stream",
     "text": [
      " 57%|█████▋    | 254/448 [04:05<01:53,  1.71it/s]"
     ]
    },
    {
     "name": "stdout",
     "output_type": "stream",
     "text": [
      "The SNARE-RNAseq2 library was sequenced on the Illumina NovaSeq system using the NovaSeq 6000 S4 Reagent kit. A full description of the protocol and materials used in the SNARE-RNAseq2 library construction process can be found on protocols.io under the following protocol - SNARE-seq2 V.1.\n"
     ]
    },
    {
     "name": "stderr",
     "output_type": "stream",
     "text": [
      " 57%|█████▋    | 255/448 [04:06<01:53,  1.70it/s]"
     ]
    },
    {
     "name": "stdout",
     "output_type": "stream",
     "text": [
      "The SNARE-RNAseq2 library was sequenced on the Illumina NovaSeq system using the NovaSeq 6000 S4 Reagent kit. A full description of the protocol and materials used in the SNARE-RNAseq2 library construction process can be found on protocols.io under the following protocol - SNARE-seq2 V.1.\n"
     ]
    },
    {
     "name": "stderr",
     "output_type": "stream",
     "text": [
      " 57%|█████▋    | 256/448 [04:07<02:49,  1.13it/s]"
     ]
    },
    {
     "name": "stdout",
     "output_type": "stream",
     "text": [
      "The SNARE-RNAseq2 library was sequenced on the Illumina NovaSeq system using the NovaSeq 6000 S4 Reagent kit. A full description of the protocol and materials used in the SNARE-RNAseq2 library construction process can be found on protocols.io under the following protocol - SNARE-seq2 V.1.\n"
     ]
    },
    {
     "name": "stderr",
     "output_type": "stream",
     "text": [
      " 57%|█████▋    | 257/448 [04:08<02:41,  1.18it/s]"
     ]
    },
    {
     "name": "stdout",
     "output_type": "stream",
     "text": [
      "The SNARE-RNAseq2 library was sequenced on the Illumina NovaSeq system using the NovaSeq 6000 S4 Reagent kit. A full description of the protocol and materials used in the SNARE-RNAseq2 library construction process can be found on protocols.io under the following protocol - SNARE-seq2 V.1.\n"
     ]
    },
    {
     "name": "stderr",
     "output_type": "stream",
     "text": [
      " 58%|█████▊    | 258/448 [04:09<02:28,  1.28it/s]"
     ]
    },
    {
     "name": "stdout",
     "output_type": "stream",
     "text": [
      "The SNARE-RNAseq2 library was sequenced on the Illumina NovaSeq system using the NovaSeq 6000 S4 Reagent kit. A full description of the protocol and materials used in the SNARE-RNAseq2 library construction process can be found on protocols.io under the following protocol - SNARE-seq2 V.1.\n"
     ]
    },
    {
     "name": "stderr",
     "output_type": "stream",
     "text": [
      " 58%|█████▊    | 259/448 [04:09<02:17,  1.37it/s]"
     ]
    },
    {
     "name": "stdout",
     "output_type": "stream",
     "text": [
      "The SNARE-RNAseq2 library was sequenced on the Illumina NovaSeq system using the NovaSeq 6000 S4 Reagent kit. A full description of the protocol and materials used in the SNARE-RNAseq2 library construction process can be found on protocols.io under the following protocol - SNARE-seq2 V.1.\n"
     ]
    },
    {
     "name": "stderr",
     "output_type": "stream",
     "text": [
      " 58%|█████▊    | 260/448 [04:10<02:08,  1.46it/s]"
     ]
    },
    {
     "name": "stdout",
     "output_type": "stream",
     "text": [
      "The SNARE-RNAseq2 library was sequenced on the Illumina NovaSeq system using the NovaSeq 6000 S4 Reagent kit. A full description of the protocol and materials used in the SNARE-RNAseq2 library construction process can be found on protocols.io under the following protocol - SNARE-seq2 V.1.\n"
     ]
    },
    {
     "name": "stderr",
     "output_type": "stream",
     "text": [
      " 58%|█████▊    | 261/448 [04:11<02:05,  1.50it/s]"
     ]
    },
    {
     "name": "stdout",
     "output_type": "stream",
     "text": [
      "The SNAREseq library was sequenced on the Illumina NovaSeq system using the NovaSeq 6000 S4 Reagent kit. A full description of the protocol and materials used in the SNAREseq library construction process can be found on protocols.io under the following protocol - SNARE-seq2 V.1.\n"
     ]
    },
    {
     "name": "stderr",
     "output_type": "stream",
     "text": [
      " 58%|█████▊    | 262/448 [04:11<01:59,  1.55it/s]"
     ]
    },
    {
     "name": "stdout",
     "output_type": "stream",
     "text": [
      "The SNAREseq library was sequenced on the Illumina NovaSeq system using the NovaSeq 6000 S4 Reagent kit. A full description of the protocol and materials used in the SNAREseq library construction process can be found on protocols.io under the following protocol - SNARE-seq2 V.1.\n"
     ]
    },
    {
     "name": "stderr",
     "output_type": "stream",
     "text": [
      " 59%|█████▊    | 263/448 [04:12<01:57,  1.57it/s]"
     ]
    },
    {
     "name": "stdout",
     "output_type": "stream",
     "text": [
      "The SNAREseq library was sequenced on the Illumina NovaSeq system using the NovaSeq 6000 S4 Reagent kit. A full description of the protocol and materials used in the SNAREseq library construction process can be found on protocols.io under the following protocol - SNARE-seq2 V.1.\n"
     ]
    },
    {
     "name": "stderr",
     "output_type": "stream",
     "text": [
      " 59%|█████▉    | 264/448 [04:12<01:56,  1.58it/s]"
     ]
    },
    {
     "name": "stdout",
     "output_type": "stream",
     "text": [
      "The SNAREseq library was sequenced on the Illumina NovaSeq system using the NovaSeq 6000 S4 Reagent kit. A full description of the protocol and materials used in the SNAREseq library construction process can be found on protocols.io under the following protocol - SNARE-seq2 V.1.\n"
     ]
    },
    {
     "name": "stderr",
     "output_type": "stream",
     "text": [
      " 59%|█████▉    | 265/448 [04:13<01:54,  1.59it/s]"
     ]
    },
    {
     "name": "stdout",
     "output_type": "stream",
     "text": [
      "The SNAREseq library was sequenced on the Illumina NovaSeq system using the NovaSeq 6000 S4 Reagent kit. A full description of the protocol and materials used in the SNAREseq library construction process can be found on protocols.io under the following protocol - SNARE-seq2 V.1.\n"
     ]
    },
    {
     "name": "stderr",
     "output_type": "stream",
     "text": [
      " 59%|█████▉    | 266/448 [04:14<01:53,  1.60it/s]"
     ]
    },
    {
     "name": "stdout",
     "output_type": "stream",
     "text": [
      "The SNAREseq library was sequenced on the Illumina NovaSeq system using the NovaSeq 6000 S4 Reagent kit. A full description of the protocol and materials used in the SNAREseq library construction process can be found on protocols.io under the following protocol - SNARE-seq2 V.1.\n"
     ]
    },
    {
     "name": "stderr",
     "output_type": "stream",
     "text": [
      " 60%|█████▉    | 267/448 [04:15<02:25,  1.24it/s]"
     ]
    },
    {
     "name": "stdout",
     "output_type": "stream",
     "text": [
      "The SNAREseq library was sequenced on the Illumina NovaSeq system using the NovaSeq 6000 S4 Reagent kit. A full description of the protocol and materials used in the SNAREseq library construction process can be found on protocols.io under the following protocol - SNARE-seq2 V.1.\n"
     ]
    },
    {
     "name": "stderr",
     "output_type": "stream",
     "text": [
      " 60%|█████▉    | 268/448 [04:16<02:23,  1.26it/s]"
     ]
    },
    {
     "name": "stdout",
     "output_type": "stream",
     "text": [
      "The SNARE-RNAseq2 library was sequenced on the Illumina NovaSeq system using the NovaSeq 6000 S4 Reagent kit. A full description of the protocol and materials used in the SNARE-RNAseq2 library construction process can be found on protocols.io under the following protocol - SNARE-seq2 V.1.\n"
     ]
    },
    {
     "name": "stderr",
     "output_type": "stream",
     "text": [
      " 60%|██████    | 269/448 [04:16<02:11,  1.36it/s]"
     ]
    },
    {
     "name": "stdout",
     "output_type": "stream",
     "text": [
      "The SNARE-RNAseq2 library was sequenced on the Illumina NovaSeq system using the NovaSeq 6000 S4 Reagent kit. A full description of the protocol and materials used in the SNARE-RNAseq2 library construction process can be found on protocols.io under the following protocol - SNARE-seq2 V.1.\n"
     ]
    },
    {
     "name": "stderr",
     "output_type": "stream",
     "text": [
      " 60%|██████    | 270/448 [04:17<02:05,  1.42it/s]"
     ]
    },
    {
     "name": "stdout",
     "output_type": "stream",
     "text": [
      "The SNARE-RNAseq2 library was sequenced on the Illumina NovaSeq system using the NovaSeq 6000 S4 Reagent kit. A full description of the protocol and materials used in the SNARE-RNAseq2 library construction process can be found on protocols.io under the following protocol - SNARE-seq2 V.1.\n"
     ]
    },
    {
     "name": "stderr",
     "output_type": "stream",
     "text": [
      " 60%|██████    | 271/448 [04:17<02:00,  1.47it/s]"
     ]
    },
    {
     "name": "stdout",
     "output_type": "stream",
     "text": [
      "The SNARE-RNAseq2 library was sequenced on the Illumina NovaSeq system using the NovaSeq 6000 S4 Reagent kit. A full description of the protocol and materials used in the SNARE-RNAseq2 library construction process can be found on protocols.io under the following protocol - SNARE-seq2 V.1.\n"
     ]
    },
    {
     "name": "stderr",
     "output_type": "stream",
     "text": [
      " 61%|██████    | 272/448 [04:18<01:55,  1.52it/s]"
     ]
    },
    {
     "name": "stdout",
     "output_type": "stream",
     "text": [
      "The SNARE-RNAseq2 library was sequenced on the Illumina NovaSeq system using the NovaSeq 6000 S4 Reagent kit. A full description of the protocol and materials used in the SNARE-RNAseq2 library construction process can be found on protocols.io under the following protocol - SNARE-seq2 V.1.\n"
     ]
    },
    {
     "name": "stderr",
     "output_type": "stream",
     "text": [
      " 61%|██████    | 273/448 [04:19<02:16,  1.28it/s]"
     ]
    },
    {
     "name": "stdout",
     "output_type": "stream",
     "text": [
      "The SNARE-RNAseq2 library was sequenced on the Illumina NovaSeq system using the NovaSeq 6000 S4 Reagent kit. A full description of the protocol and materials used in the SNARE-RNAseq2 library construction process can be found on protocols.io under the following protocol - SNARE-seq2 V.1.\n"
     ]
    },
    {
     "name": "stderr",
     "output_type": "stream",
     "text": [
      " 61%|██████    | 274/448 [04:20<02:05,  1.39it/s]"
     ]
    },
    {
     "name": "stdout",
     "output_type": "stream",
     "text": [
      "The SNAREseq library was sequenced on the Illumina NovaSeq system using the NovaSeq 6000 S4 Reagent kit. A full description of the protocol and materials used in the SNAREseq library construction process can be found on protocols.io under the following protocol - SNARE-seq2 V.1.\n"
     ]
    },
    {
     "name": "stderr",
     "output_type": "stream",
     "text": [
      " 61%|██████▏   | 275/448 [04:20<01:58,  1.45it/s]"
     ]
    },
    {
     "name": "stdout",
     "output_type": "stream",
     "text": [
      "The SNAREseq library was sequenced on the Illumina NovaSeq system using the NovaSeq 6000 S4 Reagent kit. A full description of the protocol and materials used in the SNAREseq library construction process can be found on protocols.io under the following protocol - SNARE-seq2 V.1.\n"
     ]
    },
    {
     "name": "stderr",
     "output_type": "stream",
     "text": [
      " 62%|██████▏   | 276/448 [04:21<01:55,  1.49it/s]"
     ]
    },
    {
     "name": "stdout",
     "output_type": "stream",
     "text": [
      "The SNAREseq library was sequenced on the Illumina NovaSeq system using the NovaSeq 6000 S4 Reagent kit. A full description of the protocol and materials used in the SNAREseq library construction process can be found on protocols.io under the following protocol - SNARE-seq2 V.1.\n"
     ]
    },
    {
     "name": "stderr",
     "output_type": "stream",
     "text": [
      " 62%|██████▏   | 277/448 [04:22<01:52,  1.53it/s]"
     ]
    },
    {
     "name": "stdout",
     "output_type": "stream",
     "text": [
      "The SNAREseq library was sequenced on the Illumina NovaSeq system using the NovaSeq 6000 S4 Reagent kit. A full description of the protocol and materials used in the SNAREseq library construction process can be found on protocols.io under the following protocol - SNARE-seq2 V.1.\n"
     ]
    },
    {
     "name": "stderr",
     "output_type": "stream",
     "text": [
      " 62%|██████▏   | 278/448 [04:25<03:53,  1.37s/it]"
     ]
    },
    {
     "name": "stdout",
     "output_type": "stream",
     "text": [
      "The SNAREseq library was sequenced on the Illumina NovaSeq system using the NovaSeq 6000 S4 Reagent kit. A full description of the protocol and materials used in the SNAREseq library construction process can be found on protocols.io under the following protocol - SNARE-seq2 V.1.\n"
     ]
    },
    {
     "name": "stderr",
     "output_type": "stream",
     "text": [
      " 62%|██████▏   | 279/448 [04:26<03:29,  1.24s/it]"
     ]
    },
    {
     "name": "stdout",
     "output_type": "stream",
     "text": [
      "The SNAREseq library was sequenced on the Illumina NovaSeq system using the NovaSeq 6000 S4 Reagent kit. A full description of the protocol and materials used in the SNAREseq library construction process can be found on protocols.io under the following protocol - SNARE-seq2 V.1.\n"
     ]
    },
    {
     "name": "stderr",
     "output_type": "stream",
     "text": [
      " 62%|██████▎   | 280/448 [04:26<03:03,  1.09s/it]"
     ]
    },
    {
     "name": "stdout",
     "output_type": "stream",
     "text": [
      "The SNARE-RNAseq2 library was sequenced on the Illumina NovaSeq system using the NovaSeq 6000 S4 Reagent kit. A full description of the protocol and materials used in the SNARE-RNAseq2 library construction process can be found on protocols.io under the following protocol - SNARE-seq2 V.1.\n"
     ]
    },
    {
     "name": "stderr",
     "output_type": "stream",
     "text": [
      " 63%|██████▎   | 281/448 [04:27<02:38,  1.05it/s]"
     ]
    },
    {
     "name": "stdout",
     "output_type": "stream",
     "text": [
      "The SNARE-RNAseq2 library was sequenced on the Illumina NovaSeq system using the NovaSeq 6000 S4 Reagent kit. A full description of the protocol and materials used in the SNARE-RNAseq2 library construction process can be found on protocols.io under the following protocol - SNARE-seq2 V.1.\n"
     ]
    },
    {
     "name": "stderr",
     "output_type": "stream",
     "text": [
      " 63%|██████▎   | 282/448 [04:28<02:24,  1.15it/s]"
     ]
    },
    {
     "name": "stdout",
     "output_type": "stream",
     "text": [
      "The SNARE-RNAseq2 library was sequenced on the Illumina NovaSeq system using the NovaSeq 6000 S4 Reagent kit. A full description of the protocol and materials used in the SNARE-RNAseq2 library construction process can be found on protocols.io under the following protocol - SNARE-seq2 V.1.\n"
     ]
    },
    {
     "name": "stderr",
     "output_type": "stream",
     "text": [
      " 63%|██████▎   | 283/448 [04:29<02:51,  1.04s/it]"
     ]
    },
    {
     "name": "stdout",
     "output_type": "stream",
     "text": [
      "The SNARE-RNAseq2 library was sequenced on the Illumina NovaSeq system using the NovaSeq 6000 S4 Reagent kit. A full description of the protocol and materials used in the SNARE-RNAseq2 library construction process can be found on protocols.io under the following protocol - SNARE-seq2 V.1.\n"
     ]
    },
    {
     "name": "stderr",
     "output_type": "stream",
     "text": [
      " 63%|██████▎   | 284/448 [04:30<02:31,  1.08it/s]"
     ]
    },
    {
     "name": "stdout",
     "output_type": "stream",
     "text": [
      "The SNARE-RNAseq2 library was sequenced on the Illumina NovaSeq system using the NovaSeq 6000 S4 Reagent kit. A full description of the protocol and materials used in the SNARE-RNAseq2 library construction process can be found on protocols.io under the following protocol - SNARE-seq2 V.1.\n"
     ]
    },
    {
     "name": "stderr",
     "output_type": "stream",
     "text": [
      " 64%|██████▎   | 285/448 [04:30<02:17,  1.19it/s]"
     ]
    },
    {
     "name": "stdout",
     "output_type": "stream",
     "text": [
      "The SNARE-RNAseq2 library was sequenced on the Illumina NovaSeq system using the NovaSeq 6000 S4 Reagent kit. A full description of the protocol and materials used in the SNARE-RNAseq2 library construction process can be found on protocols.io under the following protocol - SNARE-seq2 V.1.\n"
     ]
    },
    {
     "name": "stderr",
     "output_type": "stream",
     "text": [
      " 64%|██████▍   | 286/448 [04:31<02:07,  1.27it/s]"
     ]
    },
    {
     "name": "stdout",
     "output_type": "stream",
     "text": [
      "The SNAREseq library was sequenced on the Illumina NovaSeq system using the NovaSeq 6000 S4 Reagent kit. A full description of the protocol and materials used in the SNAREseq library construction process can be found on protocols.io under the following protocol - SNARE-seq2 V.1.\n"
     ]
    },
    {
     "name": "stderr",
     "output_type": "stream",
     "text": [
      " 64%|██████▍   | 287/448 [04:32<02:16,  1.18it/s]"
     ]
    },
    {
     "name": "stdout",
     "output_type": "stream",
     "text": [
      "The SNAREseq library was sequenced on the Illumina NovaSeq system using the NovaSeq 6000 S4 Reagent kit. A full description of the protocol and materials used in the SNAREseq library construction process can be found on protocols.io under the following protocol - SNARE-seq2 V.1.\n"
     ]
    },
    {
     "name": "stderr",
     "output_type": "stream",
     "text": [
      " 64%|██████▍   | 288/448 [04:33<02:09,  1.23it/s]"
     ]
    },
    {
     "name": "stdout",
     "output_type": "stream",
     "text": [
      "The SNAREseq library was sequenced on the Illumina NovaSeq system using the NovaSeq 6000 S4 Reagent kit. A full description of the protocol and materials used in the SNAREseq library construction process can be found on protocols.io under the following protocol - SNARE-seq2 V.1.\n"
     ]
    },
    {
     "name": "stderr",
     "output_type": "stream",
     "text": [
      " 65%|██████▍   | 289/448 [04:33<02:08,  1.24it/s]"
     ]
    },
    {
     "name": "stdout",
     "output_type": "stream",
     "text": [
      "The SNAREseq library was sequenced on the Illumina NovaSeq system using the NovaSeq 6000 S4 Reagent kit. A full description of the protocol and materials used in the SNAREseq library construction process can be found on protocols.io under the following protocol - SNARE-seq2 V.1.\n"
     ]
    },
    {
     "name": "stderr",
     "output_type": "stream",
     "text": [
      " 65%|██████▍   | 290/448 [04:34<02:05,  1.26it/s]"
     ]
    },
    {
     "name": "stdout",
     "output_type": "stream",
     "text": [
      "The SNAREseq library was sequenced on the Illumina NovaSeq system using the NovaSeq 6000 S4 Reagent kit. A full description of the protocol and materials used in the SNAREseq library construction process can be found on protocols.io under the following protocol - SNARE-seq2 V.1.\n"
     ]
    },
    {
     "name": "stderr",
     "output_type": "stream",
     "text": [
      " 65%|██████▍   | 291/448 [04:35<01:57,  1.33it/s]"
     ]
    },
    {
     "name": "stdout",
     "output_type": "stream",
     "text": [
      "The SNAREseq library was sequenced on the Illumina NovaSeq system using the NovaSeq 6000 S4 Reagent kit. A full description of the protocol and materials used in the SNAREseq library construction process can be found on protocols.io under the following protocol - SNARE-seq2 V.1.\n"
     ]
    },
    {
     "name": "stderr",
     "output_type": "stream",
     "text": [
      " 65%|██████▌   | 292/448 [04:36<01:55,  1.35it/s]"
     ]
    },
    {
     "name": "stdout",
     "output_type": "stream",
     "text": [
      "The SNARE-RNAseq2 library was sequenced on the Illumina NovaSeq system using the NovaSeq 6000 S4 Reagent kit. A full description of the protocol and materials used in the SNARE-RNAseq2 library construction process can be found on protocols.io under the following protocol - SNARE-seq2 V.1.\n"
     ]
    },
    {
     "name": "stderr",
     "output_type": "stream",
     "text": [
      " 65%|██████▌   | 293/448 [04:36<01:52,  1.38it/s]"
     ]
    },
    {
     "name": "stdout",
     "output_type": "stream",
     "text": [
      "The SNARE-RNAseq2 library was sequenced on the Illumina NovaSeq system using the NovaSeq 6000 S4 Reagent kit. A full description of the protocol and materials used in the SNARE-RNAseq2 library construction process can be found on protocols.io under the following protocol - SNARE-seq2 V.1.\n"
     ]
    },
    {
     "name": "stderr",
     "output_type": "stream",
     "text": [
      " 66%|██████▌   | 294/448 [04:37<01:46,  1.45it/s]"
     ]
    },
    {
     "name": "stdout",
     "output_type": "stream",
     "text": [
      "The SNARE-RNAseq2 library was sequenced on the Illumina NovaSeq system using the NovaSeq 6000 S4 Reagent kit. A full description of the protocol and materials used in the SNARE-RNAseq2 library construction process can be found on protocols.io under the following protocol - SNARE-seq2 V.1.\n"
     ]
    },
    {
     "name": "stderr",
     "output_type": "stream",
     "text": [
      " 66%|██████▌   | 295/448 [04:38<01:41,  1.51it/s]"
     ]
    },
    {
     "name": "stdout",
     "output_type": "stream",
     "text": [
      "The SNARE-RNAseq2 library was sequenced on the Illumina NovaSeq system using the NovaSeq 6000 S4 Reagent kit. A full description of the protocol and materials used in the SNARE-RNAseq2 library construction process can be found on protocols.io under the following protocol - SNARE-seq2 V.1.\n"
     ]
    },
    {
     "name": "stderr",
     "output_type": "stream",
     "text": [
      " 66%|██████▌   | 296/448 [04:38<01:39,  1.53it/s]"
     ]
    },
    {
     "name": "stdout",
     "output_type": "stream",
     "text": [
      "The SNARE-RNAseq2 library was sequenced on the Illumina NovaSeq system using the NovaSeq 6000 S4 Reagent kit. A full description of the protocol and materials used in the SNARE-RNAseq2 library construction process can be found on protocols.io under the following protocol - SNARE-seq2 V.1.\n"
     ]
    },
    {
     "name": "stderr",
     "output_type": "stream",
     "text": [
      " 66%|██████▋   | 297/448 [04:39<01:36,  1.56it/s]"
     ]
    },
    {
     "name": "stdout",
     "output_type": "stream",
     "text": [
      "The SNARE-RNAseq2 library was sequenced on the Illumina NovaSeq system using the NovaSeq 6000 S4 Reagent kit. A full description of the protocol and materials used in the SNARE-RNAseq2 library construction process can be found on protocols.io under the following protocol - SNARE-seq2 V.1.\n"
     ]
    },
    {
     "name": "stderr",
     "output_type": "stream",
     "text": [
      " 67%|██████▋   | 298/448 [04:39<01:34,  1.58it/s]"
     ]
    },
    {
     "name": "stdout",
     "output_type": "stream",
     "text": [
      "The SNAREseq library was sequenced on the Illumina NovaSeq system using the NovaSeq 6000 S4 Reagent kit. A full description of the protocol and materials used in the SNAREseq library construction process can be found on protocols.io under the following protocol - SNARE-seq2 V.1.\n"
     ]
    },
    {
     "name": "stderr",
     "output_type": "stream",
     "text": [
      " 67%|██████▋   | 299/448 [04:40<01:32,  1.60it/s]"
     ]
    },
    {
     "name": "stdout",
     "output_type": "stream",
     "text": [
      "The SNAREseq library was sequenced on the Illumina NovaSeq system using the NovaSeq 6000 S4 Reagent kit. A full description of the protocol and materials used in the SNAREseq library construction process can be found on protocols.io under the following protocol - SNARE-seq2 V.1.\n"
     ]
    },
    {
     "name": "stderr",
     "output_type": "stream",
     "text": [
      " 67%|██████▋   | 300/448 [04:41<01:30,  1.63it/s]"
     ]
    },
    {
     "name": "stdout",
     "output_type": "stream",
     "text": [
      "The SNAREseq library was sequenced on the Illumina NovaSeq system using the NovaSeq 6000 S4 Reagent kit. A full description of the protocol and materials used in the SNAREseq library construction process can be found on protocols.io under the following protocol - SNARE-seq2 V.1.\n"
     ]
    },
    {
     "name": "stderr",
     "output_type": "stream",
     "text": [
      " 67%|██████▋   | 301/448 [04:41<01:28,  1.66it/s]"
     ]
    },
    {
     "name": "stdout",
     "output_type": "stream",
     "text": [
      "The SNAREseq library was sequenced on the Illumina NovaSeq system using the NovaSeq 6000 S4 Reagent kit. A full description of the protocol and materials used in the SNAREseq library construction process can be found on protocols.io under the following protocol - SNARE-seq2 V.1.\n"
     ]
    },
    {
     "name": "stderr",
     "output_type": "stream",
     "text": [
      " 67%|██████▋   | 302/448 [04:42<01:27,  1.67it/s]"
     ]
    },
    {
     "name": "stdout",
     "output_type": "stream",
     "text": [
      "The SNAREseq library was sequenced on the Illumina NovaSeq system using the NovaSeq 6000 S4 Reagent kit. A full description of the protocol and materials used in the SNAREseq library construction process can be found on protocols.io under the following protocol - SNARE-seq2 V.1.\n"
     ]
    },
    {
     "name": "stderr",
     "output_type": "stream",
     "text": [
      " 68%|██████▊   | 303/448 [04:42<01:25,  1.69it/s]"
     ]
    },
    {
     "name": "stdout",
     "output_type": "stream",
     "text": [
      "The SNAREseq library was sequenced on the Illumina NovaSeq system using the NovaSeq 6000 S4 Reagent kit. A full description of the protocol and materials used in the SNAREseq library construction process can be found on protocols.io under the following protocol - SNARE-seq2 V.1.\n"
     ]
    },
    {
     "name": "stderr",
     "output_type": "stream",
     "text": [
      " 68%|██████▊   | 304/448 [04:43<01:25,  1.69it/s]"
     ]
    },
    {
     "name": "stdout",
     "output_type": "stream",
     "text": [
      "The SNARE-RNAseq2 library was sequenced on the Illumina NovaSeq system using the NovaSeq 6000 S4 Reagent kit. A full description of the protocol and materials used in the SNARE-RNAseq2 library construction process can be found on protocols.io under the following protocol - SNARE-seq2 V.1.\n"
     ]
    },
    {
     "name": "stderr",
     "output_type": "stream",
     "text": [
      " 68%|██████▊   | 305/448 [04:44<01:25,  1.68it/s]"
     ]
    },
    {
     "name": "stdout",
     "output_type": "stream",
     "text": [
      "The SNARE-RNAseq2 library was sequenced on the Illumina NovaSeq system using the NovaSeq 6000 S4 Reagent kit. A full description of the protocol and materials used in the SNARE-RNAseq2 library construction process can be found on protocols.io under the following protocol - SNARE-seq2 V.1.\n"
     ]
    },
    {
     "name": "stderr",
     "output_type": "stream",
     "text": [
      " 68%|██████▊   | 306/448 [04:44<01:26,  1.65it/s]"
     ]
    },
    {
     "name": "stdout",
     "output_type": "stream",
     "text": [
      "The SNARE-RNAseq2 library was sequenced on the Illumina NovaSeq system using the NovaSeq 6000 S4 Reagent kit. A full description of the protocol and materials used in the SNARE-RNAseq2 library construction process can be found on protocols.io under the following protocol - SNARE-seq2 V.1.\n"
     ]
    },
    {
     "name": "stderr",
     "output_type": "stream",
     "text": [
      " 69%|██████▊   | 307/448 [04:45<01:25,  1.66it/s]"
     ]
    },
    {
     "name": "stdout",
     "output_type": "stream",
     "text": [
      "The SNARE-RNAseq2 library was sequenced on the Illumina NovaSeq system using the NovaSeq 6000 S4 Reagent kit. A full description of the protocol and materials used in the SNARE-RNAseq2 library construction process can be found on protocols.io under the following protocol - SNARE-seq2 V.1.\n"
     ]
    },
    {
     "name": "stderr",
     "output_type": "stream",
     "text": [
      " 69%|██████▉   | 308/448 [04:46<01:40,  1.39it/s]"
     ]
    },
    {
     "name": "stdout",
     "output_type": "stream",
     "text": [
      "The SNARE-RNAseq2 library was sequenced on the Illumina NovaSeq system using the NovaSeq 6000 S4 Reagent kit. A full description of the protocol and materials used in the SNARE-RNAseq2 library construction process can be found on protocols.io under the following protocol - SNARE-seq2 V.1.\n"
     ]
    },
    {
     "name": "stderr",
     "output_type": "stream",
     "text": [
      " 69%|██████▉   | 309/448 [04:46<01:36,  1.44it/s]"
     ]
    },
    {
     "name": "stdout",
     "output_type": "stream",
     "text": [
      "The SNARE-RNAseq2 library was sequenced on the Illumina NovaSeq system using the NovaSeq 6000 S4 Reagent kit. A full description of the protocol and materials used in the SNARE-RNAseq2 library construction process can be found on protocols.io under the following protocol - SNARE-seq2 V.1.\n"
     ]
    },
    {
     "name": "stderr",
     "output_type": "stream",
     "text": [
      " 69%|██████▉   | 310/448 [04:47<01:33,  1.48it/s]"
     ]
    },
    {
     "name": "stdout",
     "output_type": "stream",
     "text": [
      "The SNAREseq library was sequenced on the Illumina NovaSeq system using the NovaSeq 6000 S4 Reagent kit. A full description of the protocol and materials used in the SNAREseq library construction process can be found on protocols.io under the following protocol - SNARE-seq2 V.1.\n"
     ]
    },
    {
     "name": "stderr",
     "output_type": "stream",
     "text": [
      " 69%|██████▉   | 311/448 [04:48<01:27,  1.56it/s]"
     ]
    },
    {
     "name": "stdout",
     "output_type": "stream",
     "text": [
      "The SNAREseq library was sequenced on the Illumina NovaSeq system using the NovaSeq 6000 S4 Reagent kit. A full description of the protocol and materials used in the SNAREseq library construction process can be found on protocols.io under the following protocol - SNARE-seq2 V.1.\n"
     ]
    },
    {
     "name": "stderr",
     "output_type": "stream",
     "text": [
      " 70%|██████▉   | 312/448 [04:48<01:27,  1.55it/s]"
     ]
    },
    {
     "name": "stdout",
     "output_type": "stream",
     "text": [
      "The SNAREseq library was sequenced on the Illumina NovaSeq system using the NovaSeq 6000 S4 Reagent kit. A full description of the protocol and materials used in the SNAREseq library construction process can be found on protocols.io under the following protocol - SNARE-seq2 V.1.\n"
     ]
    },
    {
     "name": "stderr",
     "output_type": "stream",
     "text": [
      " 70%|██████▉   | 313/448 [04:49<01:25,  1.58it/s]"
     ]
    },
    {
     "name": "stdout",
     "output_type": "stream",
     "text": [
      "The SNAREseq library was sequenced on the Illumina NovaSeq system using the NovaSeq 6000 S4 Reagent kit. A full description of the protocol and materials used in the SNAREseq library construction process can be found on protocols.io under the following protocol - SNARE-seq2 V.1.\n"
     ]
    },
    {
     "name": "stderr",
     "output_type": "stream",
     "text": [
      " 70%|███████   | 314/448 [04:49<01:23,  1.61it/s]"
     ]
    },
    {
     "name": "stdout",
     "output_type": "stream",
     "text": [
      "The SNAREseq library was sequenced on the Illumina NovaSeq system using the NovaSeq 6000 S4 Reagent kit. A full description of the protocol and materials used in the SNAREseq library construction process can be found on protocols.io under the following protocol - SNARE-seq2 V.1.\n"
     ]
    },
    {
     "name": "stderr",
     "output_type": "stream",
     "text": [
      " 70%|███████   | 315/448 [04:50<01:21,  1.63it/s]"
     ]
    },
    {
     "name": "stdout",
     "output_type": "stream",
     "text": [
      "The SNAREseq library was sequenced on the Illumina NovaSeq system using the NovaSeq 6000 S4 Reagent kit. A full description of the protocol and materials used in the SNAREseq library construction process can be found on protocols.io under the following protocol - SNARE-seq2 V.1.\n"
     ]
    },
    {
     "name": "stderr",
     "output_type": "stream",
     "text": [
      " 71%|███████   | 316/448 [04:51<01:20,  1.63it/s]"
     ]
    },
    {
     "name": "stdout",
     "output_type": "stream",
     "text": [
      "The SNARE-RNAseq2 library was sequenced on the Illumina NovaSeq system using the NovaSeq 6000 S4 Reagent kit. A full description of the protocol and materials used in the SNARE-RNAseq2 library construction process can be found on protocols.io under the following protocol - SNARE-seq2 V.1.\n"
     ]
    },
    {
     "name": "stderr",
     "output_type": "stream",
     "text": [
      " 71%|███████   | 317/448 [04:51<01:20,  1.63it/s]"
     ]
    },
    {
     "name": "stdout",
     "output_type": "stream",
     "text": [
      "The SNARE-RNAseq2 library was sequenced on the Illumina NovaSeq system using the NovaSeq 6000 S4 Reagent kit. A full description of the protocol and materials used in the SNARE-RNAseq2 library construction process can be found on protocols.io under the following protocol - SNARE-seq2 V.1.\n"
     ]
    },
    {
     "name": "stderr",
     "output_type": "stream",
     "text": [
      " 71%|███████   | 318/448 [04:52<01:18,  1.65it/s]"
     ]
    },
    {
     "name": "stdout",
     "output_type": "stream",
     "text": [
      "The SNARE-RNAseq2 library was sequenced on the Illumina NovaSeq system using the NovaSeq 6000 S4 Reagent kit. A full description of the protocol and materials used in the SNARE-RNAseq2 library construction process can be found on protocols.io under the following protocol - SNARE-seq2 V.1.\n"
     ]
    },
    {
     "name": "stderr",
     "output_type": "stream",
     "text": [
      " 71%|███████   | 319/448 [04:55<03:04,  1.43s/it]"
     ]
    },
    {
     "name": "stdout",
     "output_type": "stream",
     "text": [
      "The SNARE-RNAseq2 library was sequenced on the Illumina NovaSeq system using the NovaSeq 6000 S4 Reagent kit. A full description of the protocol and materials used in the SNARE-RNAseq2 library construction process can be found on protocols.io under the following protocol - SNARE-seq2 V.1.\n"
     ]
    },
    {
     "name": "stderr",
     "output_type": "stream",
     "text": [
      " 71%|███████▏  | 320/448 [04:56<02:43,  1.27s/it]"
     ]
    },
    {
     "name": "stdout",
     "output_type": "stream",
     "text": [
      "The SNARE-RNAseq2 library was sequenced on the Illumina NovaSeq system using the NovaSeq 6000 S4 Reagent kit. A full description of the protocol and materials used in the SNARE-RNAseq2 library construction process can be found on protocols.io under the following protocol - SNARE-seq2 V.1.\n"
     ]
    },
    {
     "name": "stderr",
     "output_type": "stream",
     "text": [
      " 72%|███████▏  | 321/448 [04:57<02:19,  1.10s/it]"
     ]
    },
    {
     "name": "stdout",
     "output_type": "stream",
     "text": [
      "The SNARE-RNAseq2 library was sequenced on the Illumina NovaSeq system using the NovaSeq 6000 S4 Reagent kit. A full description of the protocol and materials used in the SNARE-RNAseq2 library construction process can be found on protocols.io under the following protocol - SNARE-seq2 V.1.\n"
     ]
    },
    {
     "name": "stderr",
     "output_type": "stream",
     "text": [
      " 72%|███████▏  | 322/448 [04:57<02:03,  1.02it/s]"
     ]
    },
    {
     "name": "stdout",
     "output_type": "stream",
     "text": [
      "The SNAREseq library was sequenced on the Illumina NovaSeq system using the NovaSeq 6000 S4 Reagent kit. A full description of the protocol and materials used in the SNAREseq library construction process can be found on protocols.io under the following protocol - SNARE-seq2 V.1.\n"
     ]
    },
    {
     "name": "stderr",
     "output_type": "stream",
     "text": [
      " 72%|███████▏  | 323/448 [04:58<01:55,  1.08it/s]"
     ]
    },
    {
     "name": "stdout",
     "output_type": "stream",
     "text": [
      "The SNAREseq library was sequenced on the Illumina NovaSeq system using the NovaSeq 6000 S4 Reagent kit. A full description of the protocol and materials used in the SNAREseq library construction process can be found on protocols.io under the following protocol - SNARE-seq2 V.1.\n"
     ]
    },
    {
     "name": "stderr",
     "output_type": "stream",
     "text": [
      " 72%|███████▏  | 324/448 [04:59<01:43,  1.19it/s]"
     ]
    },
    {
     "name": "stdout",
     "output_type": "stream",
     "text": [
      "The SNAREseq library was sequenced on the Illumina NovaSeq system using the NovaSeq 6000 S4 Reagent kit. A full description of the protocol and materials used in the SNAREseq library construction process can be found on protocols.io under the following protocol - SNARE-seq2 V.1.\n"
     ]
    },
    {
     "name": "stderr",
     "output_type": "stream",
     "text": [
      " 73%|███████▎  | 325/448 [04:59<01:34,  1.30it/s]"
     ]
    },
    {
     "name": "stdout",
     "output_type": "stream",
     "text": [
      "The SNAREseq library was sequenced on the Illumina NovaSeq system using the NovaSeq 6000 S4 Reagent kit. A full description of the protocol and materials used in the SNAREseq library construction process can be found on protocols.io under the following protocol - SNARE-seq2 V.1.\n"
     ]
    },
    {
     "name": "stderr",
     "output_type": "stream",
     "text": [
      " 73%|███████▎  | 326/448 [05:00<01:26,  1.41it/s]"
     ]
    },
    {
     "name": "stdout",
     "output_type": "stream",
     "text": [
      "The SNAREseq library was sequenced on the Illumina NovaSeq system using the NovaSeq 6000 S4 Reagent kit. A full description of the protocol and materials used in the SNAREseq library construction process can be found on protocols.io under the following protocol - SNARE-seq2 V.1.\n"
     ]
    },
    {
     "name": "stderr",
     "output_type": "stream",
     "text": [
      " 73%|███████▎  | 327/448 [05:01<01:23,  1.45it/s]"
     ]
    },
    {
     "name": "stdout",
     "output_type": "stream",
     "text": [
      "The SNAREseq library was sequenced on the Illumina NovaSeq system using the NovaSeq 6000 S4 Reagent kit. A full description of the protocol and materials used in the SNAREseq library construction process can be found on protocols.io under the following protocol - SNARE-seq2 V.1.\n"
     ]
    },
    {
     "name": "stderr",
     "output_type": "stream",
     "text": [
      " 73%|███████▎  | 328/448 [05:01<01:20,  1.48it/s]"
     ]
    },
    {
     "name": "stdout",
     "output_type": "stream",
     "text": [
      "The Slide-seq library was sequenced on the Illumina NovaSeq 6000 system using the S2 kit. A full description of the protocol and materials used in the Slide-seq library construction process can be found on protocols.io under the following protocol - Library Generation using Slide-seqV2 V.1.\n"
     ]
    },
    {
     "name": "stderr",
     "output_type": "stream",
     "text": [
      " 73%|███████▎  | 329/448 [05:02<01:22,  1.45it/s]"
     ]
    },
    {
     "name": "stdout",
     "output_type": "stream",
     "text": [
      "The Slide-seq library was sequenced on the Illumina NovaSeq 6000 system using the S2 kit. A full description of the protocol and materials used in the Slide-seq library construction process can be found on protocols.io under the following protocol - Library Generation using Slide-seqV2 V.1.\n"
     ]
    },
    {
     "name": "stderr",
     "output_type": "stream",
     "text": [
      " 74%|███████▎  | 330/448 [05:03<01:22,  1.43it/s]"
     ]
    },
    {
     "name": "stdout",
     "output_type": "stream",
     "text": [
      "The Slide-seq library was sequenced on the Illumina NovaSeq 6000 system using the S2 kit. A full description of the protocol and materials used in the Slide-seq library construction process can be found on protocols.io under the following protocol - Library Generation using Slide-seqV2 V.1.\n"
     ]
    },
    {
     "name": "stderr",
     "output_type": "stream",
     "text": [
      " 74%|███████▍  | 331/448 [05:04<01:25,  1.37it/s]"
     ]
    },
    {
     "name": "stdout",
     "output_type": "stream",
     "text": [
      "The Slide-seq library was sequenced on the Illumina NovaSeq 6000 system using the S2 kit. A full description of the protocol and materials used in the Slide-seq library construction process can be found on protocols.io under the following protocol - Library Generation using Slide-seqV2 V.1.\n"
     ]
    },
    {
     "name": "stderr",
     "output_type": "stream",
     "text": [
      " 74%|███████▍  | 332/448 [05:04<01:22,  1.40it/s]"
     ]
    },
    {
     "name": "stdout",
     "output_type": "stream",
     "text": [
      "The Slide-seq library was sequenced on the Illumina NovaSeq 6000 system using the S2 kit. A full description of the protocol and materials used in the Slide-seq library construction process can be found on protocols.io under the following protocol - Library Generation using Slide-seqV2 V.1.\n"
     ]
    },
    {
     "name": "stderr",
     "output_type": "stream",
     "text": [
      " 74%|███████▍  | 333/448 [05:05<01:21,  1.42it/s]"
     ]
    },
    {
     "name": "stdout",
     "output_type": "stream",
     "text": [
      "The Slide-seq library was sequenced on the Illumina NovaSeq 6000 system using the S2 kit. A full description of the protocol and materials used in the Slide-seq library construction process can be found on protocols.io under the following protocol - Library Generation using Slide-seqV2 V.1.\n"
     ]
    },
    {
     "name": "stderr",
     "output_type": "stream",
     "text": [
      " 75%|███████▍  | 334/448 [05:06<01:20,  1.41it/s]"
     ]
    },
    {
     "name": "stdout",
     "output_type": "stream",
     "text": [
      "The Slide-seq library was sequenced on the Illumina NovaSeq 6000 system using the S2 kit. A full description of the protocol and materials used in the Slide-seq library construction process can be found on protocols.io under the following protocol - Library Generation using Slide-seqV2 V.1.\n"
     ]
    },
    {
     "name": "stderr",
     "output_type": "stream",
     "text": [
      " 75%|███████▍  | 335/448 [05:06<01:18,  1.45it/s]"
     ]
    },
    {
     "name": "stdout",
     "output_type": "stream",
     "text": [
      "The Slide-seq library was sequenced on the Illumina NovaSeq 6000 system using the S2 kit. A full description of the protocol and materials used in the Slide-seq library construction process can be found on protocols.io under the following protocol - Library Generation using Slide-seqV2 V.1.\n"
     ]
    },
    {
     "name": "stderr",
     "output_type": "stream",
     "text": [
      " 75%|███████▌  | 336/448 [05:07<01:13,  1.52it/s]"
     ]
    },
    {
     "name": "stdout",
     "output_type": "stream",
     "text": [
      "The Slide-seq library was sequenced on the Illumina NovaSeq 6000 system using the S2 kit. A full description of the protocol and materials used in the Slide-seq library construction process can be found on protocols.io under the following protocol - Library Generation using Slide-seqV2 V.1.\n"
     ]
    },
    {
     "name": "stderr",
     "output_type": "stream",
     "text": [
      " 75%|███████▌  | 337/448 [05:07<01:09,  1.60it/s]"
     ]
    },
    {
     "name": "stdout",
     "output_type": "stream",
     "text": [
      "The Slide-seq library was sequenced on the Illumina NovaSeq 6000 system using the S2 kit. A full description of the protocol and materials used in the Slide-seq library construction process can be found on protocols.io under the following protocol - Library Generation using Slide-seqV2 V.1.\n"
     ]
    },
    {
     "name": "stderr",
     "output_type": "stream",
     "text": [
      " 75%|███████▌  | 338/448 [05:08<01:08,  1.61it/s]"
     ]
    },
    {
     "name": "stdout",
     "output_type": "stream",
     "text": [
      "The Slide-seq library was sequenced on the Illumina NovaSeq 6000 system using the S2 kit. A full description of the protocol and materials used in the Slide-seq library construction process can be found on protocols.io under the following protocol - Library Generation using Slide-seqV2 V.1.\n"
     ]
    },
    {
     "name": "stderr",
     "output_type": "stream",
     "text": [
      " 76%|███████▌  | 339/448 [05:09<01:08,  1.60it/s]"
     ]
    },
    {
     "name": "stdout",
     "output_type": "stream",
     "text": [
      "The Slide-seq library was sequenced on the Illumina NovaSeq 6000 system using the S2 kit. A full description of the protocol and materials used in the Slide-seq library construction process can be found on protocols.io under the following protocol - Library Generation using Slide-seqV2 V.1.\n"
     ]
    },
    {
     "name": "stderr",
     "output_type": "stream",
     "text": [
      " 76%|███████▌  | 340/448 [05:09<01:06,  1.62it/s]"
     ]
    },
    {
     "name": "stdout",
     "output_type": "stream",
     "text": [
      "The Slide-seq library was sequenced on the Illumina NovaSeq 6000 system using the S2 kit. A full description of the protocol and materials used in the Slide-seq library construction process can be found on protocols.io under the following protocol - Library Generation using Slide-seqV2 V.1.\n"
     ]
    },
    {
     "name": "stderr",
     "output_type": "stream",
     "text": [
      " 76%|███████▌  | 341/448 [05:10<01:05,  1.63it/s]"
     ]
    },
    {
     "name": "stdout",
     "output_type": "stream",
     "text": [
      "The Slide-seq library was sequenced on the Illumina NovaSeq 6000 system using the S2 kit. A full description of the protocol and materials used in the Slide-seq library construction process can be found on protocols.io under the following protocol - Library Generation using Slide-seqV2 V.1.\n"
     ]
    },
    {
     "name": "stderr",
     "output_type": "stream",
     "text": [
      " 76%|███████▋  | 342/448 [05:11<01:06,  1.60it/s]"
     ]
    },
    {
     "name": "stdout",
     "output_type": "stream",
     "text": [
      "The Slide-seq library was sequenced on the Illumina NovaSeq 6000 system using the S2 kit. A full description of the protocol and materials used in the Slide-seq library construction process can be found on protocols.io under the following protocol - Library Generation using Slide-seqV2 V.1.\n"
     ]
    },
    {
     "name": "stderr",
     "output_type": "stream",
     "text": [
      " 77%|███████▋  | 343/448 [05:11<01:05,  1.61it/s]"
     ]
    },
    {
     "name": "stdout",
     "output_type": "stream",
     "text": [
      "The Slide-seq library was sequenced on the Illumina NovaSeq 6000 system using the S2 kit. A full description of the protocol and materials used in the Slide-seq library construction process can be found on protocols.io under the following protocol - Library Generation using Slide-seqV2 V.1.\n"
     ]
    },
    {
     "name": "stderr",
     "output_type": "stream",
     "text": [
      " 77%|███████▋  | 344/448 [05:12<01:05,  1.59it/s]"
     ]
    },
    {
     "name": "stdout",
     "output_type": "stream",
     "text": [
      "The Slide-seq library was sequenced on the Illumina NovaSeq 6000 system using the S2 kit. A full description of the protocol and materials used in the Slide-seq library construction process can be found on protocols.io under the following protocol - Library Generation using Slide-seqV2 V.1.\n"
     ]
    },
    {
     "name": "stderr",
     "output_type": "stream",
     "text": [
      " 77%|███████▋  | 345/448 [05:13<01:14,  1.39it/s]"
     ]
    },
    {
     "name": "stdout",
     "output_type": "stream",
     "text": [
      "The Slide-seq library was sequenced on the Illumina NovaSeq 6000 system using the S2 kit. A full description of the protocol and materials used in the Slide-seq library construction process can be found on protocols.io under the following protocol - Library Generation using Slide-seqV2 V.1.\n"
     ]
    },
    {
     "name": "stderr",
     "output_type": "stream",
     "text": [
      " 77%|███████▋  | 346/448 [05:13<01:10,  1.46it/s]"
     ]
    },
    {
     "name": "stdout",
     "output_type": "stream",
     "text": [
      "The Slide-seq library was sequenced on the Illumina NovaSeq 6000 system using the S2 kit. A full description of the protocol and materials used in the Slide-seq library construction process can be found on protocols.io under the following protocol - Library Generation using Slide-seqV2 V.1.\n"
     ]
    },
    {
     "name": "stderr",
     "output_type": "stream",
     "text": [
      " 77%|███████▋  | 347/448 [05:14<01:06,  1.51it/s]"
     ]
    },
    {
     "name": "stdout",
     "output_type": "stream",
     "text": [
      "The snRNAseq library was sequenced on the Illumina NovaSeq system using the NovaSeq 6000 S4 Reagent kit. A full description of the protocol and materials used in the snRNAseq library construction process can be found on protocols.io under the following protocol - 10X Genomics Single-Nucleus RNA-Sequencing for Transcriptomic Profiling of Adult Human Tissues V.3.\n"
     ]
    },
    {
     "name": "stderr",
     "output_type": "stream",
     "text": [
      " 78%|███████▊  | 348/448 [05:15<01:03,  1.58it/s]"
     ]
    },
    {
     "name": "stdout",
     "output_type": "stream",
     "text": [
      "The snRNAseq library was sequenced on the Illumina NovaSeq system using the NovaSeq 6000 S4 Reagent kit. A full description of the protocol and materials used in the snRNAseq library construction process can be found on protocols.io under the following protocol - 10X Genomics Single-Nucleus RNA-Sequencing for Transcriptomic Profiling of Adult Human Tissues V.3.\n"
     ]
    },
    {
     "name": "stderr",
     "output_type": "stream",
     "text": [
      " 78%|███████▊  | 349/448 [05:15<01:01,  1.62it/s]"
     ]
    },
    {
     "name": "stdout",
     "output_type": "stream",
     "text": [
      "The snRNAseq library was sequenced on the Illumina NovaSeq system using the NovaSeq 6000 S4 Reagent kit. A full description of the protocol and materials used in the snRNAseq library construction process can be found on protocols.io under the following protocol - 10X Genomics Single-Nucleus RNA-Sequencing for Transcriptomic Profiling of Adult Human Tissues V.3.\n"
     ]
    },
    {
     "name": "stderr",
     "output_type": "stream",
     "text": [
      " 78%|███████▊  | 350/448 [05:16<00:59,  1.64it/s]"
     ]
    },
    {
     "name": "stdout",
     "output_type": "stream",
     "text": [
      "The snRNAseq library was sequenced on the Illumina NovaSeq system using the NovaSeq 6000 S4 Reagent kit. A full description of the protocol and materials used in the snRNAseq library construction process can be found on protocols.io under the following protocol - 10X Genomics Single-Nucleus RNA-Sequencing for Transcriptomic Profiling of Adult Human Tissues V.3.\n"
     ]
    },
    {
     "name": "stderr",
     "output_type": "stream",
     "text": [
      " 78%|███████▊  | 351/448 [05:16<00:58,  1.65it/s]"
     ]
    },
    {
     "name": "stdout",
     "output_type": "stream",
     "text": [
      "The snRNAseq library was sequenced on the Illumina NovaSeq system using the NovaSeq 6000 S4 Reagent kit. A full description of the protocol and materials used in the snRNAseq library construction process can be found on protocols.io under the following protocol - 10X Genomics Single-Nucleus RNA-Sequencing for Transcriptomic Profiling of Adult Human Tissues V.3.\n"
     ]
    },
    {
     "name": "stderr",
     "output_type": "stream",
     "text": [
      " 79%|███████▊  | 352/448 [05:17<00:58,  1.64it/s]"
     ]
    },
    {
     "name": "stdout",
     "output_type": "stream",
     "text": [
      "The snRNAseq library was sequenced on the Illumina NovaSeq system using the NovaSeq 6000 S4 Reagent kit. A full description of the protocol and materials used in the snRNAseq library construction process can be found on protocols.io under the following protocol - 10X Genomics Single-Nucleus RNA-Sequencing for Transcriptomic Profiling of Adult Human Tissues V.3.\n"
     ]
    },
    {
     "name": "stderr",
     "output_type": "stream",
     "text": [
      " 79%|███████▉  | 353/448 [05:17<00:56,  1.67it/s]"
     ]
    },
    {
     "name": "stdout",
     "output_type": "stream",
     "text": [
      "The snRNAseq library was sequenced on the Illumina NovaSeq system using the NovaSeq 6000 Reagent kit. A full description of the protocol and materials used in the snRNAseq library construction process can be found on protocols.io under the following protocol - 10X Genomics Single-Nucleus RNA-Sequencing for Transcriptomic Profiling of Adult Human Tissues V.3.\n"
     ]
    },
    {
     "name": "stderr",
     "output_type": "stream",
     "text": [
      " 79%|███████▉  | 354/448 [05:19<01:16,  1.23it/s]"
     ]
    },
    {
     "name": "stdout",
     "output_type": "stream",
     "text": [
      "The snRNAseq library was sequenced on the Illumina NovaSeq system using the NovaSeq 6000 S4 Reagent kit. A full description of the protocol and materials used in the snRNAseq library construction process can be found on protocols.io under the following protocol - 10X Genomics Single-Nucleus RNA-Sequencing for Transcriptomic Profiling of Adult Human Tissues V.3.\n"
     ]
    },
    {
     "name": "stderr",
     "output_type": "stream",
     "text": [
      " 79%|███████▉  | 355/448 [05:20<01:12,  1.28it/s]"
     ]
    },
    {
     "name": "stdout",
     "output_type": "stream",
     "text": [
      "The snRNAseq library was sequenced on the Illumina NovaSeq system using the NovaSeq 6000 Reagent kit. A full description of the protocol and materials used in the snRNAseq library construction process can be found on protocols.io under the following protocol - 10X Genomics Single-Nucleus RNA-Sequencing for Transcriptomic Profiling of Adult Human Tissues V.3.\n"
     ]
    },
    {
     "name": "stderr",
     "output_type": "stream",
     "text": [
      " 79%|███████▉  | 356/448 [05:20<01:10,  1.31it/s]"
     ]
    },
    {
     "name": "stdout",
     "output_type": "stream",
     "text": [
      "The snRNAseq library was sequenced on the Illumina NovaSeq system using the NovaSeq 6000 S4 Reagent kit. A full description of the protocol and materials used in the snRNAseq library construction process can be found on protocols.io under the following protocol - 10X Genomics Single-Nucleus RNA-Sequencing for Transcriptomic Profiling of Adult Human Tissues V.3.\n"
     ]
    },
    {
     "name": "stderr",
     "output_type": "stream",
     "text": [
      " 80%|███████▉  | 357/448 [05:21<01:06,  1.37it/s]"
     ]
    },
    {
     "name": "stdout",
     "output_type": "stream",
     "text": [
      "The snRNAseq library was sequenced on the Illumina NovaSeq system using the NovaSeq 6000 S4 Reagent kit. A full description of the protocol and materials used in the snRNAseq library construction process can be found on protocols.io under the following protocol - 10X Genomics Single-Nucleus RNA-Sequencing for Transcriptomic Profiling of Adult Human Tissues V.3.\n"
     ]
    },
    {
     "name": "stderr",
     "output_type": "stream",
     "text": [
      " 80%|███████▉  | 358/448 [05:21<01:01,  1.45it/s]"
     ]
    },
    {
     "name": "stdout",
     "output_type": "stream",
     "text": [
      "The snRNAseq library was sequenced on the Illumina NovaSeq system using the NovaSeq 6000 S4 Reagent kit. A full description of the protocol and materials used in the snRNAseq library construction process can be found on protocols.io under the following protocol - 10X Genomics Single-Nucleus RNA-Sequencing for Transcriptomic Profiling of Adult Human Tissues V.3.\n"
     ]
    },
    {
     "name": "stderr",
     "output_type": "stream",
     "text": [
      " 80%|████████  | 359/448 [05:22<01:03,  1.41it/s]"
     ]
    },
    {
     "name": "stdout",
     "output_type": "stream",
     "text": [
      "The snRNAseq library was sequenced on the Illumina NovaSeq system using the NovaSeq 6000 S4 Reagent kit. A full description of the protocol and materials used in the snRNAseq library construction process can be found on protocols.io under the following protocol - 10X Genomics Single-Nucleus RNA-Sequencing for Transcriptomic Profiling of Adult Human Tissues V.3.\n"
     ]
    },
    {
     "name": "stderr",
     "output_type": "stream",
     "text": [
      " 80%|████████  | 360/448 [05:23<01:02,  1.40it/s]"
     ]
    },
    {
     "name": "stdout",
     "output_type": "stream",
     "text": [
      "The snRNAseq library was sequenced on the Illumina NovaSeq system using the NovaSeq 6000 Reagent kit. A full description of the protocol and materials used in the snRNAseq library construction process can be found on protocols.io under the following protocol - 10X Genomics Single-Nucleus RNA-Sequencing for Transcriptomic Profiling of Adult Human Tissues V.3.\n"
     ]
    },
    {
     "name": "stderr",
     "output_type": "stream",
     "text": [
      " 81%|████████  | 361/448 [05:24<01:00,  1.44it/s]"
     ]
    },
    {
     "name": "stdout",
     "output_type": "stream",
     "text": [
      "The snRNAseq library was sequenced on the Illumina NovaSeq system using the NovaSeq 6000 Reagent kit. A full description of the protocol and materials used in the snRNAseq library construction process can be found on protocols.io under the following protocol - 10X Genomics Single-Nucleus RNA-Sequencing for Transcriptomic Profiling of Adult Human Tissues V.3.\n"
     ]
    },
    {
     "name": "stderr",
     "output_type": "stream",
     "text": [
      " 81%|████████  | 362/448 [05:24<00:58,  1.48it/s]"
     ]
    },
    {
     "name": "stdout",
     "output_type": "stream",
     "text": [
      "The snRNAseq library was sequenced on the Illumina NovaSeq system using the NovaSeq 6000 Reagent kit. A full description of the protocol and materials used in the snRNAseq library construction process can be found on protocols.io under the following protocol - 10X Genomics Single-Nucleus RNA-Sequencing for Transcriptomic Profiling of Adult Human Tissues V.3.\n"
     ]
    },
    {
     "name": "stderr",
     "output_type": "stream",
     "text": [
      " 81%|████████  | 363/448 [05:25<00:55,  1.53it/s]"
     ]
    },
    {
     "name": "stdout",
     "output_type": "stream",
     "text": [
      "The snRNAseq library was sequenced on the Illumina NovaSeq system using the NovaSeq 6000 S4 Reagent kit. A full description of the protocol and materials used in the snRNAseq library construction process can be found on protocols.io under the following protocol - 10X Genomics Single-Nucleus RNA-Sequencing for Transcriptomic Profiling of Adult Human Tissues V.3.\n"
     ]
    },
    {
     "name": "stderr",
     "output_type": "stream",
     "text": [
      " 81%|████████▏ | 364/448 [05:26<00:56,  1.50it/s]"
     ]
    },
    {
     "name": "stdout",
     "output_type": "stream",
     "text": [
      "The snRNAseq library was sequenced on the Illumina NovaSeq system using the NovaSeq 6000 S4 Reagent kit. A full description of the protocol and materials used in the snRNAseq library construction process can be found on protocols.io under the following protocol - 10X Genomics Single-Nucleus RNA-Sequencing for Transcriptomic Profiling of Adult Human Tissues V.3.\n"
     ]
    },
    {
     "name": "stderr",
     "output_type": "stream",
     "text": [
      " 81%|████████▏ | 365/448 [05:26<00:57,  1.43it/s]"
     ]
    },
    {
     "name": "stdout",
     "output_type": "stream",
     "text": [
      "The snRNAseq library was sequenced on the Illumina NovaSeq system using the NovaSeq 6000 S4 Reagent kit. A full description of the protocol and materials used in the snRNAseq library construction process can be found on protocols.io under the following protocol - 10X Genomics Single-Nucleus RNA-Sequencing for Transcriptomic Profiling of Adult Human Tissues V.3.\n"
     ]
    },
    {
     "name": "stderr",
     "output_type": "stream",
     "text": [
      " 82%|████████▏ | 366/448 [05:27<00:59,  1.37it/s]"
     ]
    },
    {
     "name": "stdout",
     "output_type": "stream",
     "text": [
      "The snRNAseq library was sequenced on the Illumina NovaSeq system using the NovaSeq 6000 S4 Reagent kit. A full description of the protocol and materials used in the snRNAseq library construction process can be found on protocols.io under the following protocol - 10X Genomics Single-Nucleus RNA-Sequencing for Transcriptomic Profiling of Adult Human Tissues V.3.\n"
     ]
    },
    {
     "name": "stderr",
     "output_type": "stream",
     "text": [
      " 82%|████████▏ | 367/448 [05:28<00:58,  1.38it/s]"
     ]
    },
    {
     "name": "stdout",
     "output_type": "stream",
     "text": [
      "The snRNAseq library was sequenced on the Illumina NovaSeq system using the NovaSeq 6000 SP Reagent kit. A full description of the protocol and materials used in the snRNAseq library construction process can be found on protocols.io under the following protocol - 10X Genomics Single-Nucleus RNA-Sequencing for Transcriptomic Profiling of Adult Human Tissues V.3.\n"
     ]
    },
    {
     "name": "stderr",
     "output_type": "stream",
     "text": [
      " 82%|████████▏ | 368/448 [05:28<00:55,  1.43it/s]"
     ]
    },
    {
     "name": "stdout",
     "output_type": "stream",
     "text": [
      "The snRNAseq library was sequenced on the Illumina NovaSeq system using the NovaSeq 6000 S4 Reagent kit. A full description of the protocol and materials used in the snRNAseq library construction process can be found on protocols.io under the following protocol - 10X Genomics Single-Nucleus RNA-Sequencing for Transcriptomic Profiling of Adult Human Tissues V.3.\n"
     ]
    },
    {
     "name": "stderr",
     "output_type": "stream",
     "text": [
      " 82%|████████▏ | 369/448 [05:29<01:02,  1.26it/s]"
     ]
    },
    {
     "name": "stdout",
     "output_type": "stream",
     "text": [
      "The snRNAseq library was sequenced on the Illumina NovaSeq system using the NovaSeq 6000 S4 Reagent kit. A full description of the protocol and materials used in the snRNAseq library construction process can be found on protocols.io under the following protocol - 10X Genomics Single-Nucleus RNA-Sequencing for Transcriptomic Profiling of Adult Human Tissues V.3.\n"
     ]
    },
    {
     "name": "stderr",
     "output_type": "stream",
     "text": [
      " 83%|████████▎ | 370/448 [05:30<00:59,  1.32it/s]"
     ]
    },
    {
     "name": "stdout",
     "output_type": "stream",
     "text": [
      "The snRNAseq library was sequenced on the Illumina NovaSeq system using the NovaSeq 6000 S4 Reagent kit. A full description of the protocol and materials used in the snRNAseq library construction process can be found on protocols.io under the following protocol - 10X Genomics Single-Nucleus RNA-Sequencing for Transcriptomic Profiling of Adult Human Tissues V.3.\n"
     ]
    },
    {
     "name": "stderr",
     "output_type": "stream",
     "text": [
      " 83%|████████▎ | 371/448 [05:31<00:56,  1.37it/s]"
     ]
    },
    {
     "name": "stdout",
     "output_type": "stream",
     "text": [
      "The snRNAseq library was sequenced on the Illumina NovaSeq system using the NovaSeq 6000 Reagent kit. A full description of the protocol and materials used in the snRNAseq library construction process can be found on protocols.io under the following protocol - 10X Genomics Single-Nucleus RNA-Sequencing for Transcriptomic Profiling of Adult Human Tissues V.3.\n"
     ]
    },
    {
     "name": "stderr",
     "output_type": "stream",
     "text": [
      " 83%|████████▎ | 372/448 [05:31<00:51,  1.47it/s]"
     ]
    },
    {
     "name": "stdout",
     "output_type": "stream",
     "text": [
      "The snRNAseq library was sequenced on the Illumina NovaSeq system using the NovaSeq 6000 S4 Reagent kit. A full description of the protocol and materials used in the snRNAseq library construction process can be found on protocols.io under the following protocol - 10X Genomics Single-Nucleus RNA-Sequencing for Transcriptomic Profiling of Adult Human Tissues V.3.\n"
     ]
    },
    {
     "name": "stderr",
     "output_type": "stream",
     "text": [
      " 83%|████████▎ | 373/448 [05:32<00:50,  1.50it/s]"
     ]
    },
    {
     "name": "stdout",
     "output_type": "stream",
     "text": [
      "The snRNAseq library was sequenced on the Illumina NovaSeq system using the NovaSeq 6000 S4 Reagent kit. A full description of the protocol and materials used in the snRNAseq library construction process can be found on protocols.io under the following protocol - 10X Genomics Single-Nucleus RNA-Sequencing for Transcriptomic Profiling of Adult Human Tissues V.3.\n"
     ]
    },
    {
     "name": "stderr",
     "output_type": "stream",
     "text": [
      " 83%|████████▎ | 374/448 [05:33<00:48,  1.53it/s]"
     ]
    },
    {
     "name": "stdout",
     "output_type": "stream",
     "text": [
      "The snRNAseq library was sequenced on the Illumina NovaSeq system using the NovaSeq 6000 S4 Reagent kit. A full description of the protocol and materials used in the snRNAseq library construction process can be found on protocols.io under the following protocol - 10X Genomics Single-Nucleus RNA-Sequencing for Transcriptomic Profiling of Adult Human Tissues V.3.\n"
     ]
    },
    {
     "name": "stderr",
     "output_type": "stream",
     "text": [
      " 84%|████████▎ | 375/448 [05:33<00:47,  1.55it/s]"
     ]
    },
    {
     "name": "stdout",
     "output_type": "stream",
     "text": [
      "The snRNAseq library was sequenced on the Illumina NovaSeq system using the NovaSeq 6000 S4 Reagent kit. A full description of the protocol and materials used in the snRNAseq library construction process can be found on protocols.io under the following protocol - 10X Genomics Single-Nucleus RNA-Sequencing for Transcriptomic Profiling of Adult Human Tissues V.3.\n"
     ]
    },
    {
     "name": "stderr",
     "output_type": "stream",
     "text": [
      " 84%|████████▍ | 376/448 [05:34<00:50,  1.42it/s]"
     ]
    },
    {
     "name": "stdout",
     "output_type": "stream",
     "text": [
      "The SNARE-RNAseq2 library was sequenced on the Illumina NovaSeq system using the NovaSeq 6000 S4 Reagent kit. A full description of the protocol and materials used in the SNARE-RNAseq2 library construction process can be found on protocols.io under the following protocol - SNARE-seq2 V.1.\n"
     ]
    },
    {
     "name": "stderr",
     "output_type": "stream",
     "text": [
      " 84%|████████▍ | 377/448 [05:35<00:56,  1.26it/s]"
     ]
    },
    {
     "name": "stdout",
     "output_type": "stream",
     "text": [
      "The SNARE-RNAseq2 library was sequenced on the Illumina NovaSeq system using the NovaSeq 6000 S4 Reagent kit. A full description of the protocol and materials used in the SNARE-RNAseq2 library construction process can be found on protocols.io under the following protocol - SNARE-seq2 V.1.\n"
     ]
    },
    {
     "name": "stderr",
     "output_type": "stream",
     "text": [
      " 84%|████████▍ | 378/448 [05:36<00:57,  1.21it/s]"
     ]
    },
    {
     "name": "stdout",
     "output_type": "stream",
     "text": [
      "The SNARE-ATACseq2 library was sequenced on the Illumina NovaSeq system using the NovaSeq 6000 S4 Reagent kit. A full description of the protocol and materials used in the SNARE-ATACseq2 library construction process can be found on protocols.io under the following protocol - SNARE-seq2 V.1.\n"
     ]
    },
    {
     "name": "stderr",
     "output_type": "stream",
     "text": [
      " 85%|████████▍ | 379/448 [05:37<00:56,  1.22it/s]"
     ]
    },
    {
     "name": "stdout",
     "output_type": "stream",
     "text": [
      "The SNARE-ATACseq2 library was sequenced on the Illumina NovaSeq system using the NovaSeq 6000 S4 Reagent kit. A full description of the protocol and materials used in the SNARE-ATACseq2 library construction process can be found on protocols.io under the following protocol - SNARE-seq2 V.1.\n"
     ]
    },
    {
     "name": "stderr",
     "output_type": "stream",
     "text": [
      " 85%|████████▍ | 380/448 [05:38<00:54,  1.25it/s]"
     ]
    },
    {
     "name": "stdout",
     "output_type": "stream",
     "text": [
      "The SNARE-RNAseq2 library was sequenced on the Illumina NovaSeq system using the NovaSeq 6000 S4 Reagent kit. A full description of the protocol and materials used in the SNARE-RNAseq2 library construction process can be found on protocols.io under the following protocol - SNARE-seq2 V.1.\n"
     ]
    },
    {
     "name": "stderr",
     "output_type": "stream",
     "text": [
      " 85%|████████▌ | 381/448 [05:38<00:51,  1.30it/s]"
     ]
    },
    {
     "name": "stdout",
     "output_type": "stream",
     "text": [
      "The SNARE-RNAseq2 library was sequenced on the Illumina NovaSeq system using the NovaSeq 6000 S4 Reagent kit. A full description of the protocol and materials used in the SNARE-RNAseq2 library construction process can be found on protocols.io under the following protocol - SNARE-seq2 V.1.\n"
     ]
    },
    {
     "name": "stderr",
     "output_type": "stream",
     "text": [
      " 85%|████████▌ | 382/448 [05:39<00:56,  1.17it/s]"
     ]
    },
    {
     "name": "stdout",
     "output_type": "stream",
     "text": [
      "The SNARE-RNAseq2 library was sequenced on the Illumina NovaSeq system using the NovaSeq 6000 S4 Reagent kit. A full description of the protocol and materials used in the SNARE-RNAseq2 library construction process can be found on protocols.io under the following protocol - SNARE-seq2 V.1.\n"
     ]
    },
    {
     "name": "stderr",
     "output_type": "stream",
     "text": [
      " 85%|████████▌ | 383/448 [05:40<00:51,  1.26it/s]"
     ]
    },
    {
     "name": "stdout",
     "output_type": "stream",
     "text": [
      "The SNARE-ATACseq2 library was sequenced on the Illumina NovaSeq system using the NovaSeq 6000 S4 Reagent kit. A full description of the protocol and materials used in the SNARE-ATACseq2 library construction process can be found on protocols.io under the following protocol - SNARE-seq2 V.1.\n"
     ]
    },
    {
     "name": "stderr",
     "output_type": "stream",
     "text": [
      " 86%|████████▌ | 384/448 [05:41<00:49,  1.29it/s]"
     ]
    },
    {
     "name": "stdout",
     "output_type": "stream",
     "text": [
      "The SNARE-ATACseq2 library was sequenced on the Illumina NovaSeq system using the NovaSeq 6000 S4 Reagent kit. A full description of the protocol and materials used in the SNARE-ATACseq2 library construction process can be found on protocols.io under the following protocol - SNARE-seq2 V.1.\n"
     ]
    },
    {
     "name": "stderr",
     "output_type": "stream",
     "text": [
      " 86%|████████▌ | 385/448 [05:41<00:48,  1.31it/s]"
     ]
    },
    {
     "name": "stdout",
     "output_type": "stream",
     "text": [
      "The SNARE-RNAseq2 library was sequenced on the Illumina NovaSeq system using the NovaSeq 6000 S4 Reagent kit. A full description of the protocol and materials used in the SNARE-RNAseq2 library construction process can be found on protocols.io under the following protocol - SNARE-seq2 V.1.\n"
     ]
    },
    {
     "name": "stderr",
     "output_type": "stream",
     "text": [
      " 86%|████████▌ | 386/448 [05:42<00:46,  1.33it/s]"
     ]
    },
    {
     "name": "stdout",
     "output_type": "stream",
     "text": [
      "The SNARE-ATACseq2 library was sequenced on the Illumina NovaSeq system using the NovaSeq 6000 S4 Reagent kit. A full description of the protocol and materials used in the SNARE-ATACseq2 library construction process can be found on protocols.io under the following protocol - SNARE-seq2 V.1.\n"
     ]
    },
    {
     "name": "stderr",
     "output_type": "stream",
     "text": [
      " 86%|████████▋ | 387/448 [05:43<00:43,  1.41it/s]"
     ]
    },
    {
     "name": "stdout",
     "output_type": "stream",
     "text": [
      "The SNARE-RNAseq2 library was sequenced on the Illumina NovaSeq system using the NovaSeq 6000 S4 Reagent kit. A full description of the protocol and materials used in the SNARE-RNAseq2 library construction process can be found on protocols.io under the following protocol - SNARE-seq2 V.1.\n"
     ]
    },
    {
     "name": "stderr",
     "output_type": "stream",
     "text": [
      " 87%|████████▋ | 388/448 [05:43<00:40,  1.47it/s]"
     ]
    },
    {
     "name": "stdout",
     "output_type": "stream",
     "text": [
      "The SNARE-ATACseq2 library was sequenced on the Illumina NovaSeq system using the NovaSeq 6000 S4 Reagent kit. A full description of the protocol and materials used in the SNARE-ATACseq2 library construction process can be found on protocols.io under the following protocol - SNARE-seq2 V.1.\n"
     ]
    },
    {
     "name": "stderr",
     "output_type": "stream",
     "text": [
      " 87%|████████▋ | 389/448 [05:44<00:38,  1.52it/s]"
     ]
    },
    {
     "name": "stdout",
     "output_type": "stream",
     "text": [
      "The SNARE-RNAseq2 library was sequenced on the Illumina NovaSeq system using the NovaSeq 6000 S4 Reagent kit. A full description of the protocol and materials used in the SNARE-RNAseq2 library construction process can be found on protocols.io under the following protocol - SNARE-seq2 V.1.\n"
     ]
    },
    {
     "name": "stderr",
     "output_type": "stream",
     "text": [
      " 87%|████████▋ | 390/448 [05:45<00:36,  1.57it/s]"
     ]
    },
    {
     "name": "stdout",
     "output_type": "stream",
     "text": [
      "The SNARE-ATACseq2 library was sequenced on the Illumina NovaSeq system using the NovaSeq 6000 S4 Reagent kit. A full description of the protocol and materials used in the SNARE-ATACseq2 library construction process can be found on protocols.io under the following protocol - SNARE-seq2 V.1.\n"
     ]
    },
    {
     "name": "stderr",
     "output_type": "stream",
     "text": [
      " 87%|████████▋ | 391/448 [05:45<00:36,  1.57it/s]"
     ]
    },
    {
     "name": "stdout",
     "output_type": "stream",
     "text": [
      "The SNARE-RNAseq2 library was sequenced on the Illumina NovaSeq system using the NovaSeq 6000 S4 Reagent kit. A full description of the protocol and materials used in the SNARE-RNAseq2 library construction process can be found on protocols.io under the following protocol - SNARE-seq2 V.1.\n"
     ]
    },
    {
     "name": "stderr",
     "output_type": "stream",
     "text": [
      " 88%|████████▊ | 392/448 [05:46<00:37,  1.48it/s]"
     ]
    },
    {
     "name": "stdout",
     "output_type": "stream",
     "text": [
      "The SNARE-RNAseq2 library was sequenced on the Illumina NovaSeq system using the NovaSeq 6000 S4 Reagent kit. A full description of the protocol and materials used in the SNARE-RNAseq2 library construction process can be found on protocols.io under the following protocol - SNARE-seq2 V.1.\n"
     ]
    },
    {
     "name": "stderr",
     "output_type": "stream",
     "text": [
      " 88%|████████▊ | 393/448 [05:47<00:38,  1.44it/s]"
     ]
    },
    {
     "name": "stdout",
     "output_type": "stream",
     "text": [
      "The SNARE-ATACseq2 library was sequenced on the Illumina NovaSeq system using the NovaSeq 6000 S4 Reagent kit. A full description of the protocol and materials used in the SNARE-ATACseq2 library construction process can be found on protocols.io under the following protocol - SNARE-seq2 V.1.\n"
     ]
    },
    {
     "name": "stderr",
     "output_type": "stream",
     "text": [
      " 88%|████████▊ | 394/448 [05:47<00:37,  1.45it/s]"
     ]
    },
    {
     "name": "stdout",
     "output_type": "stream",
     "text": [
      "The SNARE-ATACseq2 library was sequenced on the Illumina NovaSeq system using the NovaSeq 6000 S4 Reagent kit. A full description of the protocol and materials used in the SNARE-ATACseq2 library construction process can be found on protocols.io under the following protocol - SNARE-seq2 V.1.\n"
     ]
    },
    {
     "name": "stderr",
     "output_type": "stream",
     "text": [
      " 88%|████████▊ | 395/448 [05:48<00:35,  1.48it/s]"
     ]
    },
    {
     "name": "stdout",
     "output_type": "stream",
     "text": [
      "The SNARE-ATACseq2 library was sequenced on the Illumina NovaSeq system using the NovaSeq 6000 S4 Reagent kit. A full description of the protocol and materials used in the SNARE-ATACseq2 library construction process can be found on protocols.io under the following protocol - SNARE-seq2 V.1.\n"
     ]
    },
    {
     "name": "stderr",
     "output_type": "stream",
     "text": [
      " 88%|████████▊ | 396/448 [05:49<00:36,  1.42it/s]"
     ]
    },
    {
     "name": "stdout",
     "output_type": "stream",
     "text": [
      "The SNARE-ATACseq2 library was sequenced on the Illumina NovaSeq system using the NovaSeq 6000 S4 Reagent kit. A full description of the protocol and materials used in the SNARE-ATACseq2 library construction process can be found on protocols.io under the following protocol - SNARE-seq2 V.1.\n"
     ]
    },
    {
     "name": "stderr",
     "output_type": "stream",
     "text": [
      " 89%|████████▊ | 397/448 [05:50<00:36,  1.41it/s]"
     ]
    },
    {
     "name": "stdout",
     "output_type": "stream",
     "text": [
      "The SNARE-ATACseq2 library was sequenced on the Illumina NovaSeq system using the NovaSeq 6000 S4 Reagent kit. A full description of the protocol and materials used in the SNARE-ATACseq2 library construction process can be found on protocols.io under the following protocol - SNARE-seq2 V.1.\n"
     ]
    },
    {
     "name": "stderr",
     "output_type": "stream",
     "text": [
      " 89%|████████▉ | 398/448 [05:50<00:36,  1.36it/s]"
     ]
    },
    {
     "name": "stdout",
     "output_type": "stream",
     "text": [
      "The SNARE-ATACseq2 library was sequenced on the Illumina NovaSeq system using the NovaSeq 6000 S4 Reagent kit. A full description of the protocol and materials used in the SNARE-ATACseq2 library construction process can be found on protocols.io under the following protocol - SNARE-seq2 V.1.\n"
     ]
    },
    {
     "name": "stderr",
     "output_type": "stream",
     "text": [
      " 89%|████████▉ | 399/448 [05:51<00:35,  1.38it/s]"
     ]
    },
    {
     "name": "stdout",
     "output_type": "stream",
     "text": [
      "The SNARE-ATACseq2 library was sequenced on the Illumina NovaSeq system using the NovaSeq 6000 S4 Reagent kit. A full description of the protocol and materials used in the SNARE-ATACseq2 library construction process can be found on protocols.io under the following protocol - SNARE-seq2 V.1.\n"
     ]
    },
    {
     "name": "stderr",
     "output_type": "stream",
     "text": [
      " 89%|████████▉ | 400/448 [05:52<00:34,  1.40it/s]"
     ]
    },
    {
     "name": "stdout",
     "output_type": "stream",
     "text": [
      "The SNARE-ATACseq2 library was sequenced on the Illumina NovaSeq system using the NovaSeq 6000 S4 Reagent kit. A full description of the protocol and materials used in the SNARE-ATACseq2 library construction process can be found on protocols.io under the following protocol - SNARE-seq2 V.1.\n"
     ]
    },
    {
     "name": "stderr",
     "output_type": "stream",
     "text": [
      " 90%|████████▉ | 401/448 [05:52<00:32,  1.43it/s]"
     ]
    },
    {
     "name": "stdout",
     "output_type": "stream",
     "text": [
      "The SNARE-RNAseq2 library was sequenced on the Illumina NovaSeq system using the NovaSeq 6000 S4 Reagent kit. A full description of the protocol and materials used in the SNARE-RNAseq2 library construction process can be found on protocols.io under the following protocol - SNARE-seq2 V.1.\n"
     ]
    },
    {
     "name": "stderr",
     "output_type": "stream",
     "text": [
      " 90%|████████▉ | 402/448 [05:53<00:31,  1.47it/s]"
     ]
    },
    {
     "name": "stdout",
     "output_type": "stream",
     "text": [
      "The SNARE-ATACseq2 library was sequenced on the Illumina NovaSeq system using the NovaSeq 6000 S4 Reagent kit. A full description of the protocol and materials used in the SNARE-ATACseq2 library construction process can be found on protocols.io under the following protocol - SNARE-seq2 V.1.\n"
     ]
    },
    {
     "name": "stderr",
     "output_type": "stream",
     "text": [
      " 90%|████████▉ | 403/448 [05:54<00:29,  1.50it/s]"
     ]
    },
    {
     "name": "stdout",
     "output_type": "stream",
     "text": [
      "The SNARE-ATACseq2 library was sequenced on the Illumina NovaSeq system using the NovaSeq 6000 S4 Reagent kit. A full description of the protocol and materials used in the SNARE-ATACseq2 library construction process can be found on protocols.io under the following protocol - SNARE-seq2 V.1.\n"
     ]
    },
    {
     "name": "stderr",
     "output_type": "stream",
     "text": [
      " 90%|█████████ | 404/448 [05:54<00:29,  1.49it/s]"
     ]
    },
    {
     "name": "stdout",
     "output_type": "stream",
     "text": [
      "The SNARE-ATACseq2 library was sequenced on the Illumina NovaSeq system using the NovaSeq 6000 S4 Reagent kit. A full description of the protocol and materials used in the SNARE-ATACseq2 library construction process can be found on protocols.io under the following protocol - SNARE-seq2 V.1.\n"
     ]
    },
    {
     "name": "stderr",
     "output_type": "stream",
     "text": [
      " 90%|█████████ | 405/448 [05:55<00:27,  1.54it/s]"
     ]
    },
    {
     "name": "stdout",
     "output_type": "stream",
     "text": [
      "The SNARE-ATACseq2 library was sequenced on the Illumina NovaSeq system using the NovaSeq 6000 S4 Reagent kit. A full description of the protocol and materials used in the SNARE-ATACseq2 library construction process can be found on protocols.io under the following protocol - SNARE-seq2 V.1.\n"
     ]
    },
    {
     "name": "stderr",
     "output_type": "stream",
     "text": [
      " 91%|█████████ | 406/448 [05:56<00:26,  1.57it/s]"
     ]
    },
    {
     "name": "stdout",
     "output_type": "stream",
     "text": [
      "The SNARE-ATACseq2 library was sequenced on the Illumina NovaSeq system using the NovaSeq 6000 S4 Reagent kit. A full description of the protocol and materials used in the SNARE-ATACseq2 library construction process can be found on protocols.io under the following protocol - SNARE-seq2 V.1.\n"
     ]
    },
    {
     "name": "stderr",
     "output_type": "stream",
     "text": [
      " 91%|█████████ | 407/448 [05:56<00:25,  1.58it/s]"
     ]
    },
    {
     "name": "stdout",
     "output_type": "stream",
     "text": [
      "The SNARE-ATACseq2 library was sequenced on the Illumina NovaSeq system using the NovaSeq 6000 S4 Reagent kit. A full description of the protocol and materials used in the SNARE-ATACseq2 library construction process can be found on protocols.io under the following protocol - SNARE-seq2 V.1.\n"
     ]
    },
    {
     "name": "stderr",
     "output_type": "stream",
     "text": [
      " 91%|█████████ | 408/448 [05:57<00:27,  1.46it/s]"
     ]
    },
    {
     "name": "stdout",
     "output_type": "stream",
     "text": [
      "The SNARE-ATACseq2 library was sequenced on the Illumina NovaSeq system using the NovaSeq 6000 S4 Reagent kit. A full description of the protocol and materials used in the SNARE-ATACseq2 library construction process can be found on protocols.io under the following protocol - SNARE-seq2 V.1.\n"
     ]
    },
    {
     "name": "stderr",
     "output_type": "stream",
     "text": [
      " 91%|█████████▏| 409/448 [05:58<00:26,  1.46it/s]"
     ]
    },
    {
     "name": "stdout",
     "output_type": "stream",
     "text": [
      "The SNARE-ATACseq2 library was sequenced on the Illumina NovaSeq system using the NovaSeq 6000 S4 Reagent kit. A full description of the protocol and materials used in the SNARE-ATACseq2 library construction process can be found on protocols.io under the following protocol - SNARE-seq2 V.1.\n"
     ]
    },
    {
     "name": "stderr",
     "output_type": "stream",
     "text": [
      " 92%|█████████▏| 410/448 [05:58<00:25,  1.48it/s]"
     ]
    },
    {
     "name": "stdout",
     "output_type": "stream",
     "text": [
      "The SNARE-ATACseq2 library was sequenced on the Illumina NovaSeq system using the NovaSeq 6000 S4 Reagent kit. A full description of the protocol and materials used in the SNARE-ATACseq2 library construction process can be found on protocols.io under the following protocol - SNARE-seq2 V.1.\n"
     ]
    },
    {
     "name": "stderr",
     "output_type": "stream",
     "text": [
      " 92%|█████████▏| 411/448 [05:59<00:24,  1.50it/s]"
     ]
    },
    {
     "name": "stdout",
     "output_type": "stream",
     "text": [
      "The SNARE-RNAseq2 library was sequenced on the Illumina NovaSeq system using the NovaSeq 6000 S4 Reagent kit. A full description of the protocol and materials used in the SNARE-RNAseq2 library construction process can be found on protocols.io under the following protocol - SNARE-seq2 V.1.\n"
     ]
    },
    {
     "name": "stderr",
     "output_type": "stream",
     "text": [
      " 92%|█████████▏| 412/448 [06:00<00:23,  1.56it/s]"
     ]
    },
    {
     "name": "stdout",
     "output_type": "stream",
     "text": [
      "The SNARE-RNAseq2 library was sequenced on the Illumina NovaSeq system using the NovaSeq 6000 S4 Reagent kit. A full description of the protocol and materials used in the SNARE-RNAseq2 library construction process can be found on protocols.io under the following protocol - SNARE-seq2 V.1.\n"
     ]
    },
    {
     "name": "stderr",
     "output_type": "stream",
     "text": [
      " 92%|█████████▏| 413/448 [06:00<00:22,  1.52it/s]"
     ]
    },
    {
     "name": "stdout",
     "output_type": "stream",
     "text": [
      "The SNARE-ATACseq2 library was sequenced on the Illumina NovaSeq system using the NovaSeq 6000 S4 Reagent kit. A full description of the protocol and materials used in the SNARE-ATACseq2 library construction process can be found on protocols.io under the following protocol - SNARE-seq2 V.1.\n"
     ]
    },
    {
     "name": "stderr",
     "output_type": "stream",
     "text": [
      " 92%|█████████▏| 414/448 [06:01<00:22,  1.54it/s]"
     ]
    },
    {
     "name": "stdout",
     "output_type": "stream",
     "text": [
      "The SNARE-ATACseq2 library was sequenced on the Illumina NovaSeq system using the NovaSeq 6000 S4 Reagent kit. A full description of the protocol and materials used in the SNARE-ATACseq2 library construction process can be found on protocols.io under the following protocol - SNARE-seq2 V.1.\n"
     ]
    },
    {
     "name": "stderr",
     "output_type": "stream",
     "text": [
      " 93%|█████████▎| 415/448 [06:01<00:20,  1.57it/s]"
     ]
    },
    {
     "name": "stdout",
     "output_type": "stream",
     "text": [
      "The SNARE-RNAseq2 library was sequenced on the Illumina NovaSeq system using the NovaSeq 6000 S4 Reagent kit. A full description of the protocol and materials used in the SNARE-RNAseq2 library construction process can be found on protocols.io under the following protocol - SNARE-seq2 V.1.\n"
     ]
    },
    {
     "name": "stderr",
     "output_type": "stream",
     "text": [
      " 93%|█████████▎| 416/448 [06:02<00:22,  1.39it/s]"
     ]
    },
    {
     "name": "stdout",
     "output_type": "stream",
     "text": [
      "The SNARE-ATACseq2 library was sequenced on the Illumina NovaSeq system using the NovaSeq 6000 S4 Reagent kit. A full description of the protocol and materials used in the SNARE-ATACseq2 library construction process can be found on protocols.io under the following protocol - SNARE-seq2 V.1.\n"
     ]
    },
    {
     "name": "stderr",
     "output_type": "stream",
     "text": [
      " 93%|█████████▎| 417/448 [06:03<00:22,  1.39it/s]"
     ]
    },
    {
     "name": "stdout",
     "output_type": "stream",
     "text": [
      "The SNARE-RNAseq2 library was sequenced on the Illumina NovaSeq system using the NovaSeq 6000 S4 Reagent kit. A full description of the protocol and materials used in the SNARE-RNAseq2 library construction process can be found on protocols.io under the following protocol - SNARE-seq2 V.1.\n"
     ]
    },
    {
     "name": "stderr",
     "output_type": "stream",
     "text": [
      " 93%|█████████▎| 418/448 [06:04<00:22,  1.34it/s]"
     ]
    },
    {
     "name": "stdout",
     "output_type": "stream",
     "text": [
      "The SNARE-RNAseq2 library was sequenced on the Illumina NovaSeq system using the NovaSeq 6000 S4 Reagent kit. A full description of the protocol and materials used in the SNARE-RNAseq2 library construction process can be found on protocols.io under the following protocol - SNARE-seq2 V.1.\n"
     ]
    },
    {
     "name": "stderr",
     "output_type": "stream",
     "text": [
      " 94%|█████████▎| 419/448 [06:05<00:21,  1.32it/s]"
     ]
    },
    {
     "name": "stdout",
     "output_type": "stream",
     "text": [
      "The SNARE-RNAseq2 library was sequenced on the Illumina NovaSeq system using the NovaSeq 6000 S4 Reagent kit. A full description of the protocol and materials used in the SNARE-RNAseq2 library construction process can be found on protocols.io under the following protocol - SNARE-seq2 V.1.\n"
     ]
    },
    {
     "name": "stderr",
     "output_type": "stream",
     "text": [
      " 94%|█████████▍| 420/448 [06:05<00:21,  1.33it/s]"
     ]
    },
    {
     "name": "stdout",
     "output_type": "stream",
     "text": [
      "The SNARE-ATACseq2 library was sequenced on the Illumina NovaSeq system using the NovaSeq 6000 S4 Reagent kit. A full description of the protocol and materials used in the SNARE-ATACseq2 library construction process can be found on protocols.io under the following protocol - SNARE-seq2 V.1.\n"
     ]
    },
    {
     "name": "stderr",
     "output_type": "stream",
     "text": [
      " 94%|█████████▍| 421/448 [06:06<00:19,  1.36it/s]"
     ]
    },
    {
     "name": "stdout",
     "output_type": "stream",
     "text": [
      "The SNARE-RNAseq2 library was sequenced on the Illumina NovaSeq system using the NovaSeq 6000 S4 Reagent kit. A full description of the protocol and materials used in the SNARE-RNAseq2 library construction process can be found on protocols.io under the following protocol - SNARE-seq2 V.1.\n"
     ]
    },
    {
     "name": "stderr",
     "output_type": "stream",
     "text": [
      " 94%|█████████▍| 422/448 [06:07<00:18,  1.42it/s]"
     ]
    },
    {
     "name": "stdout",
     "output_type": "stream",
     "text": [
      "The SNARE-ATACseq2 library was sequenced on the Illumina NovaSeq system using the NovaSeq 6000 S4 Reagent kit. A full description of the protocol and materials used in the SNARE-ATACseq2 library construction process can be found on protocols.io under the following protocol - SNARE-seq2 V.1.\n"
     ]
    },
    {
     "name": "stderr",
     "output_type": "stream",
     "text": [
      " 94%|█████████▍| 423/448 [06:07<00:17,  1.46it/s]"
     ]
    },
    {
     "name": "stdout",
     "output_type": "stream",
     "text": [
      "The SNARE-ATACseq2 library was sequenced on the Illumina NovaSeq system using the NovaSeq 6000 S4 Reagent kit. A full description of the protocol and materials used in the SNARE-ATACseq2 library construction process can be found on protocols.io under the following protocol - SNARE-seq2 V.1.\n"
     ]
    },
    {
     "name": "stderr",
     "output_type": "stream",
     "text": [
      " 95%|█████████▍| 424/448 [06:08<00:16,  1.49it/s]"
     ]
    },
    {
     "name": "stdout",
     "output_type": "stream",
     "text": [
      "The SNARE-ATACseq2 library was sequenced on the Illumina NovaSeq system using the NovaSeq 6000 S4 Reagent kit. A full description of the protocol and materials used in the SNARE-ATACseq2 library construction process can be found on protocols.io under the following protocol - SNARE-seq2 V.1.\n"
     ]
    },
    {
     "name": "stderr",
     "output_type": "stream",
     "text": [
      " 95%|█████████▍| 425/448 [06:09<00:15,  1.53it/s]"
     ]
    },
    {
     "name": "stdout",
     "output_type": "stream",
     "text": [
      "The SNARE-RNAseq2 library was sequenced on the Illumina NovaSeq system using the NovaSeq 6000 S4 Reagent kit. A full description of the protocol and materials used in the SNARE-RNAseq2 library construction process can be found on protocols.io under the following protocol - SNARE-seq2 V.1.\n"
     ]
    },
    {
     "name": "stderr",
     "output_type": "stream",
     "text": [
      " 95%|█████████▌| 426/448 [06:09<00:13,  1.57it/s]"
     ]
    },
    {
     "name": "stdout",
     "output_type": "stream",
     "text": [
      "The SNARE-ATACseq2 library was sequenced on the Illumina NovaSeq system using the NovaSeq 6000 S4 Reagent kit. A full description of the protocol and materials used in the SNARE-ATACseq2 library construction process can be found on protocols.io under the following protocol - SNARE-seq2 V.1.\n"
     ]
    },
    {
     "name": "stderr",
     "output_type": "stream",
     "text": [
      " 95%|█████████▌| 427/448 [06:10<00:13,  1.60it/s]"
     ]
    },
    {
     "name": "stdout",
     "output_type": "stream",
     "text": [
      "The SNARE-ATACseq2 library was sequenced on the Illumina NovaSeq system using the NovaSeq 6000 S4 Reagent kit. A full description of the protocol and materials used in the SNARE-ATACseq2 library construction process can be found on protocols.io under the following protocol - SNARE-seq2 V.1.\n"
     ]
    },
    {
     "name": "stderr",
     "output_type": "stream",
     "text": [
      " 96%|█████████▌| 428/448 [06:10<00:12,  1.61it/s]"
     ]
    },
    {
     "name": "stdout",
     "output_type": "stream",
     "text": [
      "The SNARE-ATACseq2 library was sequenced on the Illumina NovaSeq system using the NovaSeq 6000 S4 Reagent kit. A full description of the protocol and materials used in the SNARE-ATACseq2 library construction process can be found on protocols.io under the following protocol - SNARE-seq2 V.1.\n"
     ]
    },
    {
     "name": "stderr",
     "output_type": "stream",
     "text": [
      " 96%|█████████▌| 429/448 [06:11<00:12,  1.58it/s]"
     ]
    },
    {
     "name": "stdout",
     "output_type": "stream",
     "text": [
      "The SNARE-ATACseq2 library was sequenced on the Illumina NovaSeq system using the NovaSeq 6000 S4 Reagent kit. A full description of the protocol and materials used in the SNARE-ATACseq2 library construction process can be found on protocols.io under the following protocol - SNARE-seq2 V.1.\n"
     ]
    },
    {
     "name": "stderr",
     "output_type": "stream",
     "text": [
      " 96%|█████████▌| 430/448 [06:12<00:11,  1.57it/s]"
     ]
    },
    {
     "name": "stdout",
     "output_type": "stream",
     "text": [
      "The SNARE-ATACseq2 library was sequenced on the Illumina NovaSeq system using the NovaSeq 6000 S4 Reagent kit. A full description of the protocol and materials used in the SNARE-ATACseq2 library construction process can be found on protocols.io under the following protocol - SNARE-seq2 V.1.\n"
     ]
    },
    {
     "name": "stderr",
     "output_type": "stream",
     "text": [
      " 96%|█████████▌| 431/448 [06:12<00:11,  1.52it/s]"
     ]
    },
    {
     "name": "stdout",
     "output_type": "stream",
     "text": [
      "The SNARE-ATACseq2 library was sequenced on the Illumina NovaSeq system using the NovaSeq 6000 S4 Reagent kit. A full description of the protocol and materials used in the SNARE-ATACseq2 library construction process can be found on protocols.io under the following protocol - SNARE-seq2 V.1.\n"
     ]
    },
    {
     "name": "stderr",
     "output_type": "stream",
     "text": [
      " 96%|█████████▋| 432/448 [06:13<00:10,  1.49it/s]"
     ]
    },
    {
     "name": "stdout",
     "output_type": "stream",
     "text": [
      "The SNARE-RNAseq2 library was sequenced on the Illumina NovaSeq system using the NovaSeq 6000 S4 Reagent kit. A full description of the protocol and materials used in the SNARE-RNAseq2 library construction process can be found on protocols.io under the following protocol - SNARE-seq2 V.1.\n"
     ]
    },
    {
     "name": "stderr",
     "output_type": "stream",
     "text": [
      " 97%|█████████▋| 433/448 [06:14<00:09,  1.51it/s]"
     ]
    },
    {
     "name": "stdout",
     "output_type": "stream",
     "text": [
      "The SNARE-ATACseq2 library was sequenced on the Illumina NovaSeq system using the NovaSeq 6000 S4 Reagent kit. A full description of the protocol and materials used in the SNARE-ATACseq2 library construction process can be found on protocols.io under the following protocol - SNARE-seq2 V.1.\n"
     ]
    },
    {
     "name": "stderr",
     "output_type": "stream",
     "text": [
      " 97%|█████████▋| 434/448 [06:14<00:09,  1.51it/s]"
     ]
    },
    {
     "name": "stdout",
     "output_type": "stream",
     "text": [
      "The SNARE-ATACseq2 library was sequenced on the Illumina NovaSeq system using the NovaSeq 6000 S4 Reagent kit. A full description of the protocol and materials used in the SNARE-ATACseq2 library construction process can be found on protocols.io under the following protocol - SNARE-seq2 V.1.\n"
     ]
    },
    {
     "name": "stderr",
     "output_type": "stream",
     "text": [
      " 97%|█████████▋| 435/448 [06:15<00:08,  1.51it/s]"
     ]
    },
    {
     "name": "stdout",
     "output_type": "stream",
     "text": [
      "The SNARE-ATACseq2 library was sequenced on the Illumina NovaSeq system using the NovaSeq 6000 S4 Reagent kit. A full description of the protocol and materials used in the SNARE-ATACseq2 library construction process can be found on protocols.io under the following protocol - SNARE-seq2 V.1.\n"
     ]
    },
    {
     "name": "stderr",
     "output_type": "stream",
     "text": [
      " 97%|█████████▋| 436/448 [06:16<00:07,  1.52it/s]"
     ]
    },
    {
     "name": "stdout",
     "output_type": "stream",
     "text": [
      "The SNARE-ATACseq2 library was sequenced on the Illumina NovaSeq system using the NovaSeq 6000 S4 Reagent kit. A full description of the protocol and materials used in the SNARE-ATACseq2 library construction process can be found on protocols.io under the following protocol - SNARE-seq2 V.1.\n"
     ]
    },
    {
     "name": "stderr",
     "output_type": "stream",
     "text": [
      " 98%|█████████▊| 437/448 [06:16<00:07,  1.54it/s]"
     ]
    },
    {
     "name": "stdout",
     "output_type": "stream",
     "text": [
      "The SNARE-ATACseq2 library was sequenced on the Illumina NovaSeq system using the NovaSeq 6000 S4 Reagent kit. A full description of the protocol and materials used in the SNARE-ATACseq2 library construction process can be found on protocols.io under the following protocol - SNARE-seq2 V.1.\n"
     ]
    },
    {
     "name": "stderr",
     "output_type": "stream",
     "text": [
      " 98%|█████████▊| 438/448 [06:17<00:06,  1.49it/s]"
     ]
    },
    {
     "name": "stdout",
     "output_type": "stream",
     "text": [
      "The SNARE-ATACseq2 library was sequenced on the Illumina NovaSeq system using the NovaSeq 6000 S4 Reagent kit. A full description of the protocol and materials used in the SNARE-ATACseq2 library construction process can be found on protocols.io under the following protocol - SNARE-seq2 V.1.\n"
     ]
    },
    {
     "name": "stderr",
     "output_type": "stream",
     "text": [
      " 98%|█████████▊| 439/448 [06:18<00:06,  1.46it/s]"
     ]
    },
    {
     "name": "stdout",
     "output_type": "stream",
     "text": [
      "The SNARE-ATACseq2 library was sequenced on the Illumina NovaSeq system using the NovaSeq 6000 S4 Reagent kit. A full description of the protocol and materials used in the SNARE-ATACseq2 library construction process can be found on protocols.io under the following protocol - SNARE-seq2 V.1.\n"
     ]
    },
    {
     "name": "stderr",
     "output_type": "stream",
     "text": [
      " 98%|█████████▊| 440/448 [06:19<00:05,  1.43it/s]"
     ]
    },
    {
     "name": "stdout",
     "output_type": "stream",
     "text": [
      "The SNARE-ATACseq2 library was sequenced on the Illumina NovaSeq system using the NovaSeq 6000 S4 Reagent kit. A full description of the protocol and materials used in the SNARE-ATACseq2 library construction process can be found on protocols.io under the following protocol - SNARE-seq2 V.1.\n"
     ]
    },
    {
     "name": "stderr",
     "output_type": "stream",
     "text": [
      " 98%|█████████▊| 441/448 [06:19<00:05,  1.38it/s]"
     ]
    },
    {
     "name": "stdout",
     "output_type": "stream",
     "text": [
      "The SNARE-ATACseq2 library was sequenced on the Illumina NovaSeq system using the NovaSeq 6000 S4 Reagent kit. A full description of the protocol and materials used in the SNARE-ATACseq2 library construction process can be found on protocols.io under the following protocol - SNARE-seq2 V.1.\n"
     ]
    },
    {
     "name": "stderr",
     "output_type": "stream",
     "text": [
      " 99%|█████████▊| 442/448 [06:20<00:04,  1.39it/s]"
     ]
    },
    {
     "name": "stdout",
     "output_type": "stream",
     "text": [
      "The SNARE-RNAseq2 library was sequenced on the Illumina NovaSeq system using the NovaSeq 6000 S4 Reagent kit. A full description of the protocol and materials used in the SNARE-RNAseq2 library construction process can be found on protocols.io under the following protocol - SNARE-seq2 V.1.\n"
     ]
    },
    {
     "name": "stderr",
     "output_type": "stream",
     "text": [
      " 99%|█████████▉| 443/448 [06:21<00:03,  1.43it/s]"
     ]
    },
    {
     "name": "stdout",
     "output_type": "stream",
     "text": [
      "The SNARE-ATACseq2 library was sequenced on the Illumina NovaSeq system using the NovaSeq 6000 S4 Reagent kit. A full description of the protocol and materials used in the SNARE-ATACseq2 library construction process can be found on protocols.io under the following protocol - SNARE-seq2 V.1.\n"
     ]
    },
    {
     "name": "stderr",
     "output_type": "stream",
     "text": [
      " 99%|█████████▉| 444/448 [06:21<00:02,  1.47it/s]"
     ]
    },
    {
     "name": "stdout",
     "output_type": "stream",
     "text": [
      "The SNARE-RNAseq2 library was sequenced on the Illumina NovaSeq system using the NovaSeq 6000 S4 Reagent kit. A full description of the protocol and materials used in the SNARE-RNAseq2 library construction process can be found on protocols.io under the following protocol - SNARE-seq2 V.1.\n"
     ]
    },
    {
     "name": "stderr",
     "output_type": "stream",
     "text": [
      " 99%|█████████▉| 445/448 [06:22<00:02,  1.50it/s]"
     ]
    },
    {
     "name": "stdout",
     "output_type": "stream",
     "text": [
      "The SNARE-ATACseq2 library was sequenced on the Illumina NovaSeq system using the NovaSeq 6000 S4 Reagent kit. A full description of the protocol and materials used in the SNARE-ATACseq2 library construction process can be found on protocols.io under the following protocol - SNARE-seq2 V.1.\n"
     ]
    },
    {
     "name": "stderr",
     "output_type": "stream",
     "text": [
      "100%|█████████▉| 446/448 [06:23<00:01,  1.49it/s]"
     ]
    },
    {
     "name": "stdout",
     "output_type": "stream",
     "text": [
      "The SNARE-RNAseq2 library was sequenced on the Illumina NovaSeq system using the NovaSeq 6000 S4 Reagent kit. A full description of the protocol and materials used in the SNARE-RNAseq2 library construction process can be found on protocols.io under the following protocol - SNARE-seq2 V.1.\n"
     ]
    },
    {
     "name": "stderr",
     "output_type": "stream",
     "text": [
      "100%|█████████▉| 447/448 [06:23<00:00,  1.51it/s]"
     ]
    },
    {
     "name": "stdout",
     "output_type": "stream",
     "text": [
      "The SNARE-RNAseq2 library was sequenced on the Illumina NovaSeq system using the NovaSeq 6000 S4 Reagent kit. A full description of the protocol and materials used in the SNARE-RNAseq2 library construction process can be found on protocols.io under the following protocol - SNARE-seq2 V.1.\n"
     ]
    },
    {
     "name": "stderr",
     "output_type": "stream",
     "text": [
      "100%|██████████| 448/448 [06:24<00:00,  1.17it/s]\n"
     ]
    },
    {
     "name": "stdout",
     "output_type": "stream",
     "text": [
      "Creating dataframe\n",
      "Writing dataframe to Excel spreadsheet\n"
     ]
    }
   ],
   "source": [
    "data = hubmapdbgap.create.submission(hubmap_ids, dbgap_study_id=dbgap_study_id, token=token, prepend_sample_id=False )"
   ]
  },
  {
   "cell_type": "code",
   "execution_count": null,
   "id": "ca758fdd-c849-47e7-97ac-16a9b52851c1",
   "metadata": {},
   "outputs": [],
   "source": []
  }
 ],
 "metadata": {
  "kernelspec": {
   "display_name": "Python 3 (ipykernel)",
   "language": "python",
   "name": "python3"
  },
  "language_info": {
   "codemirror_mode": {
    "name": "ipython",
    "version": 3
   },
   "file_extension": ".py",
   "mimetype": "text/x-python",
   "name": "python",
   "nbconvert_exporter": "python",
   "pygments_lexer": "ipython3",
   "version": "3.9.13"
  }
 },
 "nbformat": 4,
 "nbformat_minor": 5
}
