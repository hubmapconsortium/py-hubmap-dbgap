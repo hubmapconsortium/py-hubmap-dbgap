{
 "cells": [
  {
   "cell_type": "code",
   "execution_count": null,
   "id": "abc3d8e7-f120-4bee-9c2a-9bb5906d251e",
   "metadata": {},
   "outputs": [],
   "source": [
    "import hubmapdbgap\n",
    "import hubmapbags\n",
    "import hubmapinventory\n",
    "import pandas as pd\n",
    "import os\n",
    "import openpyxl\n",
    "\n",
    "dbgap_study_id = 'phs002249'\n",
    "token = ''"
   ]
  },
  {
   "cell_type": "code",
   "execution_count": null,
   "id": "bfc1e9f8-ac35-4137-a764-b14dad913506",
   "metadata": {},
   "outputs": [],
   "source": [
    "df = hubmapbags.reports.daily(token=token)\n",
    "df = df[(df['status']=='Published') & (df['dataset_type']=='Primary') & (df['is_protected']==True)]\n",
    "df[(df['group_name']=='Broad Institute RTI') | (df['group_name']=='University of California San Diego TMC')]"
   ]
  },
  {
   "cell_type": "code",
   "execution_count": null,
   "id": "6d6a7a87-1415-4599-8eac-e10615b40d30",
   "metadata": {},
   "outputs": [],
   "source": [
    "hubmap_ids = list(df['hubmap_id'])\n",
    "hubmap_ids"
   ]
  },
  {
   "cell_type": "code",
   "execution_count": null,
   "id": "d00c2424-ce18-4ddc-aac7-cad0c51eff37",
   "metadata": {},
   "outputs": [],
   "source": [
    "data = hubmapdbgap.create.submission(hubmap_ids, dbgap_study_id=dbgap_study_id, token=token )"
   ]
  }
 ],
 "metadata": {
  "kernelspec": {
   "display_name": "Python 3 (ipykernel)",
   "language": "python",
   "name": "python3"
  },
  "language_info": {
   "codemirror_mode": {
    "name": "ipython",
    "version": 3
   },
   "file_extension": ".py",
   "mimetype": "text/x-python",
   "name": "python",
   "nbconvert_exporter": "python",
   "pygments_lexer": "ipython3",
   "version": "3.9.13"
  }
 },
 "nbformat": 4,
 "nbformat_minor": 5
}
