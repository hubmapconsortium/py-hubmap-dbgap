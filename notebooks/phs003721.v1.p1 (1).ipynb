{
 "cells": [
  {
   "cell_type": "code",
   "execution_count": null,
   "id": "9022a16e-a60e-45ac-a8a4-8623dc374cfe",
   "metadata": {},
   "outputs": [],
   "source": [
    "# phs003721.v1.p1 -  UConnScripps\n",
    "## HubMAP"
   ]
  },
  {
   "cell_type": "code",
   "execution_count": null,
   "id": "abc3d8e7-f120-4bee-9c2a-9bb5906d251e",
   "metadata": {},
   "outputs": [],
   "source": [
    "import hubmapdbgap\n",
    "import hubmapbags\n",
    "\n",
    "#this study ID is given by NIH\n",
    "dbgap_study_id = 'phs003721'\n",
    "\n",
    "token = ''\n"
   ]
  },
  {
   "cell_type": "code",
   "execution_count": null,
   "id": "4108f748-29df-4d20-9ca8-69354c7ae8b8",
   "metadata": {},
   "outputs": [],
   "source": [
    "# clean local cache\n",
    "#hubmapbags.utilities.clean()\n",
    "\n",
    "# generate daily report\n",
    "df = hubmapbags.reports.daily(token=token)\n",
    "\n",
    "# list all data providers in dataframe\n",
    "#df['group_name'].unique()"
   ]
  },
  {
   "cell_type": "code",
   "execution_count": null,
   "id": "32f8f7eb-9af7-464a-b899-9db9396058d6",
   "metadata": {},
   "outputs": [],
   "source": [
    "#df"
   ]
  },
  {
   "cell_type": "code",
   "execution_count": null,
   "id": "a6641029-3baf-4d19-861c-8628d581df83",
   "metadata": {},
   "outputs": [],
   "source": [
    "#list(df.columns.values)"
   ]
  },
  {
   "cell_type": "code",
   "execution_count": null,
   "id": "5aaef2f8-405c-46bc-9d1e-ac35f898e200",
   "metadata": {},
   "outputs": [],
   "source": [
    "#print(type(df))"
   ]
  },
  {
   "cell_type": "code",
   "execution_count": null,
   "id": "b54811da-2f11-4b66-a1ba-534456a9fa7e",
   "metadata": {},
   "outputs": [],
   "source": [
    "df = df[(df['status']=='Published') & (df['dataset_type']=='Primary') & (df['is_protected']==True)]\n",
    "df = df[df['group_name']=='TMC - University of Connecticut and Scripps']\n",
    "\n",
    "#need to figure out why there are duplicate values\n",
    "#df = df.drop_duplicates(subset=['hubmap_id'])\n",
    "\n",
    "#Exclude datasets by hubmap_id\n",
    "#df = df.drop(df[df['hubmap_id'] == 'HBM853.LGKF.867'].index)\n",
    "df"
   ]
  },
  {
   "cell_type": "code",
   "execution_count": null,
   "id": "6d6a7a87-1415-4599-8eac-e10615b40d30",
   "metadata": {},
   "outputs": [],
   "source": [
    "hubmap_ids = list(df['hubmap_id'])\n",
    "print(f'List of total datasets to include in study is {len(hubmap_ids)}')\n"
   ]
  },
  {
   "cell_type": "code",
   "execution_count": null,
   "id": "d00c2424-ce18-4ddc-aac7-cad0c51eff37",
   "metadata": {},
   "outputs": [],
   "source": [
    "data = hubmapdbgap.create.submission(hubmap_ids, dbgap_study_id=dbgap_study_id, token=token, prepend_sample_id=True )"
   ]
  },
  {
   "cell_type": "code",
   "execution_count": null,
   "id": "9dce0ade-9e93-439b-a1c2-80b3e40dc0d9",
   "metadata": {},
   "outputs": [],
   "source": []
  }
 ],
 "metadata": {
  "kernelspec": {
   "display_name": "Python 3 (ipykernel)",
   "language": "python",
   "name": "python3"
  },
  "language_info": {
   "codemirror_mode": {
    "name": "ipython",
    "version": 3
   },
   "file_extension": ".py",
   "mimetype": "text/x-python",
   "name": "python",
   "nbconvert_exporter": "python",
   "pygments_lexer": "ipython3",
   "version": "3.9.13"
  }
 },
 "nbformat": 4,
 "nbformat_minor": 5
}
