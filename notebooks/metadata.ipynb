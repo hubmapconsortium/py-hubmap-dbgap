{
 "cells": [
  {
   "cell_type": "markdown",
   "id": "2731e87a-0860-4377-8aa8-a7281dca9028",
   "metadata": {},
   "source": [
    "# Get `ingest_metadata`"
   ]
  },
  {
   "cell_type": "code",
   "execution_count": null,
   "id": "abc3d8e7-f120-4bee-9c2a-9bb5906d251e",
   "metadata": {},
   "outputs": [],
   "source": [
    "import hubmapdbgap\n",
    "import hubmapbags\n",
    "import hubmapinventory\n",
    "import pandas as pd\n",
    "from tqdm import tqdm\n",
    "tqdm.pandas()\n",
    "\n",
    "token = 'this-is-my-token'"
   ]
  },
  {
   "cell_type": "code",
   "execution_count": null,
   "id": "ff88b62f-1b41-4c74-9452-67280162a1f9",
   "metadata": {},
   "outputs": [],
   "source": [
    "#hubmapbags.utilities.clean()\n",
    "df = hubmapbags.reports.daily(token=token)\n",
    "df = df[(df['status']=='Published') & (df['dataset_type']=='Primary')]\n",
    "\n",
    "def __has_metadata(hubmap_id):\n",
    "    metadata = hubmapbags.apis.get_dataset_info(hubmap_id, instance='prod', token=token, overwrite=False )\n",
    "    return \"metadata\" in metadata[\"ingest_metadata\"].keys()\n",
    "    \n",
    "df[\"has_metadata\"] = df['hubmap_id'].progress_apply(__has_metadata)\n",
    "\n",
    "def __is_empty(hubmap_id):\n",
    "    metadata = hubmapbags.apis.get_dataset_info(hubmap_id, instance='prod', token=token, overwrite=False )\n",
    "    if \"metadata\" in metadata[\"ingest_metadata\"].keys() and not metadata[\"ingest_metadata\"][\"metadata\"]:\n",
    "        return True\n",
    "    else:\n",
    "        return False\n",
    "    \n",
    "df[\"is_empty\"] = df['hubmap_id'].progress_apply(__is_empty)\n",
    "\n",
    "df[['uuid','hubmap_id','group_name','is_protected','data_type','has_metadata','is_empty']].to_csv('metadata-published-primary.tsv', sep='\\t', index=False)"
   ]
  },
  {
   "cell_type": "code",
   "execution_count": null,
   "id": "414c199e-0e67-46cc-a960-6335d2796383",
   "metadata": {},
   "outputs": [],
   "source": [
    "df[df['has_metadata']==False]"
   ]
  }
 ],
 "metadata": {
  "kernelspec": {
   "display_name": "Python 3 (ipykernel)",
   "language": "python",
   "name": "python3"
  },
  "language_info": {
   "codemirror_mode": {
    "name": "ipython",
    "version": 3
   },
   "file_extension": ".py",
   "mimetype": "text/x-python",
   "name": "python",
   "nbconvert_exporter": "python",
   "pygments_lexer": "ipython3",
   "version": "3.9.13"
  }
 },
 "nbformat": 4,
 "nbformat_minor": 5
}
