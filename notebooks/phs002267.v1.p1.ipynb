{
 "cells": [
  {
   "cell_type": "markdown",
   "id": "b92fe570-b5ed-42af-bb2f-bc0d0a835b5f",
   "metadata": {},
   "source": [
    "# phs002267.v1.p1 -  Cal Tech\n",
    "## HubMAP: A Spatially Resolved Molecular Atlas of Human Endothelium"
   ]
  },
  {
   "cell_type": "code",
   "execution_count": null,
   "id": "abc3d8e7-f120-4bee-9c2a-9bb5906d251e",
   "metadata": {},
   "outputs": [],
   "source": [
    "import hubmapdbgap\n",
    "import hubmapbags\n",
    "\n",
    "#this study ID is given by NIH\n",
    "dbgap_study_id = 'phs002267'\n",
    "\n",
    "token = ''"
   ]
  },
  {
   "cell_type": "code",
   "execution_count": null,
   "id": "4108f748-29df-4d20-9ca8-69354c7ae8b8",
   "metadata": {},
   "outputs": [],
   "source": [
    "# clean local cache\n",
    "#hubmapbags.utilities.clean()\n",
    "\n",
    "# generate daily report\n",
    "df = hubmapbags.reports.daily(token=token)\n",
    "\n",
    "# list all data providers in dataframe\n",
    "df['group_name'].unique()"
   ]
  },
  {
   "cell_type": "code",
   "execution_count": null,
   "id": "bfc1e9f8-ac35-4137-a764-b14dad913506",
   "metadata": {},
   "outputs": [],
   "source": [
    "df = df[(df['status']=='Published') & (df['dataset_type']=='Primary') & (df['is_protected']==True)]\n",
    "df = df[df['group_name']=='California Institute of Technology TMC']\n",
    "\n",
    "#need to figure out why there are duplicate values\n",
    "df = df.drop_duplicates(subset=['hubmap_id'])"
   ]
  },
  {
   "cell_type": "code",
   "execution_count": null,
   "id": "6d6a7a87-1415-4599-8eac-e10615b40d30",
   "metadata": {},
   "outputs": [],
   "source": [
    "hubmap_ids = list(df['hubmap_id'])\n",
    "print(f'List of total datasets to include in study is {len(hubmap_ids)}')\n",
    "df"
   ]
  },
  {
   "cell_type": "code",
   "execution_count": null,
   "id": "d00c2424-ce18-4ddc-aac7-cad0c51eff37",
   "metadata": {},
   "outputs": [],
   "source": [
    "data = hubmapdbgap.create.submission(hubmap_ids, dbgap_study_id=dbgap_study_id, token=token, prepend_sample_id=False )"
   ]
  }
 ],
 "metadata": {
  "kernelspec": {
   "display_name": "Python 3 (ipykernel)",
   "language": "python",
   "name": "python3"
  },
  "language_info": {
   "codemirror_mode": {
    "name": "ipython",
    "version": 3
   },
   "file_extension": ".py",
   "mimetype": "text/x-python",
   "name": "python",
   "nbconvert_exporter": "python",
   "pygments_lexer": "ipython3",
   "version": "3.9.13"
  }
 },
 "nbformat": 4,
 "nbformat_minor": 5
}
