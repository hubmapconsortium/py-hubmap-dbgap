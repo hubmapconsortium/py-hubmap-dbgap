{
 "cells": [
  {
   "cell_type": "markdown",
   "id": "b92fe570-b5ed-42af-bb2f-bc0d0a835b5f",
   "metadata": {},
   "source": [
    "# phs002268.v1.p1 - University of Florida\n",
    "## HuBMAP: A 3-D Tissue Map of the Human Lymphatic System\n",
    "### Study Description\n",
    "The major goal of the 3-D Tissue Map of the Human Lymphatic System is to use microscopic and biomolecular procedures to facilitate co-registration pipelines and common 3D reconstruction algorithms. Tissue collected from human spleen, thymus and lymph node will be spatially resolved at the single cell level both within and across individuals. The approach employed involves sequencing of transcriptomes of dissociated cells and mapping to histological sections using CO-Detection by indEXing (CODEX) and /or Imaging mass spectroscopy, two highly multiplexed methods employing antibody-tagged target epitopes. Additionally, light sheet fluorescent microscopy is used to provide a higher level context for structural localization on a larger volume. The molecular data provided by this project is obtained through single-cell RNA-seq.\n",
    "\n",
    "### Study Attribution\n",
    "#### Principal Investigators\n",
    "* Mark Atkinson. Department of Pathology, Immunology, and Laboratory Medicine, University of Florida Diabetes Institute, College of Medicine, Gainesville FL, USA.\n",
    "* Bernd Bodenmiller. Institute of Molecular Life Sciences, University of Zurich, Zurich, Switzerland.\n",
    "* Todd Brusko. Department of Pathology, Immunology, and Laboratory Medicine, University of Florida Diabetes Institute, College of Medicine, Gainesville FL, USA.\n",
    "* Harry Nick. Department of Neuroscience, University of Florida, College of Medicine, Gainesville FL, USA.\n",
    "* Clive Wasserfall. Department of Pathology, Immunology, and Laboratory Medicine, University of Florida Diabetes Institute, College of Medicine, Gainesville FL, USA.\n",
    "\n"
   ]
  },
  {
   "cell_type": "code",
   "execution_count": null,
   "id": "abc3d8e7-f120-4bee-9c2a-9bb5906d251e",
   "metadata": {},
   "outputs": [],
   "source": [
    "import hubmapdbgap\n",
    "import hubmapbags\n",
    "\n",
    "#this study ID is given by NIH\n",
    "dbgap_study_id = 'phs002268'\n",
    "\n",
    "token = ''"
   ]
  },
  {
   "cell_type": "code",
   "execution_count": null,
   "id": "4108f748-29df-4d20-9ca8-69354c7ae8b8",
   "metadata": {},
   "outputs": [],
   "source": [
    "# clean local cache\n",
    "hubmapbags.utilities.clean()\n",
    "\n",
    "# generate daily report\n",
    "df = hubmapbags.reports.daily(token=token)\n",
    "\n",
    "# list all data providers in dataframe\n",
    "df['group_name'].unique()"
   ]
  },
  {
   "cell_type": "code",
   "execution_count": null,
   "id": "bfc1e9f8-ac35-4137-a764-b14dad913506",
   "metadata": {},
   "outputs": [],
   "source": [
    "df = df[(df['status']=='Published') & (df['dataset_type']=='Primary') & (df['is_protected']==True)]\n",
    "df = df[df['group_name']=='University of Florida TMC']\n",
    "\n",
    "#need to figure out why there are duplicate values\n",
    "df = df.drop_duplicates(subset=['hubmap_id'])"
   ]
  },
  {
   "cell_type": "code",
   "execution_count": null,
   "id": "6d6a7a87-1415-4599-8eac-e10615b40d30",
   "metadata": {},
   "outputs": [],
   "source": [
    "hubmap_ids = list(df['hubmap_id'])\n",
    "print(f'List of total datasets to include in study is {len(hubmap_ids)}')\n",
    "df"
   ]
  },
  {
   "cell_type": "code",
   "execution_count": null,
   "id": "d00c2424-ce18-4ddc-aac7-cad0c51eff37",
   "metadata": {},
   "outputs": [],
   "source": [
    "data = hubmapdbgap.create.submission(hubmap_ids, dbgap_study_id=dbgap_study_id, token=token, prepend_sample_id=False )"
   ]
  }
 ],
 "metadata": {
  "kernelspec": {
   "display_name": "Python 3 (ipykernel)",
   "language": "python",
   "name": "python3"
  },
  "language_info": {
   "codemirror_mode": {
    "name": "ipython",
    "version": 3
   },
   "file_extension": ".py",
   "mimetype": "text/x-python",
   "name": "python",
   "nbconvert_exporter": "python",
   "pygments_lexer": "ipython3",
   "version": "3.9.13"
  }
 },
 "nbformat": 4,
 "nbformat_minor": 5
}
