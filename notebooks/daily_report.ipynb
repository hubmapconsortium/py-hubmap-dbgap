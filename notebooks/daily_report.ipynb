{
 "cells": [
  {
   "cell_type": "markdown",
   "id": "11a8e3ce-1d7e-474b-9c76-5e8065924348",
   "metadata": {},
   "source": [
    "# Daily Report\n",
    "This script can be turned into an AirFlow DAG."
   ]
  },
  {
   "cell_type": "code",
   "execution_count": null,
   "id": "5257cab0-4130-4211-a760-5e71bad8fc47",
   "metadata": {},
   "outputs": [],
   "source": [
    "import hubmapbags\n",
    "\n",
    "token = '<this-is-my-token>'\n",
    "\n",
    "hubmapbags.utilities.clean()\n",
    "df = hubmapbags.reports.daily(token=token)"
   ]
  }
 ],
 "metadata": {
  "kernelspec": {
   "display_name": "Python 3 (ipykernel)",
   "language": "python",
   "name": "python3"
  },
  "language_info": {
   "codemirror_mode": {
    "name": "ipython",
    "version": 3
   },
   "file_extension": ".py",
   "mimetype": "text/x-python",
   "name": "python",
   "nbconvert_exporter": "python",
   "pygments_lexer": "ipython3",
   "version": "3.9.13"
  }
 },
 "nbformat": 4,
 "nbformat_minor": 5
}
