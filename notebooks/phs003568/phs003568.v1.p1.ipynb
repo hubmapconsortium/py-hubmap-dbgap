{
 "cells": [
  {
   "cell_type": "code",
   "execution_count": 1,
   "id": "9681bc1c-017f-47c0-94e1-e67237fb26f1",
   "metadata": {
    "tags": []
   },
   "outputs": [],
   "source": [
    "# phs003568 - TTD - University of San Diego and City of Hope"
   ]
  },
  {
   "cell_type": "code",
   "execution_count": 2,
   "id": "abc3d8e7-f120-4bee-9c2a-9bb5906d251e",
   "metadata": {},
   "outputs": [],
   "source": [
    "import hubmapdbgap\n",
    "import hubmapbags\n",
    "\n",
    "dbgap_study_id = 'phs003568'\n",
    "token = ''\n"
   ]
  },
  {
   "cell_type": "code",
   "execution_count": 3,
   "id": "bfc1e9f8-ac35-4137-a764-b14dad913506",
   "metadata": {},
   "outputs": [
    {
     "name": "stdout",
     "output_type": "stream",
     "text": [
      "INFO: Pandarallel will run on 16 workers.\n",
      "INFO: Pandarallel will use Memory file system to transfer data between the main process and workers.\n",
      "\n",
      "+-----------------------------+\n",
      "| Getting list of assay types |\n",
      "+-----------------------------+\n",
      "Getting list of dataset IDs\n"
     ]
    },
    {
     "name": "stderr",
     "output_type": "stream",
     "text": [
      "100%|██████████| 59/59 [00:08<00:00,  7.19it/s]\n"
     ]
    },
    {
     "name": "stdout",
     "output_type": "stream",
     "text": [
      "\n",
      "+--------------------+\n",
      "| Getting group name |\n",
      "+--------------------+\n"
     ]
    },
    {
     "data": {
      "application/vnd.jupyter.widget-view+json": {
       "model_id": "34cc3d54628d4969919b854cd3e8ca26",
       "version_major": 2,
       "version_minor": 0
      },
      "text/plain": [
       "VBox(children=(HBox(children=(IntProgress(value=0, description='0.00%', max=290), Label(value='0 / 290'))), HB…"
      ]
     },
     "metadata": {},
     "output_type": "display_data"
    },
    {
     "name": "stdout",
     "output_type": "stream",
     "text": [
      "\n",
      "+-------------------+\n",
      "| Getting data type |\n",
      "+-------------------+\n"
     ]
    },
    {
     "data": {
      "application/vnd.jupyter.widget-view+json": {
       "model_id": "adc17ffe8de74382ac7623ad0eb7e723",
       "version_major": 2,
       "version_minor": 0
      },
      "text/plain": [
       "VBox(children=(HBox(children=(IntProgress(value=0, description='0.00%', max=290), Label(value='0 / 290'))), HB…"
      ]
     },
     "metadata": {},
     "output_type": "display_data"
    },
    {
     "name": "stdout",
     "output_type": "stream",
     "text": [
      "\n",
      "+------------------+\n",
      "| Get dataset type |\n",
      "+------------------+\n"
     ]
    },
    {
     "data": {
      "application/vnd.jupyter.widget-view+json": {
       "model_id": "d454fd565ab44f109879a0666b67c932",
       "version_major": 2,
       "version_minor": 0
      },
      "text/plain": [
       "VBox(children=(HBox(children=(IntProgress(value=0, description='0.00%', max=290), Label(value='0 / 290'))), HB…"
      ]
     },
     "metadata": {},
     "output_type": "display_data"
    },
    {
     "name": "stdout",
     "output_type": "stream",
     "text": [
      "\n",
      "+----------------------------+\n",
      "| Getting creation timestamp |\n",
      "+----------------------------+\n"
     ]
    },
    {
     "data": {
      "application/vnd.jupyter.widget-view+json": {
       "model_id": "d977e907928d480a94284feb19678797",
       "version_major": 2,
       "version_minor": 0
      },
      "text/plain": [
       "VBox(children=(HBox(children=(IntProgress(value=0, description='0.00%', max=290), Label(value='0 / 290'))), HB…"
      ]
     },
     "metadata": {},
     "output_type": "display_data"
    },
    {
     "name": "stdout",
     "output_type": "stream",
     "text": [
      "\n",
      "+-----------------------------+\n",
      "| Getting published timestamp |\n",
      "+-----------------------------+\n"
     ]
    },
    {
     "data": {
      "application/vnd.jupyter.widget-view+json": {
       "model_id": "e0178c2e20904b4e816f0c8dd60980db",
       "version_major": 2,
       "version_minor": 0
      },
      "text/plain": [
       "VBox(children=(HBox(children=(IntProgress(value=0, description='0.00%', max=290), Label(value='0 / 290'))), HB…"
      ]
     },
     "metadata": {},
     "output_type": "display_data"
    },
    {
     "name": "stdout",
     "output_type": "stream",
     "text": [
      "\n",
      "+--------------------------+\n",
      "| Getting protected status |\n",
      "+--------------------------+\n"
     ]
    },
    {
     "data": {
      "application/vnd.jupyter.widget-view+json": {
       "model_id": "50af31b28c7f4985bdb8a177e9e14b52",
       "version_major": 2,
       "version_minor": 0
      },
      "text/plain": [
       "VBox(children=(HBox(children=(IntProgress(value=0, description='0.00%', max=290), Label(value='0 / 290'))), HB…"
      ]
     },
     "metadata": {},
     "output_type": "display_data"
    },
    {
     "name": "stdout",
     "output_type": "stream",
     "text": [
      "\n",
      "Sorting dataframe\n"
     ]
    },
    {
     "ename": "TypeError",
     "evalue": "'NoneType' object is not subscriptable",
     "output_type": "error",
     "traceback": [
      "\u001b[0;31m---------------------------------------------------------------------------\u001b[0m",
      "\u001b[0;31mTypeError\u001b[0m                                 Traceback (most recent call last)",
      "\u001b[0;32m/var/tmp/ipykernel_32485/654913416.py\u001b[0m in \u001b[0;36m<module>\u001b[0;34m\u001b[0m\n\u001b[1;32m      4\u001b[0m \u001b[0;34m\u001b[0m\u001b[0m\n\u001b[1;32m      5\u001b[0m \u001b[0;31m# list all data providers in dataframe\u001b[0m\u001b[0;34m\u001b[0m\u001b[0;34m\u001b[0m\u001b[0m\n\u001b[0;32m----> 6\u001b[0;31m \u001b[0mdf\u001b[0m\u001b[0;34m[\u001b[0m\u001b[0;34m'group_name'\u001b[0m\u001b[0;34m]\u001b[0m\u001b[0;34m.\u001b[0m\u001b[0munique\u001b[0m\u001b[0;34m(\u001b[0m\u001b[0;34m)\u001b[0m\u001b[0;34m\u001b[0m\u001b[0;34m\u001b[0m\u001b[0m\n\u001b[0m\u001b[1;32m      7\u001b[0m \u001b[0mprint\u001b[0m\u001b[0;34m(\u001b[0m\u001b[0mdf\u001b[0m\u001b[0;34m[\u001b[0m\u001b[0;34m'group_name'\u001b[0m\u001b[0;34m]\u001b[0m\u001b[0;34m.\u001b[0m\u001b[0munique\u001b[0m\u001b[0;34m(\u001b[0m\u001b[0;34m)\u001b[0m\u001b[0;34m)\u001b[0m\u001b[0;34m\u001b[0m\u001b[0;34m\u001b[0m\u001b[0m\n\u001b[1;32m      8\u001b[0m \u001b[0;34m\u001b[0m\u001b[0m\n",
      "\u001b[0;31mTypeError\u001b[0m: 'NoneType' object is not subscriptable"
     ]
    }
   ],
   "source": [
    "#hubmapbags.utilities.clean()\n",
    "df = hubmapbags.reports.daily(token=token)\n",
    "df\n",
    "\n",
    "# list all data providers in dataframe\n",
    "df['group_name'].unique()\n",
    "print(df['group_name'].unique())\n",
    "\n",
    "#df = df[(df['status']=='Published') & (df['dataset_type']=='Primary') & (df['is_protected']==True)]\n",
    "#df"
   ]
  },
  {
   "cell_type": "code",
   "execution_count": null,
   "id": "f87a3f80-6158-4243-a283-c76cdea978fa",
   "metadata": {},
   "outputs": [],
   "source": [
    "#Format for multiple DPs: df = df[(df['group_name']=='the first group name') | (df['group_name']=='the second group name')]\n",
    "df = df[df['group_name']=='TTD - University of San Diego and City of Hope']\n",
    "\n",
    "#need to figure out why there are duplicate values\n",
    "df = df.drop_duplicates(subset=['hubmap_id'])"
   ]
  },
  {
   "cell_type": "code",
   "execution_count": null,
   "id": "6d6a7a87-1415-4599-8eac-e10615b40d30",
   "metadata": {},
   "outputs": [],
   "source": [
    "hubmap_ids = list(df['hubmap_id'])\n",
    "print(f'List of total datasets to include in study is {len(hubmap_ids)}')\n",
    "print(f'List of total datasets belonging to UCSD TTD is {len(df[df[\"group_name\"]==\"TTD - University of San Diego and City of Hope\"])}')\n",
    "#add one print line for each DP\n",
    "df"
   ]
  },
  {
   "cell_type": "code",
   "execution_count": null,
   "id": "d00c2424-ce18-4ddc-aac7-cad0c51eff37",
   "metadata": {},
   "outputs": [],
   "source": [
    "data = hubmapdbgap.create.submission(hubmap_ids, dbgap_study_id=dbgap_study_id, token=token, prepend_sample_id=True )"
   ]
  }
 ],
 "metadata": {
  "kernelspec": {
   "display_name": "Python 3 (ipykernel)",
   "language": "python",
   "name": "python3"
  },
  "language_info": {
   "codemirror_mode": {
    "name": "ipython",
    "version": 3
   },
   "file_extension": ".py",
   "mimetype": "text/x-python",
   "name": "python",
   "nbconvert_exporter": "python",
   "pygments_lexer": "ipython3",
   "version": "3.9.13"
  }
 },
 "nbformat": 4,
 "nbformat_minor": 5
}
