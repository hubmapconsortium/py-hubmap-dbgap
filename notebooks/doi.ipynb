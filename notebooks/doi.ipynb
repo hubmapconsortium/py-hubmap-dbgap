{
 "cells": [
  {
   "cell_type": "markdown",
   "id": "2731e87a-0860-4377-8aa8-a7281dca9028",
   "metadata": {},
   "source": [
    "# Get DOIs"
   ]
  },
  {
   "cell_type": "code",
   "execution_count": null,
   "id": "abc3d8e7-f120-4bee-9c2a-9bb5906d251e",
   "metadata": {},
   "outputs": [],
   "source": [
    "import hubmapdbgap\n",
    "import hubmapbags\n",
    "import hubmapinventory\n",
    "import pandas as pd\n",
    "from tqdm import tqdm\n",
    "tqdm.pandas()\n",
    "\n",
    "token = 'this-is-my-token'"
   ]
  },
  {
   "cell_type": "markdown",
   "id": "f6ff478e-6335-4f88-bc59-554091d81953",
   "metadata": {},
   "source": [
    "## Get DOI for every published protected datasets"
   ]
  },
  {
   "cell_type": "code",
   "execution_count": null,
   "id": "ff88b62f-1b41-4c74-9452-67280162a1f9",
   "metadata": {},
   "outputs": [],
   "source": [
    "hubmapbags.utilities.clean()\n",
    "df = hubmapbags.reports.daily(token=token)\n",
    "df = df[(df['status']=='Published') & (df['dataset_type']=='Primary') & (df['is_protected']==True)]\n",
    "\n",
    "def __has_doi(hubmap_id):\n",
    "    metadata = hubmapbags.apis.get_dataset_info(hubmap_id, instance='prod', token=token, overwrite=False )\n",
    "    return \"doi_url\" in metadata.keys()\n",
    "    \n",
    "df[\"has_doi\"] = df['hubmap_id'].progress_apply(__has_doi)\n",
    "\n",
    "def __get_doi(hubmap_id):\n",
    "    metadata = hubmapbags.apis.get_dataset_info(hubmap_id, instance='prod', token=token, overwrite=False )\n",
    "    if \"doi_url\" in metadata.keys():\n",
    "        return metadata[\"doi_url\"]\n",
    "    else:\n",
    "        return None\n",
    "    \n",
    "df[\"doi\"] = df['hubmap_id'].progress_apply(__get_doi)\n",
    "\n",
    "df[['uuid','hubmap_id','group_name','is_protected','data_type','has_doi','doi']].to_csv('doi-published-primary-protected.tsv', sep='\\t', index=False)"
   ]
  },
  {
   "cell_type": "markdown",
   "id": "736eccae-a0d6-4df1-8631-00441d1b2c42",
   "metadata": {},
   "source": [
    "## Get DOI for every published non-protected datasets"
   ]
  },
  {
   "cell_type": "code",
   "execution_count": null,
   "id": "86a46f4c-e06b-4662-a2d7-2fc9bf3cdb34",
   "metadata": {},
   "outputs": [],
   "source": [
    "df = hubmapbags.reports.daily(token=token)\n",
    "df = df[(df['status']=='Published') & (df['dataset_type']=='Primary') & (df['is_protected']==False)]\n",
    "\n",
    "def __has_doi(hubmap_id):\n",
    "    metadata = hubmapbags.apis.get_dataset_info(hubmap_id, instance='prod', token=token, overwrite=False )\n",
    "    return \"doi_url\" in metadata.keys()\n",
    "    \n",
    "df[\"has_doi\"] = df['hubmap_id'].progress_apply(__has_doi)\n",
    "\n",
    "def __get_doi(hubmap_id):\n",
    "    metadata = hubmapbags.apis.get_dataset_info(hubmap_id, instance='prod', token=token, overwrite=False )\n",
    "    if \"doi_url\" in metadata.keys():\n",
    "        return metadata[\"doi_url\"]\n",
    "    else:\n",
    "        return None\n",
    "    \n",
    "df[\"doi\"] = df['hubmap_id'].progress_apply(__get_doi)\n",
    "\n",
    "df[['uuid','hubmap_id','group_name','is_protected','data_type','has_doi','doi']].to_csv('doi-published-primary-non-protected.tsv', sep='\\t', index=False)"
   ]
  },
  {
   "cell_type": "code",
   "execution_count": null,
   "id": "b0f4542d-7c0e-43f6-95b0-7e43c952cea2",
   "metadata": {},
   "outputs": [],
   "source": [
    "df[df['has_doi']==False]"
   ]
  }
 ],
 "metadata": {
  "kernelspec": {
   "display_name": "Python 3 (ipykernel)",
   "language": "python",
   "name": "python3"
  },
  "language_info": {
   "codemirror_mode": {
    "name": "ipython",
    "version": 3
   },
   "file_extension": ".py",
   "mimetype": "text/x-python",
   "name": "python",
   "nbconvert_exporter": "python",
   "pygments_lexer": "ipython3",
   "version": "3.9.13"
  }
 },
 "nbformat": 4,
 "nbformat_minor": 5
}
