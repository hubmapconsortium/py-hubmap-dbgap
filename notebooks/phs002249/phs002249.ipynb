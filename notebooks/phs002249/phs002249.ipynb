{
 "cells": [
  {
   "cell_type": "markdown",
   "id": "b92fe570-b5ed-42af-bb2f-bc0d0a835b5f",
   "metadata": {},
   "source": [
    "# phs002249 - University of California San Diego\n",
    "## HubMAP: KULMAP - Human Kidney, Urinary Tract, and Lung Mapping Center\n",
    "The major goal of the Human Kidney, Urinary Tract, and Lung Mapping Center (KULMAP) is to generate multi-omic and spatially resolved molecular anatomical maps of the human bladder, ureter and kidneys (BUKMAP) and the lung airways and parenchyma (LAPMAP) at a single cell resolution. This entails sequencing of the transcriptomes and epigenomes of dissociated single cells in a massively parallel manner. These profiles will then inform on highly multiplexed RNA in situ imaging for spatial mapping of hundreds of molecular targets in the tissue sections, at a subcellular resolution. These spatial molecular maps will serve as scaffolds for computational registration of cell types and the associated transcriptome/chromatin maps to the tissue space. The combination of sequencing single dissociated cells and multiplexed in situ mapping will allow the construction of detailed spatial maps for these large organs.\n",
    "\n",
    "### Principal Investigator\n",
    "* Kun Zhang. University of California, San Diego, La Jolla, CA, USA."
   ]
  },
  {
   "cell_type": "code",
   "execution_count": null,
   "id": "abc3d8e7-f120-4bee-9c2a-9bb5906d251e",
   "metadata": {},
   "outputs": [],
   "source": [
    "import hubmapdbgap\n",
    "import hubmapbags\n",
    "\n",
    "dbgap_study_id = 'phs002249'\n",
    "token = ''"
   ]
  },
  {
   "cell_type": "code",
   "execution_count": null,
   "id": "bfc1e9f8-ac35-4137-a764-b14dad913506",
   "metadata": {},
   "outputs": [],
   "source": [
    "# hubmapbags.utilities.clean()\n",
    "df = hubmapbags.reports.daily(token=token)\n",
    "\n",
    "df = df[(df['status']=='Published') & (df['dataset_type']=='Primary') & (df['is_protected']==True)]\n",
    "df = df[(df['group_name']=='Broad Institute RTI') | (df['group_name']=='University of California San Diego TMC')]\n",
    "\n",
    "#need to figure out why there are duplicate values\n",
    "df = df.drop_duplicates(subset=['hubmap_id'])"
   ]
  },
  {
   "cell_type": "code",
   "execution_count": null,
   "id": "6d6a7a87-1415-4599-8eac-e10615b40d30",
   "metadata": {},
   "outputs": [],
   "source": [
    "hubmap_ids = list(df['hubmap_id'])\n",
    "print(f'List of total datasets to include in study is {len(hubmap_ids)}')\n",
    "print(f'List of total datasets belonging to UCSD is {len(df[df[\"group_name\"]==\"University of California San Diego TMC\"])}')\n",
    "print(f'List of total datasets belonging to Broad is {len(df[df[\"group_name\"]==\"Broad Institute RTI\"])}')\n",
    "df"
   ]
  },
  {
   "cell_type": "code",
   "execution_count": null,
   "id": "d00c2424-ce18-4ddc-aac7-cad0c51eff37",
   "metadata": {},
   "outputs": [],
   "source": [
    "data = hubmapdbgap.create.submission(hubmap_ids, dbgap_study_id=dbgap_study_id, token=token, prepend_sample_id=True )"
   ]
  }
 ],
 "metadata": {
  "kernelspec": {
   "display_name": "Python 3 (ipykernel)",
   "language": "python",
   "name": "python3"
  },
  "language_info": {
   "codemirror_mode": {
    "name": "ipython",
    "version": 3
   },
   "file_extension": ".py",
   "mimetype": "text/x-python",
   "name": "python",
   "nbconvert_exporter": "python",
   "pygments_lexer": "ipython3",
   "version": "3.9.13"
  }
 },
 "nbformat": 4,
 "nbformat_minor": 5
}
